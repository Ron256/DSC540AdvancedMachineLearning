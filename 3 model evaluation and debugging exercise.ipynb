{
 "cells": [
  {
   "cell_type": "markdown",
   "metadata": {
    "id": "vuazeuwA8CXz",
    "tags": []
   },
   "source": [
    "# Machine Learning\n",
    "Ilyas Ustun  \n",
    "@\\_ilyas_ustun\\_  "
   ]
  },
  {
   "cell_type": "markdown",
   "metadata": {
    "id": "vuazeuwA8CXz",
    "tags": []
   },
   "source": [
    "# Model Evaluation\n",
    "- Performance metrics\n",
    "- Single hyper-parameter tuning\n",
    "- Validation curve\n",
    "- Learning curve"
   ]
  },
  {
   "cell_type": "code",
   "execution_count": 1,
   "metadata": {
    "executionInfo": {
     "elapsed": 664,
     "status": "ok",
     "timestamp": 1632358291828,
     "user": {
      "displayName": "Ilyas Ustun",
      "photoUrl": "https://lh3.googleusercontent.com/a/default-user=s64",
      "userId": "07102234121230289250"
     },
     "user_tz": 300
    },
    "id": "SsQ40gx58CX6"
   },
   "outputs": [],
   "source": [
    "import numpy as np\n",
    "import pandas as pd\n",
    "import seaborn as sns\n",
    "import matplotlib.pyplot as plt\n",
    "%matplotlib inline\n",
    "\n",
    "np.set_printoptions(suppress=True)"
   ]
  },
  {
   "cell_type": "code",
   "execution_count": 2,
   "metadata": {
    "executionInfo": {
     "elapsed": 6,
     "status": "ok",
     "timestamp": 1632358291830,
     "user": {
      "displayName": "Ilyas Ustun",
      "photoUrl": "https://lh3.googleusercontent.com/a/default-user=s64",
      "userId": "07102234121230289250"
     },
     "user_tz": 300
    },
    "id": "b3pEMxxCkHoS"
   },
   "outputs": [],
   "source": [
    "import warnings\n",
    "warnings.filterwarnings(action='ignore')"
   ]
  },
  {
   "cell_type": "code",
   "execution_count": 3,
   "metadata": {
    "colab": {
     "base_uri": "https://localhost:8080/",
     "height": 35
    },
    "executionInfo": {
     "elapsed": 177,
     "status": "ok",
     "timestamp": 1632358292002,
     "user": {
      "displayName": "Ilyas Ustun",
      "photoUrl": "https://lh3.googleusercontent.com/a/default-user=s64",
      "userId": "07102234121230289250"
     },
     "user_tz": 300
    },
    "id": "i-bK1dek8CX7",
    "outputId": "90b10041-8f8a-4572-d6d6-17c539f4366b"
   },
   "outputs": [
    {
     "data": {
      "text/plain": [
       "'1.0.2'"
      ]
     },
     "execution_count": 3,
     "metadata": {},
     "output_type": "execute_result"
    }
   ],
   "source": [
    "import sklearn\n",
    "sklearn.__version__"
   ]
  },
  {
   "cell_type": "markdown",
   "metadata": {
    "id": "ZzzSjsa18CX8"
   },
   "source": [
    "Heart Disease data from uci ml website  \n",
    "https://archive.ics.uci.edu/ml/datasets/Heart+Disease"
   ]
  },
  {
   "cell_type": "code",
   "execution_count": 4,
   "metadata": {
    "executionInfo": {
     "elapsed": 3,
     "status": "ok",
     "timestamp": 1632358292004,
     "user": {
      "displayName": "Ilyas Ustun",
      "photoUrl": "https://lh3.googleusercontent.com/a/default-user=s64",
      "userId": "07102234121230289250"
     },
     "user_tz": 300
    },
    "id": "fBwQJ5JP8CX8"
   },
   "outputs": [],
   "source": [
    "col_names = ['age', 'sex', 'cp', 'trestbps', 'chol', 'fbs', 'restecg', \n",
    "             'thalach', 'exang', 'oldpeak', 'slope', 'ca', 'thal','num']\n",
    "\n",
    "# reading a file directly from the internet\n",
    "df = pd.read_csv('https://archive.ics.uci.edu/ml/machine-learning-databases/heart-disease/processed.cleveland.data', \n",
    "                 header=None, names=col_names) "
   ]
  },
  {
   "cell_type": "code",
   "execution_count": 5,
   "metadata": {
    "colab": {
     "base_uri": "https://localhost:8080/",
     "height": 203
    },
    "executionInfo": {
     "elapsed": 136,
     "status": "ok",
     "timestamp": 1632358292138,
     "user": {
      "displayName": "Ilyas Ustun",
      "photoUrl": "https://lh3.googleusercontent.com/a/default-user=s64",
      "userId": "07102234121230289250"
     },
     "user_tz": 300
    },
    "id": "LI5rC2hg8CX8",
    "outputId": "08651e8f-3ceb-44fd-803d-5243b2e7a51a"
   },
   "outputs": [
    {
     "data": {
      "text/html": [
       "<div>\n",
       "<style scoped>\n",
       "    .dataframe tbody tr th:only-of-type {\n",
       "        vertical-align: middle;\n",
       "    }\n",
       "\n",
       "    .dataframe tbody tr th {\n",
       "        vertical-align: top;\n",
       "    }\n",
       "\n",
       "    .dataframe thead th {\n",
       "        text-align: right;\n",
       "    }\n",
       "</style>\n",
       "<table border=\"1\" class=\"dataframe\">\n",
       "  <thead>\n",
       "    <tr style=\"text-align: right;\">\n",
       "      <th></th>\n",
       "      <th>age</th>\n",
       "      <th>sex</th>\n",
       "      <th>cp</th>\n",
       "      <th>trestbps</th>\n",
       "      <th>chol</th>\n",
       "      <th>fbs</th>\n",
       "      <th>restecg</th>\n",
       "      <th>thalach</th>\n",
       "      <th>exang</th>\n",
       "      <th>oldpeak</th>\n",
       "      <th>slope</th>\n",
       "      <th>ca</th>\n",
       "      <th>thal</th>\n",
       "      <th>num</th>\n",
       "    </tr>\n",
       "  </thead>\n",
       "  <tbody>\n",
       "    <tr>\n",
       "      <th>0</th>\n",
       "      <td>63.0</td>\n",
       "      <td>1.0</td>\n",
       "      <td>1.0</td>\n",
       "      <td>145.0</td>\n",
       "      <td>233.0</td>\n",
       "      <td>1.0</td>\n",
       "      <td>2.0</td>\n",
       "      <td>150.0</td>\n",
       "      <td>0.0</td>\n",
       "      <td>2.3</td>\n",
       "      <td>3.0</td>\n",
       "      <td>0.0</td>\n",
       "      <td>6.0</td>\n",
       "      <td>0</td>\n",
       "    </tr>\n",
       "    <tr>\n",
       "      <th>1</th>\n",
       "      <td>67.0</td>\n",
       "      <td>1.0</td>\n",
       "      <td>4.0</td>\n",
       "      <td>160.0</td>\n",
       "      <td>286.0</td>\n",
       "      <td>0.0</td>\n",
       "      <td>2.0</td>\n",
       "      <td>108.0</td>\n",
       "      <td>1.0</td>\n",
       "      <td>1.5</td>\n",
       "      <td>2.0</td>\n",
       "      <td>3.0</td>\n",
       "      <td>3.0</td>\n",
       "      <td>2</td>\n",
       "    </tr>\n",
       "    <tr>\n",
       "      <th>2</th>\n",
       "      <td>67.0</td>\n",
       "      <td>1.0</td>\n",
       "      <td>4.0</td>\n",
       "      <td>120.0</td>\n",
       "      <td>229.0</td>\n",
       "      <td>0.0</td>\n",
       "      <td>2.0</td>\n",
       "      <td>129.0</td>\n",
       "      <td>1.0</td>\n",
       "      <td>2.6</td>\n",
       "      <td>2.0</td>\n",
       "      <td>2.0</td>\n",
       "      <td>7.0</td>\n",
       "      <td>1</td>\n",
       "    </tr>\n",
       "    <tr>\n",
       "      <th>3</th>\n",
       "      <td>37.0</td>\n",
       "      <td>1.0</td>\n",
       "      <td>3.0</td>\n",
       "      <td>130.0</td>\n",
       "      <td>250.0</td>\n",
       "      <td>0.0</td>\n",
       "      <td>0.0</td>\n",
       "      <td>187.0</td>\n",
       "      <td>0.0</td>\n",
       "      <td>3.5</td>\n",
       "      <td>3.0</td>\n",
       "      <td>0.0</td>\n",
       "      <td>3.0</td>\n",
       "      <td>0</td>\n",
       "    </tr>\n",
       "    <tr>\n",
       "      <th>4</th>\n",
       "      <td>41.0</td>\n",
       "      <td>0.0</td>\n",
       "      <td>2.0</td>\n",
       "      <td>130.0</td>\n",
       "      <td>204.0</td>\n",
       "      <td>0.0</td>\n",
       "      <td>2.0</td>\n",
       "      <td>172.0</td>\n",
       "      <td>0.0</td>\n",
       "      <td>1.4</td>\n",
       "      <td>1.0</td>\n",
       "      <td>0.0</td>\n",
       "      <td>3.0</td>\n",
       "      <td>0</td>\n",
       "    </tr>\n",
       "  </tbody>\n",
       "</table>\n",
       "</div>"
      ],
      "text/plain": [
       "    age  sex   cp  trestbps   chol  fbs  restecg  thalach  exang  oldpeak  \\\n",
       "0  63.0  1.0  1.0     145.0  233.0  1.0      2.0    150.0    0.0      2.3   \n",
       "1  67.0  1.0  4.0     160.0  286.0  0.0      2.0    108.0    1.0      1.5   \n",
       "2  67.0  1.0  4.0     120.0  229.0  0.0      2.0    129.0    1.0      2.6   \n",
       "3  37.0  1.0  3.0     130.0  250.0  0.0      0.0    187.0    0.0      3.5   \n",
       "4  41.0  0.0  2.0     130.0  204.0  0.0      2.0    172.0    0.0      1.4   \n",
       "\n",
       "   slope   ca thal  num  \n",
       "0    3.0  0.0  6.0    0  \n",
       "1    2.0  3.0  3.0    2  \n",
       "2    2.0  2.0  7.0    1  \n",
       "3    3.0  0.0  3.0    0  \n",
       "4    1.0  0.0  3.0    0  "
      ]
     },
     "execution_count": 5,
     "metadata": {},
     "output_type": "execute_result"
    }
   ],
   "source": [
    "df.head()"
   ]
  },
  {
   "cell_type": "code",
   "execution_count": 6,
   "metadata": {
    "colab": {
     "base_uri": "https://localhost:8080/"
    },
    "executionInfo": {
     "elapsed": 13,
     "status": "ok",
     "timestamp": 1632358292138,
     "user": {
      "displayName": "Ilyas Ustun",
      "photoUrl": "https://lh3.googleusercontent.com/a/default-user=s64",
      "userId": "07102234121230289250"
     },
     "user_tz": 300
    },
    "id": "poNwyD_v8CX9",
    "outputId": "9464502d-24eb-43c6-c886-edb66da3cb35"
   },
   "outputs": [
    {
     "name": "stdout",
     "output_type": "stream",
     "text": [
      "<class 'pandas.core.frame.DataFrame'>\n",
      "RangeIndex: 303 entries, 0 to 302\n",
      "Data columns (total 14 columns):\n",
      " #   Column    Non-Null Count  Dtype  \n",
      "---  ------    --------------  -----  \n",
      " 0   age       303 non-null    float64\n",
      " 1   sex       303 non-null    float64\n",
      " 2   cp        303 non-null    float64\n",
      " 3   trestbps  303 non-null    float64\n",
      " 4   chol      303 non-null    float64\n",
      " 5   fbs       303 non-null    float64\n",
      " 6   restecg   303 non-null    float64\n",
      " 7   thalach   303 non-null    float64\n",
      " 8   exang     303 non-null    float64\n",
      " 9   oldpeak   303 non-null    float64\n",
      " 10  slope     303 non-null    float64\n",
      " 11  ca        303 non-null    object \n",
      " 12  thal      303 non-null    object \n",
      " 13  num       303 non-null    int64  \n",
      "dtypes: float64(11), int64(1), object(2)\n",
      "memory usage: 33.3+ KB\n"
     ]
    }
   ],
   "source": [
    "df.info()"
   ]
  },
  {
   "cell_type": "code",
   "execution_count": 7,
   "metadata": {
    "colab": {
     "base_uri": "https://localhost:8080/"
    },
    "executionInfo": {
     "elapsed": 10,
     "status": "ok",
     "timestamp": 1632358292139,
     "user": {
      "displayName": "Ilyas Ustun",
      "photoUrl": "https://lh3.googleusercontent.com/a/default-user=s64",
      "userId": "07102234121230289250"
     },
     "user_tz": 300
    },
    "id": "2KDriCdR8CX9",
    "outputId": "04577727-c2d3-4e0d-f5f3-ddef7160df39"
   },
   "outputs": [
    {
     "data": {
      "text/plain": [
       "(303, 14)"
      ]
     },
     "execution_count": 7,
     "metadata": {},
     "output_type": "execute_result"
    }
   ],
   "source": [
    "df.shape"
   ]
  },
  {
   "cell_type": "code",
   "execution_count": null,
   "metadata": {},
   "outputs": [],
   "source": []
  },
  {
   "cell_type": "markdown",
   "metadata": {},
   "source": [
    "## Preprocess data"
   ]
  },
  {
   "cell_type": "code",
   "execution_count": 8,
   "metadata": {},
   "outputs": [
    {
     "data": {
      "text/plain": [
       "array([0, 2, 1, 3, 4], dtype=int64)"
      ]
     },
     "execution_count": 8,
     "metadata": {},
     "output_type": "execute_result"
    }
   ],
   "source": [
    "df.num.unique() # will show you how many unique values are in the data set for the column"
   ]
  },
  {
   "cell_type": "code",
   "execution_count": 9,
   "metadata": {},
   "outputs": [
    {
     "data": {
      "text/plain": [
       "0    164\n",
       "1     55\n",
       "2     36\n",
       "3     35\n",
       "4     13\n",
       "Name: num, dtype: int64"
      ]
     },
     "execution_count": 9,
     "metadata": {},
     "output_type": "execute_result"
    }
   ],
   "source": [
    "df.num.value_counts() # counts how many values are in the variable for each value"
   ]
  },
  {
   "cell_type": "code",
   "execution_count": 10,
   "metadata": {},
   "outputs": [],
   "source": [
    "df['num'] = np.where(df.num==0, 0, 1) # we combine everything as 0 and 1 plus 1, 2, 3, 4 will become 1"
   ]
  },
  {
   "cell_type": "code",
   "execution_count": 11,
   "metadata": {},
   "outputs": [
    {
     "data": {
      "text/plain": [
       "array([0, 1])"
      ]
     },
     "execution_count": 11,
     "metadata": {},
     "output_type": "execute_result"
    }
   ],
   "source": [
    "df.num.unique()"
   ]
  },
  {
   "cell_type": "code",
   "execution_count": 12,
   "metadata": {},
   "outputs": [
    {
     "data": {
      "text/plain": [
       "array(['0.0', '3.0', '2.0', '1.0', '?'], dtype=object)"
      ]
     },
     "execution_count": 12,
     "metadata": {},
     "output_type": "execute_result"
    }
   ],
   "source": [
    "df['ca'].unique()"
   ]
  },
  {
   "cell_type": "markdown",
   "metadata": {},
   "source": [
    "<p>This column has a question mark and this is why it is of object type. </p>"
   ]
  },
  {
   "cell_type": "code",
   "execution_count": 13,
   "metadata": {},
   "outputs": [
    {
     "data": {
      "text/plain": [
       "array(['6.0', '3.0', '7.0', '?'], dtype=object)"
      ]
     },
     "execution_count": 13,
     "metadata": {},
     "output_type": "execute_result"
    }
   ],
   "source": [
    "df.thal.unique()"
   ]
  },
  {
   "cell_type": "markdown",
   "metadata": {},
   "source": [
    "<p>The same that applies to this column and it the same problem.</p>"
   ]
  },
  {
   "cell_type": "markdown",
   "metadata": {},
   "source": [
    "###  The question mark '?' is not a missing value so we shall have to replace the '?' with NAN"
   ]
  },
  {
   "cell_type": "code",
   "execution_count": 14,
   "metadata": {},
   "outputs": [],
   "source": [
    "df.replace('?', np.nan, inplace=True) # '?' has been replaced with nan"
   ]
  },
  {
   "cell_type": "code",
   "execution_count": 15,
   "metadata": {},
   "outputs": [
    {
     "data": {
      "text/plain": [
       "array(['0.0', '3.0', '2.0', '1.0', nan], dtype=object)"
      ]
     },
     "execution_count": 15,
     "metadata": {},
     "output_type": "execute_result"
    }
   ],
   "source": [
    "# to confirm the change\n",
    "df['ca'].unique()"
   ]
  },
  {
   "cell_type": "markdown",
   "metadata": {},
   "source": [
    "<p>Now that we changed the '?' to nan, we can convert the colum into a numeric type.</p>"
   ]
  },
  {
   "cell_type": "code",
   "execution_count": 16,
   "metadata": {},
   "outputs": [],
   "source": [
    "df.ca = df.ca.astype(np.float)"
   ]
  },
  {
   "cell_type": "code",
   "execution_count": 17,
   "metadata": {},
   "outputs": [],
   "source": [
    "df.thal = df.thal.astype(np.float)"
   ]
  },
  {
   "cell_type": "markdown",
   "metadata": {},
   "source": [
    "<p>Now when we chaeck the unique values, everything looks numeric.</p>"
   ]
  },
  {
   "cell_type": "code",
   "execution_count": 18,
   "metadata": {},
   "outputs": [
    {
     "name": "stdout",
     "output_type": "stream",
     "text": [
      "<class 'pandas.core.frame.DataFrame'>\n",
      "RangeIndex: 303 entries, 0 to 302\n",
      "Data columns (total 14 columns):\n",
      " #   Column    Non-Null Count  Dtype  \n",
      "---  ------    --------------  -----  \n",
      " 0   age       303 non-null    float64\n",
      " 1   sex       303 non-null    float64\n",
      " 2   cp        303 non-null    float64\n",
      " 3   trestbps  303 non-null    float64\n",
      " 4   chol      303 non-null    float64\n",
      " 5   fbs       303 non-null    float64\n",
      " 6   restecg   303 non-null    float64\n",
      " 7   thalach   303 non-null    float64\n",
      " 8   exang     303 non-null    float64\n",
      " 9   oldpeak   303 non-null    float64\n",
      " 10  slope     303 non-null    float64\n",
      " 11  ca        299 non-null    float64\n",
      " 12  thal      301 non-null    float64\n",
      " 13  num       303 non-null    int32  \n",
      "dtypes: float64(13), int32(1)\n",
      "memory usage: 32.1 KB\n"
     ]
    }
   ],
   "source": [
    "df.info()"
   ]
  },
  {
   "cell_type": "code",
   "execution_count": 19,
   "metadata": {},
   "outputs": [
    {
     "data": {
      "text/plain": [
       "0    164\n",
       "1    139\n",
       "Name: num, dtype: int64"
      ]
     },
     "execution_count": 19,
     "metadata": {},
     "output_type": "execute_result"
    }
   ],
   "source": [
    "df.num.value_counts() # balanced data"
   ]
  },
  {
   "cell_type": "code",
   "execution_count": null,
   "metadata": {},
   "outputs": [],
   "source": []
  },
  {
   "cell_type": "markdown",
   "metadata": {},
   "source": [
    "<p>This shows that there are 164 points in class 0 and 139 points in class 1.</p>"
   ]
  },
  {
   "cell_type": "code",
   "execution_count": 20,
   "metadata": {},
   "outputs": [
    {
     "data": {
      "text/plain": [
       "age         0\n",
       "sex         0\n",
       "cp          0\n",
       "trestbps    0\n",
       "chol        0\n",
       "fbs         0\n",
       "restecg     0\n",
       "thalach     0\n",
       "exang       0\n",
       "oldpeak     0\n",
       "slope       0\n",
       "ca          4\n",
       "thal        2\n",
       "num         0\n",
       "dtype: int64"
      ]
     },
     "execution_count": 20,
     "metadata": {},
     "output_type": "execute_result"
    }
   ],
   "source": [
    "df.isnull().sum()"
   ]
  },
  {
   "cell_type": "markdown",
   "metadata": {},
   "source": [
    "<p>This shows us the missing values in both ca and thal columns.</p>"
   ]
  },
  {
   "cell_type": "code",
   "execution_count": null,
   "metadata": {},
   "outputs": [],
   "source": []
  },
  {
   "cell_type": "code",
   "execution_count": null,
   "metadata": {},
   "outputs": [],
   "source": []
  },
  {
   "cell_type": "code",
   "execution_count": null,
   "metadata": {},
   "outputs": [],
   "source": []
  },
  {
   "cell_type": "markdown",
   "metadata": {},
   "source": [
    "## Visualize"
   ]
  },
  {
   "cell_type": "markdown",
   "metadata": {
    "id": "1z2DUqH68CYA"
   },
   "source": [
    "Visualization is an important part of data analysis and its value should not be underestimated."
   ]
  },
  {
   "cell_type": "code",
   "execution_count": 21,
   "metadata": {},
   "outputs": [],
   "source": [
    "df_small = df[['age', 'cp', 'chol', 'num']]"
   ]
  },
  {
   "cell_type": "code",
   "execution_count": 22,
   "metadata": {
    "colab": {
     "base_uri": "https://localhost:8080/",
     "height": 842
    },
    "executionInfo": {
     "elapsed": 23146,
     "status": "error",
     "timestamp": 1632349718885,
     "user": {
      "displayName": "Ilyas Ustun",
      "photoUrl": "https://lh3.googleusercontent.com/a/default-user=s64",
      "userId": "07102234121230289250"
     },
     "user_tz": 300
    },
    "id": "b5dtuBZB8CYB",
    "outputId": "10f21e71-9da3-4ed6-9634-78245f5fb3a2"
   },
   "outputs": [
    {
     "data": {
      "text/plain": [
       "<seaborn.axisgrid.PairGrid at 0x1f3d3ff34c0>"
      ]
     },
     "execution_count": 22,
     "metadata": {},
     "output_type": "execute_result"
    },
    {
     "data": {
      "image/png": "[encoded data removed]",
      "text/plain": [
       "<Figure size 582.375x540 with 12 Axes>"
      ]
     },
     "metadata": {
      "needs_background": "light"
     },
     "output_type": "display_data"
    }
   ],
   "source": [
    "g=sns.PairGrid(data=df_small.sample(100), diag_sharey= False, hue='num')\n",
    "# g.map_diag(plt.hist, bins=20, alpha=0.9, density=False, histtype='barstacked')\n",
    "g.map_diag(sns.kdeplot)\n",
    "g.map_upper(plt.scatter, alpha = 0.5)\n",
    "g.map_lower(sns.regplot,fit_reg= True, scatter_kws={'alpha':0.3})\n",
    "\n",
    "g.add_legend()"
   ]
  },
  {
   "cell_type": "markdown",
   "metadata": {},
   "source": [
    "## Train-Test split"
   ]
  },
  {
   "cell_type": "code",
   "execution_count": 23,
   "metadata": {
    "executionInfo": {
     "elapsed": 90,
     "status": "ok",
     "timestamp": 1632358341541,
     "user": {
      "displayName": "Ilyas Ustun",
      "photoUrl": "https://lh3.googleusercontent.com/a/default-user=s64",
      "userId": "07102234121230289250"
     },
     "user_tz": 300
    },
    "id": "IzWsc5Ls8CYB"
   },
   "outputs": [
    {
     "data": {
      "text/html": [
       "<div>\n",
       "<style scoped>\n",
       "    .dataframe tbody tr th:only-of-type {\n",
       "        vertical-align: middle;\n",
       "    }\n",
       "\n",
       "    .dataframe tbody tr th {\n",
       "        vertical-align: top;\n",
       "    }\n",
       "\n",
       "    .dataframe thead th {\n",
       "        text-align: right;\n",
       "    }\n",
       "</style>\n",
       "<table border=\"1\" class=\"dataframe\">\n",
       "  <thead>\n",
       "    <tr style=\"text-align: right;\">\n",
       "      <th></th>\n",
       "      <th>age</th>\n",
       "      <th>sex</th>\n",
       "      <th>cp</th>\n",
       "      <th>trestbps</th>\n",
       "      <th>chol</th>\n",
       "      <th>fbs</th>\n",
       "      <th>restecg</th>\n",
       "      <th>thalach</th>\n",
       "      <th>exang</th>\n",
       "      <th>oldpeak</th>\n",
       "      <th>slope</th>\n",
       "      <th>ca</th>\n",
       "      <th>thal</th>\n",
       "    </tr>\n",
       "  </thead>\n",
       "  <tbody>\n",
       "    <tr>\n",
       "      <th>0</th>\n",
       "      <td>63.0</td>\n",
       "      <td>1.0</td>\n",
       "      <td>1.0</td>\n",
       "      <td>145.0</td>\n",
       "      <td>233.0</td>\n",
       "      <td>1.0</td>\n",
       "      <td>2.0</td>\n",
       "      <td>150.0</td>\n",
       "      <td>0.0</td>\n",
       "      <td>2.3</td>\n",
       "      <td>3.0</td>\n",
       "      <td>0.0</td>\n",
       "      <td>6.0</td>\n",
       "    </tr>\n",
       "    <tr>\n",
       "      <th>1</th>\n",
       "      <td>67.0</td>\n",
       "      <td>1.0</td>\n",
       "      <td>4.0</td>\n",
       "      <td>160.0</td>\n",
       "      <td>286.0</td>\n",
       "      <td>0.0</td>\n",
       "      <td>2.0</td>\n",
       "      <td>108.0</td>\n",
       "      <td>1.0</td>\n",
       "      <td>1.5</td>\n",
       "      <td>2.0</td>\n",
       "      <td>3.0</td>\n",
       "      <td>3.0</td>\n",
       "    </tr>\n",
       "    <tr>\n",
       "      <th>2</th>\n",
       "      <td>67.0</td>\n",
       "      <td>1.0</td>\n",
       "      <td>4.0</td>\n",
       "      <td>120.0</td>\n",
       "      <td>229.0</td>\n",
       "      <td>0.0</td>\n",
       "      <td>2.0</td>\n",
       "      <td>129.0</td>\n",
       "      <td>1.0</td>\n",
       "      <td>2.6</td>\n",
       "      <td>2.0</td>\n",
       "      <td>2.0</td>\n",
       "      <td>7.0</td>\n",
       "    </tr>\n",
       "    <tr>\n",
       "      <th>3</th>\n",
       "      <td>37.0</td>\n",
       "      <td>1.0</td>\n",
       "      <td>3.0</td>\n",
       "      <td>130.0</td>\n",
       "      <td>250.0</td>\n",
       "      <td>0.0</td>\n",
       "      <td>0.0</td>\n",
       "      <td>187.0</td>\n",
       "      <td>0.0</td>\n",
       "      <td>3.5</td>\n",
       "      <td>3.0</td>\n",
       "      <td>0.0</td>\n",
       "      <td>3.0</td>\n",
       "    </tr>\n",
       "    <tr>\n",
       "      <th>4</th>\n",
       "      <td>41.0</td>\n",
       "      <td>0.0</td>\n",
       "      <td>2.0</td>\n",
       "      <td>130.0</td>\n",
       "      <td>204.0</td>\n",
       "      <td>0.0</td>\n",
       "      <td>2.0</td>\n",
       "      <td>172.0</td>\n",
       "      <td>0.0</td>\n",
       "      <td>1.4</td>\n",
       "      <td>1.0</td>\n",
       "      <td>0.0</td>\n",
       "      <td>3.0</td>\n",
       "    </tr>\n",
       "    <tr>\n",
       "      <th>...</th>\n",
       "      <td>...</td>\n",
       "      <td>...</td>\n",
       "      <td>...</td>\n",
       "      <td>...</td>\n",
       "      <td>...</td>\n",
       "      <td>...</td>\n",
       "      <td>...</td>\n",
       "      <td>...</td>\n",
       "      <td>...</td>\n",
       "      <td>...</td>\n",
       "      <td>...</td>\n",
       "      <td>...</td>\n",
       "      <td>...</td>\n",
       "    </tr>\n",
       "    <tr>\n",
       "      <th>298</th>\n",
       "      <td>45.0</td>\n",
       "      <td>1.0</td>\n",
       "      <td>1.0</td>\n",
       "      <td>110.0</td>\n",
       "      <td>264.0</td>\n",
       "      <td>0.0</td>\n",
       "      <td>0.0</td>\n",
       "      <td>132.0</td>\n",
       "      <td>0.0</td>\n",
       "      <td>1.2</td>\n",
       "      <td>2.0</td>\n",
       "      <td>0.0</td>\n",
       "      <td>7.0</td>\n",
       "    </tr>\n",
       "    <tr>\n",
       "      <th>299</th>\n",
       "      <td>68.0</td>\n",
       "      <td>1.0</td>\n",
       "      <td>4.0</td>\n",
       "      <td>144.0</td>\n",
       "      <td>193.0</td>\n",
       "      <td>1.0</td>\n",
       "      <td>0.0</td>\n",
       "      <td>141.0</td>\n",
       "      <td>0.0</td>\n",
       "      <td>3.4</td>\n",
       "      <td>2.0</td>\n",
       "      <td>2.0</td>\n",
       "      <td>7.0</td>\n",
       "    </tr>\n",
       "    <tr>\n",
       "      <th>300</th>\n",
       "      <td>57.0</td>\n",
       "      <td>1.0</td>\n",
       "      <td>4.0</td>\n",
       "      <td>130.0</td>\n",
       "      <td>131.0</td>\n",
       "      <td>0.0</td>\n",
       "      <td>0.0</td>\n",
       "      <td>115.0</td>\n",
       "      <td>1.0</td>\n",
       "      <td>1.2</td>\n",
       "      <td>2.0</td>\n",
       "      <td>1.0</td>\n",
       "      <td>7.0</td>\n",
       "    </tr>\n",
       "    <tr>\n",
       "      <th>301</th>\n",
       "      <td>57.0</td>\n",
       "      <td>0.0</td>\n",
       "      <td>2.0</td>\n",
       "      <td>130.0</td>\n",
       "      <td>236.0</td>\n",
       "      <td>0.0</td>\n",
       "      <td>2.0</td>\n",
       "      <td>174.0</td>\n",
       "      <td>0.0</td>\n",
       "      <td>0.0</td>\n",
       "      <td>2.0</td>\n",
       "      <td>1.0</td>\n",
       "      <td>3.0</td>\n",
       "    </tr>\n",
       "    <tr>\n",
       "      <th>302</th>\n",
       "      <td>38.0</td>\n",
       "      <td>1.0</td>\n",
       "      <td>3.0</td>\n",
       "      <td>138.0</td>\n",
       "      <td>175.0</td>\n",
       "      <td>0.0</td>\n",
       "      <td>0.0</td>\n",
       "      <td>173.0</td>\n",
       "      <td>0.0</td>\n",
       "      <td>0.0</td>\n",
       "      <td>1.0</td>\n",
       "      <td>NaN</td>\n",
       "      <td>3.0</td>\n",
       "    </tr>\n",
       "  </tbody>\n",
       "</table>\n",
       "<p>303 rows × 13 columns</p>\n",
       "</div>"
      ],
      "text/plain": [
       "      age  sex   cp  trestbps   chol  fbs  restecg  thalach  exang  oldpeak  \\\n",
       "0    63.0  1.0  1.0     145.0  233.0  1.0      2.0    150.0    0.0      2.3   \n",
       "1    67.0  1.0  4.0     160.0  286.0  0.0      2.0    108.0    1.0      1.5   \n",
       "2    67.0  1.0  4.0     120.0  229.0  0.0      2.0    129.0    1.0      2.6   \n",
       "3    37.0  1.0  3.0     130.0  250.0  0.0      0.0    187.0    0.0      3.5   \n",
       "4    41.0  0.0  2.0     130.0  204.0  0.0      2.0    172.0    0.0      1.4   \n",
       "..    ...  ...  ...       ...    ...  ...      ...      ...    ...      ...   \n",
       "298  45.0  1.0  1.0     110.0  264.0  0.0      0.0    132.0    0.0      1.2   \n",
       "299  68.0  1.0  4.0     144.0  193.0  1.0      0.0    141.0    0.0      3.4   \n",
       "300  57.0  1.0  4.0     130.0  131.0  0.0      0.0    115.0    1.0      1.2   \n",
       "301  57.0  0.0  2.0     130.0  236.0  0.0      2.0    174.0    0.0      0.0   \n",
       "302  38.0  1.0  3.0     138.0  175.0  0.0      0.0    173.0    0.0      0.0   \n",
       "\n",
       "     slope   ca  thal  \n",
       "0      3.0  0.0   6.0  \n",
       "1      2.0  3.0   3.0  \n",
       "2      2.0  2.0   7.0  \n",
       "3      3.0  0.0   3.0  \n",
       "4      1.0  0.0   3.0  \n",
       "..     ...  ...   ...  \n",
       "298    2.0  0.0   7.0  \n",
       "299    2.0  2.0   7.0  \n",
       "300    2.0  1.0   7.0  \n",
       "301    2.0  1.0   3.0  \n",
       "302    1.0  NaN   3.0  \n",
       "\n",
       "[303 rows x 13 columns]"
      ]
     },
     "execution_count": 23,
     "metadata": {},
     "output_type": "execute_result"
    }
   ],
   "source": [
    "X = df.drop('num', axis=1)\n",
    "X"
   ]
  },
  {
   "cell_type": "code",
   "execution_count": 24,
   "metadata": {
    "executionInfo": {
     "elapsed": 89,
     "status": "ok",
     "timestamp": 1632358352583,
     "user": {
      "displayName": "Ilyas Ustun",
      "photoUrl": "https://lh3.googleusercontent.com/a/default-user=s64",
      "userId": "07102234121230289250"
     },
     "user_tz": 300
    },
    "id": "KbJjcdDz8CYB"
   },
   "outputs": [
    {
     "data": {
      "text/plain": [
       "0      0\n",
       "1      1\n",
       "2      1\n",
       "3      0\n",
       "4      0\n",
       "      ..\n",
       "298    1\n",
       "299    1\n",
       "300    1\n",
       "301    1\n",
       "302    0\n",
       "Name: num, Length: 303, dtype: int32"
      ]
     },
     "execution_count": 24,
     "metadata": {},
     "output_type": "execute_result"
    }
   ],
   "source": [
    "y = df.num\n",
    "y"
   ]
  },
  {
   "cell_type": "code",
   "execution_count": 25,
   "metadata": {
    "executionInfo": {
     "elapsed": 85,
     "status": "ok",
     "timestamp": 1632358356370,
     "user": {
      "displayName": "Ilyas Ustun",
      "photoUrl": "https://lh3.googleusercontent.com/a/default-user=s64",
      "userId": "07102234121230289250"
     },
     "user_tz": 300
    },
    "id": "UerygfYU8CYB"
   },
   "outputs": [],
   "source": [
    "from sklearn.model_selection import train_test_split\n",
    "# test_size of 0.2 defines that I want 20% to go into my testing\n",
    "# random_state with a number defines that you have the same result.\n",
    "# stratify split \n",
    "x_train, x_test, y_train, y_test = train_test_split(X, y, test_size=0.2, random_state=20, stratify=y) "
   ]
  },
  {
   "cell_type": "code",
   "execution_count": 26,
   "metadata": {
    "executionInfo": {
     "elapsed": 1,
     "status": "ok",
     "timestamp": 1632358356975,
     "user": {
      "displayName": "Ilyas Ustun",
      "photoUrl": "https://lh3.googleusercontent.com/a/default-user=s64",
      "userId": "07102234121230289250"
     },
     "user_tz": 300
    },
    "id": "lqhcuXPY8CYB"
   },
   "outputs": [
    {
     "name": "stdout",
     "output_type": "stream",
     "text": [
      "<class 'pandas.core.frame.DataFrame'>\n",
      "Int64Index: 242 entries, 210 to 21\n",
      "Data columns (total 13 columns):\n",
      " #   Column    Non-Null Count  Dtype  \n",
      "---  ------    --------------  -----  \n",
      " 0   age       242 non-null    float64\n",
      " 1   sex       242 non-null    float64\n",
      " 2   cp        242 non-null    float64\n",
      " 3   trestbps  242 non-null    float64\n",
      " 4   chol      242 non-null    float64\n",
      " 5   fbs       242 non-null    float64\n",
      " 6   restecg   242 non-null    float64\n",
      " 7   thalach   242 non-null    float64\n",
      " 8   exang     242 non-null    float64\n",
      " 9   oldpeak   242 non-null    float64\n",
      " 10  slope     242 non-null    float64\n",
      " 11  ca        240 non-null    float64\n",
      " 12  thal      240 non-null    float64\n",
      "dtypes: float64(13)\n",
      "memory usage: 26.5 KB\n"
     ]
    }
   ],
   "source": [
    "pd.DataFrame(x_train).info()"
   ]
  },
  {
   "cell_type": "code",
   "execution_count": 27,
   "metadata": {
    "colab": {
     "base_uri": "https://localhost:8080/"
    },
    "executionInfo": {
     "elapsed": 91,
     "status": "ok",
     "timestamp": 1632358358712,
     "user": {
      "displayName": "Ilyas Ustun",
      "photoUrl": "https://lh3.googleusercontent.com/a/default-user=s64",
      "userId": "07102234121230289250"
     },
     "user_tz": 300
    },
    "id": "IEPD6Eyd8CYC",
    "outputId": "13a2ebd1-11ba-460a-f6da-46a2a6d3cc5d"
   },
   "outputs": [
    {
     "name": "stdout",
     "output_type": "stream",
     "text": [
      "<class 'pandas.core.frame.DataFrame'>\n",
      "Int64Index: 242 entries, 210 to 21\n",
      "Data columns (total 1 columns):\n",
      " #   Column  Non-Null Count  Dtype\n",
      "---  ------  --------------  -----\n",
      " 0   num     242 non-null    int32\n",
      "dtypes: int32(1)\n",
      "memory usage: 2.8 KB\n"
     ]
    }
   ],
   "source": [
    "pd.DataFrame(y_train).info()"
   ]
  },
  {
   "cell_type": "code",
   "execution_count": 28,
   "metadata": {},
   "outputs": [
    {
     "name": "stdout",
     "output_type": "stream",
     "text": [
      "<class 'pandas.core.frame.DataFrame'>\n",
      "Int64Index: 61 entries, 143 to 135\n",
      "Data columns (total 13 columns):\n",
      " #   Column    Non-Null Count  Dtype  \n",
      "---  ------    --------------  -----  \n",
      " 0   age       61 non-null     float64\n",
      " 1   sex       61 non-null     float64\n",
      " 2   cp        61 non-null     float64\n",
      " 3   trestbps  61 non-null     float64\n",
      " 4   chol      61 non-null     float64\n",
      " 5   fbs       61 non-null     float64\n",
      " 6   restecg   61 non-null     float64\n",
      " 7   thalach   61 non-null     float64\n",
      " 8   exang     61 non-null     float64\n",
      " 9   oldpeak   61 non-null     float64\n",
      " 10  slope     61 non-null     float64\n",
      " 11  ca        59 non-null     float64\n",
      " 12  thal      61 non-null     float64\n",
      "dtypes: float64(13)\n",
      "memory usage: 6.7 KB\n"
     ]
    }
   ],
   "source": [
    "pd.DataFrame(x_test).info()"
   ]
  },
  {
   "cell_type": "code",
   "execution_count": 29,
   "metadata": {},
   "outputs": [
    {
     "name": "stdout",
     "output_type": "stream",
     "text": [
      "<class 'pandas.core.frame.DataFrame'>\n",
      "Int64Index: 61 entries, 143 to 135\n",
      "Data columns (total 1 columns):\n",
      " #   Column  Non-Null Count  Dtype\n",
      "---  ------  --------------  -----\n",
      " 0   num     61 non-null     int32\n",
      "dtypes: int32(1)\n",
      "memory usage: 732.0 bytes\n"
     ]
    }
   ],
   "source": [
    "pd.DataFrame(y_test).info()"
   ]
  },
  {
   "cell_type": "markdown",
   "metadata": {},
   "source": [
    "<p>We just checked how our splits are.</p>"
   ]
  },
  {
   "cell_type": "markdown",
   "metadata": {
    "id": "T2_I6A158CYC"
   },
   "source": [
    "## Imputing NaN"
   ]
  },
  {
   "cell_type": "code",
   "execution_count": 30,
   "metadata": {},
   "outputs": [],
   "source": [
    "from sklearn.impute import SimpleImputer"
   ]
  },
  {
   "cell_type": "markdown",
   "metadata": {},
   "source": [
    "<p>ca and thal variables are categorical. So, when we use simple imputation, the correct method is to use then most_frequent occurence.</p>"
   ]
  },
  {
   "cell_type": "code",
   "execution_count": 31,
   "metadata": {},
   "outputs": [],
   "source": [
    "# here we instanciate this simpleImputer.\n",
    "imputer = SimpleImputer(strategy='most_frequent') "
   ]
  },
  {
   "cell_type": "code",
   "execution_count": 32,
   "metadata": {},
   "outputs": [
    {
     "data": {
      "text/plain": [
       "SimpleImputer(strategy='most_frequent')"
      ]
     },
     "execution_count": 32,
     "metadata": {},
     "output_type": "execute_result"
    }
   ],
   "source": [
    "# we fit it on the training data.\n",
    "imputer.fit(x_train)"
   ]
  },
  {
   "cell_type": "code",
   "execution_count": 33,
   "metadata": {},
   "outputs": [],
   "source": [
    "# it also has fit and transform functions\n",
    "# it makes the necessary transformations.\n",
    "x_train = imputer.transform(x_train)\n",
    "x_test = imputer.transform(x_test)"
   ]
  },
  {
   "cell_type": "markdown",
   "metadata": {},
   "source": [
    "<p>All these changes occur on the variables ca and thal with missing values.</p>"
   ]
  },
  {
   "cell_type": "code",
   "execution_count": 34,
   "metadata": {},
   "outputs": [
    {
     "data": {
      "text/plain": [
       "Index(['age', 'sex', 'cp', 'trestbps', 'chol', 'fbs', 'restecg', 'thalach',\n",
       "       'exang', 'oldpeak', 'slope', 'ca', 'thal'],\n",
       "      dtype='object')"
      ]
     },
     "execution_count": 34,
     "metadata": {},
     "output_type": "execute_result"
    }
   ],
   "source": [
    "X.columns"
   ]
  },
  {
   "cell_type": "code",
   "execution_count": 35,
   "metadata": {},
   "outputs": [
    {
     "name": "stdout",
     "output_type": "stream",
     "text": [
      "<class 'pandas.core.frame.DataFrame'>\n",
      "RangeIndex: 242 entries, 0 to 241\n",
      "Data columns (total 13 columns):\n",
      " #   Column    Non-Null Count  Dtype  \n",
      "---  ------    --------------  -----  \n",
      " 0   age       242 non-null    float64\n",
      " 1   sex       242 non-null    float64\n",
      " 2   cp        242 non-null    float64\n",
      " 3   trestbps  242 non-null    float64\n",
      " 4   chol      242 non-null    float64\n",
      " 5   fbs       242 non-null    float64\n",
      " 6   restecg   242 non-null    float64\n",
      " 7   thalach   242 non-null    float64\n",
      " 8   exang     242 non-null    float64\n",
      " 9   oldpeak   242 non-null    float64\n",
      " 10  slope     242 non-null    float64\n",
      " 11  ca        242 non-null    float64\n",
      " 12  thal      242 non-null    float64\n",
      "dtypes: float64(13)\n",
      "memory usage: 24.7 KB\n"
     ]
    }
   ],
   "source": [
    "# converting x_train into a pandas Data Frame\n",
    "x_train = pd.DataFrame(x_train, columns=X.columns)\n",
    "x_train.info()"
   ]
  },
  {
   "cell_type": "code",
   "execution_count": 36,
   "metadata": {},
   "outputs": [
    {
     "name": "stdout",
     "output_type": "stream",
     "text": [
      "<class 'pandas.core.frame.DataFrame'>\n",
      "RangeIndex: 61 entries, 0 to 60\n",
      "Data columns (total 13 columns):\n",
      " #   Column    Non-Null Count  Dtype  \n",
      "---  ------    --------------  -----  \n",
      " 0   age       61 non-null     float64\n",
      " 1   sex       61 non-null     float64\n",
      " 2   cp        61 non-null     float64\n",
      " 3   trestbps  61 non-null     float64\n",
      " 4   chol      61 non-null     float64\n",
      " 5   fbs       61 non-null     float64\n",
      " 6   restecg   61 non-null     float64\n",
      " 7   thalach   61 non-null     float64\n",
      " 8   exang     61 non-null     float64\n",
      " 9   oldpeak   61 non-null     float64\n",
      " 10  slope     61 non-null     float64\n",
      " 11  ca        61 non-null     float64\n",
      " 12  thal      61 non-null     float64\n",
      "dtypes: float64(13)\n",
      "memory usage: 6.3 KB\n"
     ]
    }
   ],
   "source": [
    "# converting x_test into a pandas Data Frame\n",
    "x_test = pd.DataFrame(x_test, columns=X.columns)\n",
    "x_test.info()"
   ]
  },
  {
   "cell_type": "markdown",
   "metadata": {},
   "source": [
    "<p>Checking our data frames shows that there are no more missing values.</p>"
   ]
  },
  {
   "cell_type": "markdown",
   "metadata": {
    "id": "vMSV77pa8CYD"
   },
   "source": [
    "## One Hot Encoding"
   ]
  },
  {
   "cell_type": "markdown",
   "metadata": {},
   "source": [
    "### 1. Dummy encoding using pandas"
   ]
  },
  {
   "cell_type": "markdown",
   "metadata": {},
   "source": [
    "The train test split should be done after the one hot encoding using pandas.  \n",
    "We will merge the train and test sets, and split them back into train and test sets."
   ]
  },
  {
   "cell_type": "code",
   "execution_count": 37,
   "metadata": {},
   "outputs": [],
   "source": [
    "x_train_dummy = x_train.copy() # creating new data frames\n",
    "x_test_dummy = x_test.copy()\n",
    "\n",
    "# we shall make use of these columns\n",
    "x_train_dummy['train_test'] = 'train' # we create new columns\n",
    "x_test_dummy['train_test'] = 'test'"
   ]
  },
  {
   "cell_type": "code",
   "execution_count": 38,
   "metadata": {},
   "outputs": [],
   "source": [
    "# axis = 0 means take first the training set and put the test set under neath it\n",
    "x_combi = pd.concat([x_train_dummy, x_test_dummy], axis = 0) "
   ]
  },
  {
   "cell_type": "code",
   "execution_count": 39,
   "metadata": {},
   "outputs": [],
   "source": [
    "# 'cp', 'restecg', 'slope', 'thal' are categorical variables which need to be converted into dummy variables\n",
    "x_combi = pd.get_dummies(data=x_combi, columns=['cp', 'restecg', 'slope', 'thal']) "
   ]
  },
  {
   "cell_type": "code",
   "execution_count": 40,
   "metadata": {},
   "outputs": [
    {
     "data": {
      "text/html": [
       "<div>\n",
       "<style scoped>\n",
       "    .dataframe tbody tr th:only-of-type {\n",
       "        vertical-align: middle;\n",
       "    }\n",
       "\n",
       "    .dataframe tbody tr th {\n",
       "        vertical-align: top;\n",
       "    }\n",
       "\n",
       "    .dataframe thead th {\n",
       "        text-align: right;\n",
       "    }\n",
       "</style>\n",
       "<table border=\"1\" class=\"dataframe\">\n",
       "  <thead>\n",
       "    <tr style=\"text-align: right;\">\n",
       "      <th></th>\n",
       "      <th>age</th>\n",
       "      <th>sex</th>\n",
       "      <th>trestbps</th>\n",
       "      <th>chol</th>\n",
       "      <th>fbs</th>\n",
       "      <th>thalach</th>\n",
       "      <th>exang</th>\n",
       "      <th>oldpeak</th>\n",
       "      <th>ca</th>\n",
       "      <th>train_test</th>\n",
       "      <th>...</th>\n",
       "      <th>cp_4.0</th>\n",
       "      <th>restecg_0.0</th>\n",
       "      <th>restecg_1.0</th>\n",
       "      <th>restecg_2.0</th>\n",
       "      <th>slope_1.0</th>\n",
       "      <th>slope_2.0</th>\n",
       "      <th>slope_3.0</th>\n",
       "      <th>thal_3.0</th>\n",
       "      <th>thal_6.0</th>\n",
       "      <th>thal_7.0</th>\n",
       "    </tr>\n",
       "  </thead>\n",
       "  <tbody>\n",
       "    <tr>\n",
       "      <th>0</th>\n",
       "      <td>37.0</td>\n",
       "      <td>0.0</td>\n",
       "      <td>120.0</td>\n",
       "      <td>215.0</td>\n",
       "      <td>0.0</td>\n",
       "      <td>170.0</td>\n",
       "      <td>0.0</td>\n",
       "      <td>0.0</td>\n",
       "      <td>0.0</td>\n",
       "      <td>train</td>\n",
       "      <td>...</td>\n",
       "      <td>0</td>\n",
       "      <td>1</td>\n",
       "      <td>0</td>\n",
       "      <td>0</td>\n",
       "      <td>1</td>\n",
       "      <td>0</td>\n",
       "      <td>0</td>\n",
       "      <td>1</td>\n",
       "      <td>0</td>\n",
       "      <td>0</td>\n",
       "    </tr>\n",
       "    <tr>\n",
       "      <th>1</th>\n",
       "      <td>57.0</td>\n",
       "      <td>0.0</td>\n",
       "      <td>140.0</td>\n",
       "      <td>241.0</td>\n",
       "      <td>0.0</td>\n",
       "      <td>123.0</td>\n",
       "      <td>1.0</td>\n",
       "      <td>0.2</td>\n",
       "      <td>0.0</td>\n",
       "      <td>train</td>\n",
       "      <td>...</td>\n",
       "      <td>1</td>\n",
       "      <td>1</td>\n",
       "      <td>0</td>\n",
       "      <td>0</td>\n",
       "      <td>0</td>\n",
       "      <td>1</td>\n",
       "      <td>0</td>\n",
       "      <td>0</td>\n",
       "      <td>0</td>\n",
       "      <td>1</td>\n",
       "    </tr>\n",
       "    <tr>\n",
       "      <th>2</th>\n",
       "      <td>69.0</td>\n",
       "      <td>1.0</td>\n",
       "      <td>160.0</td>\n",
       "      <td>234.0</td>\n",
       "      <td>1.0</td>\n",
       "      <td>131.0</td>\n",
       "      <td>0.0</td>\n",
       "      <td>0.1</td>\n",
       "      <td>1.0</td>\n",
       "      <td>train</td>\n",
       "      <td>...</td>\n",
       "      <td>0</td>\n",
       "      <td>0</td>\n",
       "      <td>0</td>\n",
       "      <td>1</td>\n",
       "      <td>0</td>\n",
       "      <td>1</td>\n",
       "      <td>0</td>\n",
       "      <td>1</td>\n",
       "      <td>0</td>\n",
       "      <td>0</td>\n",
       "    </tr>\n",
       "    <tr>\n",
       "      <th>3</th>\n",
       "      <td>43.0</td>\n",
       "      <td>1.0</td>\n",
       "      <td>120.0</td>\n",
       "      <td>177.0</td>\n",
       "      <td>0.0</td>\n",
       "      <td>120.0</td>\n",
       "      <td>1.0</td>\n",
       "      <td>2.5</td>\n",
       "      <td>0.0</td>\n",
       "      <td>train</td>\n",
       "      <td>...</td>\n",
       "      <td>1</td>\n",
       "      <td>0</td>\n",
       "      <td>0</td>\n",
       "      <td>1</td>\n",
       "      <td>0</td>\n",
       "      <td>1</td>\n",
       "      <td>0</td>\n",
       "      <td>0</td>\n",
       "      <td>0</td>\n",
       "      <td>1</td>\n",
       "    </tr>\n",
       "    <tr>\n",
       "      <th>4</th>\n",
       "      <td>58.0</td>\n",
       "      <td>0.0</td>\n",
       "      <td>130.0</td>\n",
       "      <td>197.0</td>\n",
       "      <td>0.0</td>\n",
       "      <td>131.0</td>\n",
       "      <td>0.0</td>\n",
       "      <td>0.6</td>\n",
       "      <td>0.0</td>\n",
       "      <td>train</td>\n",
       "      <td>...</td>\n",
       "      <td>1</td>\n",
       "      <td>1</td>\n",
       "      <td>0</td>\n",
       "      <td>0</td>\n",
       "      <td>0</td>\n",
       "      <td>1</td>\n",
       "      <td>0</td>\n",
       "      <td>1</td>\n",
       "      <td>0</td>\n",
       "      <td>0</td>\n",
       "    </tr>\n",
       "  </tbody>\n",
       "</table>\n",
       "<p>5 rows × 23 columns</p>\n",
       "</div>"
      ],
      "text/plain": [
       "    age  sex  trestbps   chol  fbs  thalach  exang  oldpeak   ca train_test  \\\n",
       "0  37.0  0.0     120.0  215.0  0.0    170.0    0.0      0.0  0.0      train   \n",
       "1  57.0  0.0     140.0  241.0  0.0    123.0    1.0      0.2  0.0      train   \n",
       "2  69.0  1.0     160.0  234.0  1.0    131.0    0.0      0.1  1.0      train   \n",
       "3  43.0  1.0     120.0  177.0  0.0    120.0    1.0      2.5  0.0      train   \n",
       "4  58.0  0.0     130.0  197.0  0.0    131.0    0.0      0.6  0.0      train   \n",
       "\n",
       "   ...  cp_4.0  restecg_0.0  restecg_1.0  restecg_2.0  slope_1.0  slope_2.0  \\\n",
       "0  ...       0            1            0            0          1          0   \n",
       "1  ...       1            1            0            0          0          1   \n",
       "2  ...       0            0            0            1          0          1   \n",
       "3  ...       1            0            0            1          0          1   \n",
       "4  ...       1            1            0            0          0          1   \n",
       "\n",
       "   slope_3.0  thal_3.0  thal_6.0  thal_7.0  \n",
       "0          0         1         0         0  \n",
       "1          0         0         0         1  \n",
       "2          0         1         0         0  \n",
       "3          0         0         0         1  \n",
       "4          0         1         0         0  \n",
       "\n",
       "[5 rows x 23 columns]"
      ]
     },
     "execution_count": 40,
     "metadata": {},
     "output_type": "execute_result"
    }
   ],
   "source": [
    "x_combi.head() # all these columns have cp1, cp2, cp3, e.tc"
   ]
  },
  {
   "cell_type": "code",
   "execution_count": 41,
   "metadata": {},
   "outputs": [],
   "source": [
    "x_train_dummy = x_combi.loc[x_combi['train_test'] == 'train', :]\n",
    "x_test_dummy = x_combi.loc[x_combi['train_test'] == 'test', :]"
   ]
  },
  {
   "cell_type": "markdown",
   "metadata": {},
   "source": [
    "<p>We are using the train_test column to get back the train and test sets.</p>"
   ]
  },
  {
   "cell_type": "code",
   "execution_count": 42,
   "metadata": {},
   "outputs": [],
   "source": [
    "x_train_dummy = x_train_dummy.drop('train_test', axis=1)\n",
    "x_test_dummy = x_test_dummy.drop('train_test', axis=1)"
   ]
  },
  {
   "cell_type": "code",
   "execution_count": 43,
   "metadata": {},
   "outputs": [
    {
     "data": {
      "text/plain": [
       "Index(['age', 'sex', 'trestbps', 'chol', 'fbs', 'thalach', 'exang', 'oldpeak',\n",
       "       'ca', 'cp_1.0', 'cp_2.0', 'cp_3.0', 'cp_4.0', 'restecg_0.0',\n",
       "       'restecg_1.0', 'restecg_2.0', 'slope_1.0', 'slope_2.0', 'slope_3.0',\n",
       "       'thal_3.0', 'thal_6.0', 'thal_7.0'],\n",
       "      dtype='object')"
      ]
     },
     "execution_count": 43,
     "metadata": {},
     "output_type": "execute_result"
    }
   ],
   "source": [
    "x_train_dummy.columns"
   ]
  },
  {
   "cell_type": "code",
   "execution_count": 44,
   "metadata": {},
   "outputs": [
    {
     "data": {
      "text/plain": [
       "Index(['age', 'sex', 'trestbps', 'chol', 'fbs', 'thalach', 'exang', 'oldpeak',\n",
       "       'ca', 'cp_1.0', 'cp_2.0', 'cp_3.0', 'cp_4.0', 'restecg_0.0',\n",
       "       'restecg_1.0', 'restecg_2.0', 'slope_1.0', 'slope_2.0', 'slope_3.0',\n",
       "       'thal_3.0', 'thal_6.0', 'thal_7.0'],\n",
       "      dtype='object')"
      ]
     },
     "execution_count": 44,
     "metadata": {},
     "output_type": "execute_result"
    }
   ],
   "source": [
    "x_test_dummy.columns"
   ]
  },
  {
   "cell_type": "markdown",
   "metadata": {},
   "source": [
    "<p>This is one way to do the encoding which is easier.</p>"
   ]
  },
  {
   "cell_type": "markdown",
   "metadata": {},
   "source": [
    "# 2. onehot encoding using variable names in sklearn"
   ]
  },
  {
   "cell_type": "code",
   "execution_count": 45,
   "metadata": {},
   "outputs": [],
   "source": [
    "from sklearn.preprocessing import OneHotEncoder\n",
    "from sklearn.compose import make_column_transformer, ColumnTransformer"
   ]
  },
  {
   "cell_type": "code",
   "execution_count": 46,
   "metadata": {},
   "outputs": [],
   "source": [
    "ohe = OneHotEncoder() # instanciate an encoder object"
   ]
  },
  {
   "cell_type": "code",
   "execution_count": 47,
   "metadata": {},
   "outputs": [
    {
     "data": {
      "text/plain": [
       "Index(['age', 'sex', 'cp', 'trestbps', 'chol', 'fbs', 'restecg', 'thalach',\n",
       "       'exang', 'oldpeak', 'slope', 'ca', 'thal', 'num'],\n",
       "      dtype='object')"
      ]
     },
     "execution_count": 47,
     "metadata": {},
     "output_type": "execute_result"
    }
   ],
   "source": [
    "df.columns"
   ]
  },
  {
   "cell_type": "code",
   "execution_count": 48,
   "metadata": {},
   "outputs": [
    {
     "data": {
      "text/html": [
       "<div>\n",
       "<style scoped>\n",
       "    .dataframe tbody tr th:only-of-type {\n",
       "        vertical-align: middle;\n",
       "    }\n",
       "\n",
       "    .dataframe tbody tr th {\n",
       "        vertical-align: top;\n",
       "    }\n",
       "\n",
       "    .dataframe thead th {\n",
       "        text-align: right;\n",
       "    }\n",
       "</style>\n",
       "<table border=\"1\" class=\"dataframe\">\n",
       "  <thead>\n",
       "    <tr style=\"text-align: right;\">\n",
       "      <th></th>\n",
       "      <th>age</th>\n",
       "      <th>sex</th>\n",
       "      <th>cp</th>\n",
       "      <th>trestbps</th>\n",
       "      <th>chol</th>\n",
       "      <th>fbs</th>\n",
       "      <th>restecg</th>\n",
       "      <th>thalach</th>\n",
       "      <th>exang</th>\n",
       "      <th>oldpeak</th>\n",
       "      <th>slope</th>\n",
       "      <th>ca</th>\n",
       "      <th>thal</th>\n",
       "      <th>num</th>\n",
       "    </tr>\n",
       "  </thead>\n",
       "  <tbody>\n",
       "    <tr>\n",
       "      <th>0</th>\n",
       "      <td>63.0</td>\n",
       "      <td>1.0</td>\n",
       "      <td>1.0</td>\n",
       "      <td>145.0</td>\n",
       "      <td>233.0</td>\n",
       "      <td>1.0</td>\n",
       "      <td>2.0</td>\n",
       "      <td>150.0</td>\n",
       "      <td>0.0</td>\n",
       "      <td>2.3</td>\n",
       "      <td>3.0</td>\n",
       "      <td>0.0</td>\n",
       "      <td>6.0</td>\n",
       "      <td>0</td>\n",
       "    </tr>\n",
       "    <tr>\n",
       "      <th>1</th>\n",
       "      <td>67.0</td>\n",
       "      <td>1.0</td>\n",
       "      <td>4.0</td>\n",
       "      <td>160.0</td>\n",
       "      <td>286.0</td>\n",
       "      <td>0.0</td>\n",
       "      <td>2.0</td>\n",
       "      <td>108.0</td>\n",
       "      <td>1.0</td>\n",
       "      <td>1.5</td>\n",
       "      <td>2.0</td>\n",
       "      <td>3.0</td>\n",
       "      <td>3.0</td>\n",
       "      <td>1</td>\n",
       "    </tr>\n",
       "    <tr>\n",
       "      <th>2</th>\n",
       "      <td>67.0</td>\n",
       "      <td>1.0</td>\n",
       "      <td>4.0</td>\n",
       "      <td>120.0</td>\n",
       "      <td>229.0</td>\n",
       "      <td>0.0</td>\n",
       "      <td>2.0</td>\n",
       "      <td>129.0</td>\n",
       "      <td>1.0</td>\n",
       "      <td>2.6</td>\n",
       "      <td>2.0</td>\n",
       "      <td>2.0</td>\n",
       "      <td>7.0</td>\n",
       "      <td>1</td>\n",
       "    </tr>\n",
       "    <tr>\n",
       "      <th>3</th>\n",
       "      <td>37.0</td>\n",
       "      <td>1.0</td>\n",
       "      <td>3.0</td>\n",
       "      <td>130.0</td>\n",
       "      <td>250.0</td>\n",
       "      <td>0.0</td>\n",
       "      <td>0.0</td>\n",
       "      <td>187.0</td>\n",
       "      <td>0.0</td>\n",
       "      <td>3.5</td>\n",
       "      <td>3.0</td>\n",
       "      <td>0.0</td>\n",
       "      <td>3.0</td>\n",
       "      <td>0</td>\n",
       "    </tr>\n",
       "    <tr>\n",
       "      <th>4</th>\n",
       "      <td>41.0</td>\n",
       "      <td>0.0</td>\n",
       "      <td>2.0</td>\n",
       "      <td>130.0</td>\n",
       "      <td>204.0</td>\n",
       "      <td>0.0</td>\n",
       "      <td>2.0</td>\n",
       "      <td>172.0</td>\n",
       "      <td>0.0</td>\n",
       "      <td>1.4</td>\n",
       "      <td>1.0</td>\n",
       "      <td>0.0</td>\n",
       "      <td>3.0</td>\n",
       "      <td>0</td>\n",
       "    </tr>\n",
       "  </tbody>\n",
       "</table>\n",
       "</div>"
      ],
      "text/plain": [
       "    age  sex   cp  trestbps   chol  fbs  restecg  thalach  exang  oldpeak  \\\n",
       "0  63.0  1.0  1.0     145.0  233.0  1.0      2.0    150.0    0.0      2.3   \n",
       "1  67.0  1.0  4.0     160.0  286.0  0.0      2.0    108.0    1.0      1.5   \n",
       "2  67.0  1.0  4.0     120.0  229.0  0.0      2.0    129.0    1.0      2.6   \n",
       "3  37.0  1.0  3.0     130.0  250.0  0.0      0.0    187.0    0.0      3.5   \n",
       "4  41.0  0.0  2.0     130.0  204.0  0.0      2.0    172.0    0.0      1.4   \n",
       "\n",
       "   slope   ca  thal  num  \n",
       "0    3.0  0.0   6.0    0  \n",
       "1    2.0  3.0   3.0    1  \n",
       "2    2.0  2.0   7.0    1  \n",
       "3    3.0  0.0   3.0    0  \n",
       "4    1.0  0.0   3.0    0  "
      ]
     },
     "execution_count": 48,
     "metadata": {},
     "output_type": "execute_result"
    }
   ],
   "source": [
    "df.head()"
   ]
  },
  {
   "cell_type": "code",
   "execution_count": 49,
   "metadata": {},
   "outputs": [],
   "source": [
    "# we create a column transfomer\n",
    "ct = ColumnTransformer(transformers=[('ohe', ohe, ['cp', 'restecg', 'slope', 'thal'])], remainder='passthrough')\n",
    "# remainder='passthrough' keeps all the other columns"
   ]
  },
  {
   "cell_type": "code",
   "execution_count": 50,
   "metadata": {},
   "outputs": [
    {
     "data": {
      "text/html": [
       "<div>\n",
       "<style scoped>\n",
       "    .dataframe tbody tr th:only-of-type {\n",
       "        vertical-align: middle;\n",
       "    }\n",
       "\n",
       "    .dataframe tbody tr th {\n",
       "        vertical-align: top;\n",
       "    }\n",
       "\n",
       "    .dataframe thead th {\n",
       "        text-align: right;\n",
       "    }\n",
       "</style>\n",
       "<table border=\"1\" class=\"dataframe\">\n",
       "  <thead>\n",
       "    <tr style=\"text-align: right;\">\n",
       "      <th></th>\n",
       "      <th>age</th>\n",
       "      <th>sex</th>\n",
       "      <th>cp</th>\n",
       "      <th>trestbps</th>\n",
       "      <th>chol</th>\n",
       "      <th>fbs</th>\n",
       "      <th>restecg</th>\n",
       "      <th>thalach</th>\n",
       "      <th>exang</th>\n",
       "      <th>oldpeak</th>\n",
       "      <th>slope</th>\n",
       "      <th>ca</th>\n",
       "      <th>thal</th>\n",
       "    </tr>\n",
       "  </thead>\n",
       "  <tbody>\n",
       "    <tr>\n",
       "      <th>0</th>\n",
       "      <td>37.0</td>\n",
       "      <td>0.0</td>\n",
       "      <td>3.0</td>\n",
       "      <td>120.0</td>\n",
       "      <td>215.0</td>\n",
       "      <td>0.0</td>\n",
       "      <td>0.0</td>\n",
       "      <td>170.0</td>\n",
       "      <td>0.0</td>\n",
       "      <td>0.0</td>\n",
       "      <td>1.0</td>\n",
       "      <td>0.0</td>\n",
       "      <td>3.0</td>\n",
       "    </tr>\n",
       "    <tr>\n",
       "      <th>1</th>\n",
       "      <td>57.0</td>\n",
       "      <td>0.0</td>\n",
       "      <td>4.0</td>\n",
       "      <td>140.0</td>\n",
       "      <td>241.0</td>\n",
       "      <td>0.0</td>\n",
       "      <td>0.0</td>\n",
       "      <td>123.0</td>\n",
       "      <td>1.0</td>\n",
       "      <td>0.2</td>\n",
       "      <td>2.0</td>\n",
       "      <td>0.0</td>\n",
       "      <td>7.0</td>\n",
       "    </tr>\n",
       "    <tr>\n",
       "      <th>2</th>\n",
       "      <td>69.0</td>\n",
       "      <td>1.0</td>\n",
       "      <td>1.0</td>\n",
       "      <td>160.0</td>\n",
       "      <td>234.0</td>\n",
       "      <td>1.0</td>\n",
       "      <td>2.0</td>\n",
       "      <td>131.0</td>\n",
       "      <td>0.0</td>\n",
       "      <td>0.1</td>\n",
       "      <td>2.0</td>\n",
       "      <td>1.0</td>\n",
       "      <td>3.0</td>\n",
       "    </tr>\n",
       "    <tr>\n",
       "      <th>3</th>\n",
       "      <td>43.0</td>\n",
       "      <td>1.0</td>\n",
       "      <td>4.0</td>\n",
       "      <td>120.0</td>\n",
       "      <td>177.0</td>\n",
       "      <td>0.0</td>\n",
       "      <td>2.0</td>\n",
       "      <td>120.0</td>\n",
       "      <td>1.0</td>\n",
       "      <td>2.5</td>\n",
       "      <td>2.0</td>\n",
       "      <td>0.0</td>\n",
       "      <td>7.0</td>\n",
       "    </tr>\n",
       "    <tr>\n",
       "      <th>4</th>\n",
       "      <td>58.0</td>\n",
       "      <td>0.0</td>\n",
       "      <td>4.0</td>\n",
       "      <td>130.0</td>\n",
       "      <td>197.0</td>\n",
       "      <td>0.0</td>\n",
       "      <td>0.0</td>\n",
       "      <td>131.0</td>\n",
       "      <td>0.0</td>\n",
       "      <td>0.6</td>\n",
       "      <td>2.0</td>\n",
       "      <td>0.0</td>\n",
       "      <td>3.0</td>\n",
       "    </tr>\n",
       "    <tr>\n",
       "      <th>...</th>\n",
       "      <td>...</td>\n",
       "      <td>...</td>\n",
       "      <td>...</td>\n",
       "      <td>...</td>\n",
       "      <td>...</td>\n",
       "      <td>...</td>\n",
       "      <td>...</td>\n",
       "      <td>...</td>\n",
       "      <td>...</td>\n",
       "      <td>...</td>\n",
       "      <td>...</td>\n",
       "      <td>...</td>\n",
       "      <td>...</td>\n",
       "    </tr>\n",
       "    <tr>\n",
       "      <th>237</th>\n",
       "      <td>58.0</td>\n",
       "      <td>0.0</td>\n",
       "      <td>4.0</td>\n",
       "      <td>170.0</td>\n",
       "      <td>225.0</td>\n",
       "      <td>1.0</td>\n",
       "      <td>2.0</td>\n",
       "      <td>146.0</td>\n",
       "      <td>1.0</td>\n",
       "      <td>2.8</td>\n",
       "      <td>2.0</td>\n",
       "      <td>2.0</td>\n",
       "      <td>6.0</td>\n",
       "    </tr>\n",
       "    <tr>\n",
       "      <th>238</th>\n",
       "      <td>56.0</td>\n",
       "      <td>1.0</td>\n",
       "      <td>1.0</td>\n",
       "      <td>120.0</td>\n",
       "      <td>193.0</td>\n",
       "      <td>0.0</td>\n",
       "      <td>2.0</td>\n",
       "      <td>162.0</td>\n",
       "      <td>0.0</td>\n",
       "      <td>1.9</td>\n",
       "      <td>2.0</td>\n",
       "      <td>0.0</td>\n",
       "      <td>7.0</td>\n",
       "    </tr>\n",
       "    <tr>\n",
       "      <th>239</th>\n",
       "      <td>44.0</td>\n",
       "      <td>1.0</td>\n",
       "      <td>4.0</td>\n",
       "      <td>112.0</td>\n",
       "      <td>290.0</td>\n",
       "      <td>0.0</td>\n",
       "      <td>2.0</td>\n",
       "      <td>153.0</td>\n",
       "      <td>0.0</td>\n",
       "      <td>0.0</td>\n",
       "      <td>1.0</td>\n",
       "      <td>1.0</td>\n",
       "      <td>3.0</td>\n",
       "    </tr>\n",
       "    <tr>\n",
       "      <th>240</th>\n",
       "      <td>59.0</td>\n",
       "      <td>1.0</td>\n",
       "      <td>2.0</td>\n",
       "      <td>140.0</td>\n",
       "      <td>221.0</td>\n",
       "      <td>0.0</td>\n",
       "      <td>0.0</td>\n",
       "      <td>164.0</td>\n",
       "      <td>1.0</td>\n",
       "      <td>0.0</td>\n",
       "      <td>1.0</td>\n",
       "      <td>0.0</td>\n",
       "      <td>3.0</td>\n",
       "    </tr>\n",
       "    <tr>\n",
       "      <th>241</th>\n",
       "      <td>58.0</td>\n",
       "      <td>0.0</td>\n",
       "      <td>1.0</td>\n",
       "      <td>150.0</td>\n",
       "      <td>283.0</td>\n",
       "      <td>1.0</td>\n",
       "      <td>2.0</td>\n",
       "      <td>162.0</td>\n",
       "      <td>0.0</td>\n",
       "      <td>1.0</td>\n",
       "      <td>1.0</td>\n",
       "      <td>0.0</td>\n",
       "      <td>3.0</td>\n",
       "    </tr>\n",
       "  </tbody>\n",
       "</table>\n",
       "<p>242 rows × 13 columns</p>\n",
       "</div>"
      ],
      "text/plain": [
       "      age  sex   cp  trestbps   chol  fbs  restecg  thalach  exang  oldpeak  \\\n",
       "0    37.0  0.0  3.0     120.0  215.0  0.0      0.0    170.0    0.0      0.0   \n",
       "1    57.0  0.0  4.0     140.0  241.0  0.0      0.0    123.0    1.0      0.2   \n",
       "2    69.0  1.0  1.0     160.0  234.0  1.0      2.0    131.0    0.0      0.1   \n",
       "3    43.0  1.0  4.0     120.0  177.0  0.0      2.0    120.0    1.0      2.5   \n",
       "4    58.0  0.0  4.0     130.0  197.0  0.0      0.0    131.0    0.0      0.6   \n",
       "..    ...  ...  ...       ...    ...  ...      ...      ...    ...      ...   \n",
       "237  58.0  0.0  4.0     170.0  225.0  1.0      2.0    146.0    1.0      2.8   \n",
       "238  56.0  1.0  1.0     120.0  193.0  0.0      2.0    162.0    0.0      1.9   \n",
       "239  44.0  1.0  4.0     112.0  290.0  0.0      2.0    153.0    0.0      0.0   \n",
       "240  59.0  1.0  2.0     140.0  221.0  0.0      0.0    164.0    1.0      0.0   \n",
       "241  58.0  0.0  1.0     150.0  283.0  1.0      2.0    162.0    0.0      1.0   \n",
       "\n",
       "     slope   ca  thal  \n",
       "0      1.0  0.0   3.0  \n",
       "1      2.0  0.0   7.0  \n",
       "2      2.0  1.0   3.0  \n",
       "3      2.0  0.0   7.0  \n",
       "4      2.0  0.0   3.0  \n",
       "..     ...  ...   ...  \n",
       "237    2.0  2.0   6.0  \n",
       "238    2.0  0.0   7.0  \n",
       "239    1.0  1.0   3.0  \n",
       "240    1.0  0.0   3.0  \n",
       "241    1.0  0.0   3.0  \n",
       "\n",
       "[242 rows x 13 columns]"
      ]
     },
     "execution_count": 50,
     "metadata": {},
     "output_type": "execute_result"
    }
   ],
   "source": [
    "x_train"
   ]
  },
  {
   "cell_type": "code",
   "execution_count": 51,
   "metadata": {},
   "outputs": [
    {
     "data": {
      "text/plain": [
       "ColumnTransformer(remainder='passthrough',\n",
       "                  transformers=[('ohe', OneHotEncoder(),\n",
       "                                 ['cp', 'restecg', 'slope', 'thal'])])"
      ]
     },
     "execution_count": 51,
     "metadata": {},
     "output_type": "execute_result"
    }
   ],
   "source": [
    "ct.fit(x_train) # it applies the transformation to the four columns specified"
   ]
  },
  {
   "cell_type": "code",
   "execution_count": 52,
   "metadata": {},
   "outputs": [
    {
     "data": {
      "text/plain": [
       "(242, 22)"
      ]
     },
     "execution_count": 52,
     "metadata": {},
     "output_type": "execute_result"
    }
   ],
   "source": [
    "ct.transform(x_train).shape\n",
    "# looking at the shape, you will have many columns"
   ]
  },
  {
   "cell_type": "code",
   "execution_count": 53,
   "metadata": {},
   "outputs": [
    {
     "data": {
      "text/plain": [
       "array([1., 4., 3., 2.])"
      ]
     },
     "execution_count": 53,
     "metadata": {},
     "output_type": "execute_result"
    }
   ],
   "source": [
    "df['cp'].unique()"
   ]
  },
  {
   "cell_type": "code",
   "execution_count": 54,
   "metadata": {},
   "outputs": [
    {
     "data": {
      "text/plain": [
       "[array([1., 2., 3., 4.]),\n",
       " array([0., 1., 2.]),\n",
       " array([1., 2., 3.]),\n",
       " array([3., 6., 7.])]"
      ]
     },
     "execution_count": 54,
     "metadata": {},
     "output_type": "execute_result"
    }
   ],
   "source": [
    "ct.transformers_[0][1].categories_ # shows all the unque values from columns ['cp', 'restecg', 'slope', 'thal']"
   ]
  },
  {
   "cell_type": "code",
   "execution_count": 55,
   "metadata": {},
   "outputs": [],
   "source": [
    "x_train2 = ct.transform(x_train)\n",
    "x_test2 = ct.transform(x_test)"
   ]
  },
  {
   "cell_type": "code",
   "execution_count": 56,
   "metadata": {},
   "outputs": [
    {
     "data": {
      "text/plain": [
       "array([  0.,   0.,   1.,   0.,   1.,   0.,   0.,   1.,   0.,   0.,   1.,\n",
       "         0.,   0.,  37.,   0., 120., 215.,   0., 170.,   0.,   0.,   0.])"
      ]
     },
     "execution_count": 56,
     "metadata": {},
     "output_type": "execute_result"
    }
   ],
   "source": [
    "x_train2[0] # the output is a numpy array without any columns, this is after the transformation is done "
   ]
  },
  {
   "cell_type": "code",
   "execution_count": 57,
   "metadata": {},
   "outputs": [],
   "source": [
    "# ct.get_feature_names_out # this gives you the column names of the corresponding values in the numpy array, x_train2.\n",
    "# why this doesn't execute"
   ]
  },
  {
   "cell_type": "code",
   "execution_count": 58,
   "metadata": {},
   "outputs": [],
   "source": [
    "# ct?"
   ]
  },
  {
   "cell_type": "markdown",
   "metadata": {},
   "source": [
    "<p>Make sure that both train and test sets have same number of columns.</p>"
   ]
  },
  {
   "cell_type": "code",
   "execution_count": 59,
   "metadata": {},
   "outputs": [
    {
     "data": {
      "text/plain": [
       "(242, 22)"
      ]
     },
     "execution_count": 59,
     "metadata": {},
     "output_type": "execute_result"
    }
   ],
   "source": [
    "x_train2.shape"
   ]
  },
  {
   "cell_type": "code",
   "execution_count": 60,
   "metadata": {},
   "outputs": [
    {
     "data": {
      "text/plain": [
       "(61, 22)"
      ]
     },
     "execution_count": 60,
     "metadata": {},
     "output_type": "execute_result"
    }
   ],
   "source": [
    "x_test2.shape"
   ]
  },
  {
   "cell_type": "markdown",
   "metadata": {},
   "source": [
    "# 3. Onehot encoding using mask in sklearn"
   ]
  },
  {
   "cell_type": "code",
   "execution_count": 61,
   "metadata": {},
   "outputs": [
    {
     "data": {
      "text/plain": [
       "array([False, False,  True, False, False, False,  True, False, False,\n",
       "       False,  True, False,  True])"
      ]
     },
     "execution_count": 61,
     "metadata": {},
     "output_type": "execute_result"
    }
   ],
   "source": [
    "# get columns mask for the categorical columns\n",
    "mask = X.columns.isin(['cp', 'restecg', 'slope', 'thal'])\n",
    "mask"
   ]
  },
  {
   "cell_type": "code",
   "execution_count": 62,
   "metadata": {},
   "outputs": [],
   "source": [
    "# using mask an input\n",
    "ct2 = make_column_transformer((OneHotEncoder(sparse=False), mask), remainder='passthrough')"
   ]
  },
  {
   "cell_type": "code",
   "execution_count": 63,
   "metadata": {},
   "outputs": [
    {
     "data": {
      "text/plain": [
       "ColumnTransformer(remainder='passthrough',\n",
       "                  transformers=[('onehotencoder', OneHotEncoder(sparse=False),\n",
       "                                 array([False, False,  True, False, False, False,  True, False, False,\n",
       "       False,  True, False,  True]))])"
      ]
     },
     "execution_count": 63,
     "metadata": {},
     "output_type": "execute_result"
    }
   ],
   "source": [
    "ct2.fit(x_train)"
   ]
  },
  {
   "cell_type": "code",
   "execution_count": 64,
   "metadata": {},
   "outputs": [],
   "source": [
    "x_train3 = ct2.transform(x_train)\n",
    "x_test3 = ct2.transform(x_test)"
   ]
  },
  {
   "cell_type": "code",
   "execution_count": 65,
   "metadata": {},
   "outputs": [
    {
     "data": {
      "text/plain": [
       "0"
      ]
     },
     "execution_count": 65,
     "metadata": {},
     "output_type": "execute_result"
    }
   ],
   "source": [
    "# checking if x_train2 and x_train3 are equal to each other\n",
    "np.not_equal(x_train2, x_train3).sum()"
   ]
  },
  {
   "cell_type": "markdown",
   "metadata": {},
   "source": [
    "<p>Our data has been cleaned and transformed. We are now ready to apply machine learning. </p>"
   ]
  },
  {
   "cell_type": "markdown",
   "metadata": {
    "id": "TIdMsXkS8CYF"
   },
   "source": [
    "# Logistic Regression"
   ]
  },
  {
   "cell_type": "code",
   "execution_count": 66,
   "metadata": {},
   "outputs": [
    {
     "data": {
      "text/plain": [
       "LogisticRegression()"
      ]
     },
     "execution_count": 66,
     "metadata": {},
     "output_type": "execute_result"
    }
   ],
   "source": [
    "# you also use \n",
    "from sklearn import linear_model\n",
    "linear_model.LogisticRegression()"
   ]
  },
  {
   "cell_type": "code",
   "execution_count": 67,
   "metadata": {
    "executionInfo": {
     "elapsed": 90,
     "status": "ok",
     "timestamp": 1632359899518,
     "user": {
      "displayName": "Ilyas Ustun",
      "photoUrl": "https://lh3.googleusercontent.com/a/default-user=s64",
      "userId": "07102234121230289250"
     },
     "user_tz": 300
    },
    "id": "-B6oeFRF8CYF"
   },
   "outputs": [],
   "source": [
    "from sklearn.linear_model import LogisticRegression"
   ]
  },
  {
   "cell_type": "code",
   "execution_count": 68,
   "metadata": {
    "executionInfo": {
     "elapsed": 1,
     "status": "ok",
     "timestamp": 1632359900026,
     "user": {
      "displayName": "Ilyas Ustun",
      "photoUrl": "https://lh3.googleusercontent.com/a/default-user=s64",
      "userId": "07102234121230289250"
     },
     "user_tz": 300
    },
    "id": "znut9EBp8CYG"
   },
   "outputs": [],
   "source": [
    "from sklearn import metrics"
   ]
  },
  {
   "cell_type": "code",
   "execution_count": 69,
   "metadata": {
    "executionInfo": {
     "elapsed": 89,
     "status": "ok",
     "timestamp": 1632359900652,
     "user": {
      "displayName": "Ilyas Ustun",
      "photoUrl": "https://lh3.googleusercontent.com/a/default-user=s64",
      "userId": "07102234121230289250"
     },
     "user_tz": 300
    },
    "id": "Zpi5i5Kl8CYG"
   },
   "outputs": [],
   "source": [
    "clf = LogisticRegression(max_iter=5000)"
   ]
  },
  {
   "cell_type": "code",
   "execution_count": 70,
   "metadata": {
    "colab": {
     "base_uri": "https://localhost:8080/"
    },
    "executionInfo": {
     "elapsed": 95,
     "status": "ok",
     "timestamp": 1632359907111,
     "user": {
      "displayName": "Ilyas Ustun",
      "photoUrl": "https://lh3.googleusercontent.com/a/default-user=s64",
      "userId": "07102234121230289250"
     },
     "user_tz": 300
    },
    "id": "GVnQRtM88CYG",
    "outputId": "89bf844b-2a18-4dd7-a58f-2db6af0afebc"
   },
   "outputs": [
    {
     "data": {
      "text/plain": [
       "LogisticRegression(max_iter=5000)"
      ]
     },
     "execution_count": 70,
     "metadata": {},
     "output_type": "execute_result"
    }
   ],
   "source": [
    "clf.fit(x_train2, y_train)"
   ]
  },
  {
   "cell_type": "code",
   "execution_count": 71,
   "metadata": {
    "colab": {
     "base_uri": "https://localhost:8080/"
    },
    "executionInfo": {
     "elapsed": 93,
     "status": "ok",
     "timestamp": 1632359915402,
     "user": {
      "displayName": "Ilyas Ustun",
      "photoUrl": "https://lh3.googleusercontent.com/a/default-user=s64",
      "userId": "07102234121230289250"
     },
     "user_tz": 300
    },
    "id": "ijAerf6LotiX",
    "outputId": "5dec2d90-b79b-495c-b1a0-aeb23040a947"
   },
   "outputs": [
    {
     "data": {
      "text/plain": [
       "array([0, 1])"
      ]
     },
     "execution_count": 71,
     "metadata": {},
     "output_type": "execute_result"
    }
   ],
   "source": [
    "clf.classes_"
   ]
  },
  {
   "cell_type": "code",
   "execution_count": 72,
   "metadata": {
    "colab": {
     "base_uri": "https://localhost:8080/"
    },
    "executionInfo": {
     "elapsed": 91,
     "status": "ok",
     "timestamp": 1632359917718,
     "user": {
      "displayName": "Ilyas Ustun",
      "photoUrl": "https://lh3.googleusercontent.com/a/default-user=s64",
      "userId": "07102234121230289250"
     },
     "user_tz": 300
    },
    "id": "24bWkiJo8CYG",
    "outputId": "3dd1cfa5-7a09-477b-9714-c69fbedbbbc1"
   },
   "outputs": [
    {
     "name": "stdout",
     "output_type": "stream",
     "text": [
      "Iterations: [901]\n"
     ]
    }
   ],
   "source": [
    "print('Iterations:', clf.n_iter_)"
   ]
  },
  {
   "cell_type": "code",
   "execution_count": 73,
   "metadata": {
    "executionInfo": {
     "elapsed": 90,
     "status": "ok",
     "timestamp": 1632360007370,
     "user": {
      "displayName": "Ilyas Ustun",
      "photoUrl": "https://lh3.googleusercontent.com/a/default-user=s64",
      "userId": "07102234121230289250"
     },
     "user_tz": 300
    },
    "id": "UiSs8wjn8CYH"
   },
   "outputs": [],
   "source": [
    "# making opredictions on our test set\n",
    "pred = clf.predict(x_test3)"
   ]
  },
  {
   "cell_type": "code",
   "execution_count": 74,
   "metadata": {
    "colab": {
     "base_uri": "https://localhost:8080/"
    },
    "executionInfo": {
     "elapsed": 83,
     "status": "ok",
     "timestamp": 1632360008296,
     "user": {
      "displayName": "Ilyas Ustun",
      "photoUrl": "https://lh3.googleusercontent.com/a/default-user=s64",
      "userId": "07102234121230289250"
     },
     "user_tz": 300
    },
    "id": "Cv3fF26Ro8YN",
    "outputId": "d1b5a031-d0c8-4673-f83a-40716e423d36"
   },
   "outputs": [
    {
     "data": {
      "text/plain": [
       "0.9016393442622951"
      ]
     },
     "execution_count": 74,
     "metadata": {},
     "output_type": "execute_result"
    }
   ],
   "source": [
    "metrics.accuracy_score(y_test, pred)"
   ]
  },
  {
   "cell_type": "code",
   "execution_count": 75,
   "metadata": {
    "colab": {
     "base_uri": "https://localhost:8080/"
    },
    "executionInfo": {
     "elapsed": 107,
     "status": "ok",
     "timestamp": 1632360019913,
     "user": {
      "displayName": "Ilyas Ustun",
      "photoUrl": "https://lh3.googleusercontent.com/a/default-user=s64",
      "userId": "07102234121230289250"
     },
     "user_tz": 300
    },
    "id": "9IYfWLVV8CYH",
    "outputId": "03f9743a-1922-4221-ff18-baa4d3c52be7"
   },
   "outputs": [
    {
     "data": {
      "text/plain": [
       "0.9016393442622951"
      ]
     },
     "execution_count": 75,
     "metadata": {},
     "output_type": "execute_result"
    }
   ],
   "source": [
    "# or you can use\n",
    "(y_test == pred).mean()"
   ]
  },
  {
   "cell_type": "code",
   "execution_count": 76,
   "metadata": {
    "colab": {
     "base_uri": "https://localhost:8080/"
    },
    "executionInfo": {
     "elapsed": 89,
     "status": "ok",
     "timestamp": 1632360040654,
     "user": {
      "displayName": "Ilyas Ustun",
      "photoUrl": "https://lh3.googleusercontent.com/a/default-user=s64",
      "userId": "07102234121230289250"
     },
     "user_tz": 300
    },
    "id": "-5gt9Ag48CYH",
    "outputId": "b11f9baf-6928-43a8-a706-1916f61b692c"
   },
   "outputs": [
    {
     "data": {
      "text/plain": [
       "1.0"
      ]
     },
     "execution_count": 76,
     "metadata": {},
     "output_type": "execute_result"
    }
   ],
   "source": [
    "metrics.zero_one_loss(y_test,pred) + metrics.accuracy_score(y_test, pred)\n",
    "# this should give you 1.0"
   ]
  },
  {
   "cell_type": "code",
   "execution_count": 77,
   "metadata": {
    "colab": {
     "base_uri": "https://localhost:8080/",
     "height": 110
    },
    "executionInfo": {
     "elapsed": 87,
     "status": "ok",
     "timestamp": 1632360044253,
     "user": {
      "displayName": "Ilyas Ustun",
      "photoUrl": "https://lh3.googleusercontent.com/a/default-user=s64",
      "userId": "07102234121230289250"
     },
     "user_tz": 300
    },
    "id": "5sv3J9sm8CYI",
    "outputId": "2d5f642f-497d-4003-fec8-020a11be92b4"
   },
   "outputs": [
    {
     "data": {
      "text/html": [
       "<div>\n",
       "<style scoped>\n",
       "    .dataframe tbody tr th:only-of-type {\n",
       "        vertical-align: middle;\n",
       "    }\n",
       "\n",
       "    .dataframe tbody tr th {\n",
       "        vertical-align: top;\n",
       "    }\n",
       "\n",
       "    .dataframe thead th {\n",
       "        text-align: right;\n",
       "    }\n",
       "</style>\n",
       "<table border=\"1\" class=\"dataframe\">\n",
       "  <thead>\n",
       "    <tr style=\"text-align: right;\">\n",
       "      <th></th>\n",
       "      <th>0</th>\n",
       "      <th>1</th>\n",
       "    </tr>\n",
       "  </thead>\n",
       "  <tbody>\n",
       "    <tr>\n",
       "      <th>0</th>\n",
       "      <td>32</td>\n",
       "      <td>1</td>\n",
       "    </tr>\n",
       "    <tr>\n",
       "      <th>1</th>\n",
       "      <td>5</td>\n",
       "      <td>23</td>\n",
       "    </tr>\n",
       "  </tbody>\n",
       "</table>\n",
       "</div>"
      ],
      "text/plain": [
       "    0   1\n",
       "0  32   1\n",
       "1   5  23"
      ]
     },
     "execution_count": 77,
     "metadata": {},
     "output_type": "execute_result"
    }
   ],
   "source": [
    "pd.DataFrame(metrics.confusion_matrix(y_test, pred))"
   ]
  },
  {
   "cell_type": "markdown",
   "metadata": {},
   "source": [
    "# Why this can't execute"
   ]
  },
  {
   "cell_type": "code",
   "execution_count": 78,
   "metadata": {
    "colab": {
     "base_uri": "https://localhost:8080/",
     "height": 300
    },
    "executionInfo": {
     "elapsed": 325,
     "status": "ok",
     "timestamp": 1632360386671,
     "user": {
      "displayName": "Ilyas Ustun",
      "photoUrl": "https://lh3.googleusercontent.com/a/default-user=s64",
      "userId": "07102234121230289250"
     },
     "user_tz": 300
    },
    "id": "xs3uk8uNQYbF",
    "outputId": "e76ebbb2-99ba-4371-dba8-76f63f8faf07"
   },
   "outputs": [
    {
     "data": {
      "text/plain": [
       "<sklearn.metrics._plot.confusion_matrix.ConfusionMatrixDisplay at 0x1f3d53af400>"
      ]
     },
     "execution_count": 78,
     "metadata": {},
     "output_type": "execute_result"
    },
    {
     "data": {
      "image/png": "[encoded data removed]",
      "text/plain": [
       "<Figure size 432x288 with 2 Axes>"
      ]
     },
     "metadata": {
      "needs_background": "light"
     },
     "output_type": "display_data"
    }
   ],
   "source": [
    "metrics.ConfusionMatrixDisplay.from_predictions(y_test, pred)"
   ]
  },
  {
   "cell_type": "code",
   "execution_count": 79,
   "metadata": {
    "colab": {
     "base_uri": "https://localhost:8080/"
    },
    "executionInfo": {
     "elapsed": 93,
     "status": "ok",
     "timestamp": 1632360593897,
     "user": {
      "displayName": "Ilyas Ustun",
      "photoUrl": "https://lh3.googleusercontent.com/a/default-user=s64",
      "userId": "07102234121230289250"
     },
     "user_tz": 300
    },
    "id": "n3lD85QLROcW",
    "outputId": "7707bc99-9afe-4d25-d0e0-4a70058f177e"
   },
   "outputs": [
    {
     "data": {
      "text/plain": [
       "0.8214285714285714"
      ]
     },
     "execution_count": 79,
     "metadata": {},
     "output_type": "execute_result"
    }
   ],
   "source": [
    "metrics.recall_score(y_test, pred, pos_label=1) # pos_label = 1 is recall, pos_label = 0 is specificity"
   ]
  },
  {
   "cell_type": "code",
   "execution_count": 80,
   "metadata": {
    "colab": {
     "base_uri": "https://localhost:8080/"
    },
    "executionInfo": {
     "elapsed": 94,
     "status": "ok",
     "timestamp": 1632360061483,
     "user": {
      "displayName": "Ilyas Ustun",
      "photoUrl": "https://lh3.googleusercontent.com/a/default-user=s64",
      "userId": "07102234121230289250"
     },
     "user_tz": 300
    },
    "id": "wTXzWLOg8CYI",
    "outputId": "ca67fcab-e574-41fd-dad5-15d7ae535567"
   },
   "outputs": [
    {
     "name": "stdout",
     "output_type": "stream",
     "text": [
      "              precision    recall  f1-score   support\n",
      "\n",
      "           0       0.86      0.97      0.91        33\n",
      "           1       0.96      0.82      0.88        28\n",
      "\n",
      "    accuracy                           0.90        61\n",
      "   macro avg       0.91      0.90      0.90        61\n",
      "weighted avg       0.91      0.90      0.90        61\n",
      "\n"
     ]
    }
   ],
   "source": [
    "print(metrics.classification_report(y_test, pred))"
   ]
  },
  {
   "cell_type": "code",
   "execution_count": 81,
   "metadata": {
    "executionInfo": {
     "elapsed": 90,
     "status": "ok",
     "timestamp": 1632360621148,
     "user": {
      "displayName": "Ilyas Ustun",
      "photoUrl": "https://lh3.googleusercontent.com/a/default-user=s64",
      "userId": "07102234121230289250"
     },
     "user_tz": 300
    },
    "id": "StlLX16K8CYK"
   },
   "outputs": [],
   "source": [
    "clf = LogisticRegression(C=1)"
   ]
  },
  {
   "cell_type": "code",
   "execution_count": 82,
   "metadata": {
    "colab": {
     "base_uri": "https://localhost:8080/"
    },
    "executionInfo": {
     "elapsed": 106,
     "status": "ok",
     "timestamp": 1632360751409,
     "user": {
      "displayName": "Ilyas Ustun",
      "photoUrl": "https://lh3.googleusercontent.com/a/default-user=s64",
      "userId": "07102234121230289250"
     },
     "user_tz": 300
    },
    "id": "mvYKgIL98CYL",
    "outputId": "af3bb2a8-2701-4602-9ad8-e90de3fe3e41"
   },
   "outputs": [
    {
     "data": {
      "text/plain": [
       "[0.0001,\n",
       " 0.001,\n",
       " 0.01,\n",
       " 0.03,\n",
       " 0.1,\n",
       " 0.3,\n",
       " 1,\n",
       " 2,\n",
       " 5,\n",
       " 10,\n",
       " 15,\n",
       " 20,\n",
       " 50,\n",
       " 100,\n",
       " 1000,\n",
       " 10000,\n",
       " 100000]"
      ]
     },
     "execution_count": 82,
     "metadata": {},
     "output_type": "execute_result"
    }
   ],
   "source": [
    "# these are c_vals (penalty values) which I am going to apply \n",
    "C_vals = [0.0001, 0.001, 0.01, 0.03, 0.1, 0.3, 1, 2, 5, 10, 15, 20, 50, 100, 1000, 10000, 100000]\n",
    "C_vals"
   ]
  },
  {
   "cell_type": "code",
   "execution_count": 83,
   "metadata": {
    "colab": {
     "base_uri": "https://localhost:8080/"
    },
    "executionInfo": {
     "elapsed": 923,
     "status": "ok",
     "timestamp": 1632360754454,
     "user": {
      "displayName": "Ilyas Ustun",
      "photoUrl": "https://lh3.googleusercontent.com/a/default-user=s64",
      "userId": "07102234121230289250"
     },
     "user_tz": 300
    },
    "id": "3W2hwdvh8CYL",
    "outputId": "b9881089-d5ab-4b8d-a634-080993e08069"
   },
   "outputs": [
    {
     "name": "stdout",
     "output_type": "stream",
     "text": [
      "Iterations: [69]\n",
      "Iterations: [47]\n",
      "Iterations: [41]\n",
      "Iterations: [251]\n",
      "Iterations: [402]\n",
      "Iterations: [806]\n",
      "Iterations: [901]\n",
      "Iterations: [1082]\n",
      "Iterations: [1439]\n",
      "Iterations: [1574]\n",
      "Iterations: [1624]\n",
      "Iterations: [780]\n",
      "Iterations: [674]\n",
      "Iterations: [731]\n",
      "Iterations: [786]\n",
      "Iterations: [847]\n",
      "Iterations: [778]\n"
     ]
    }
   ],
   "source": [
    "scores = []\n",
    "# we create a for loop here and within it we instanciate logisticRegression object, that we we fit on training data and so on\n",
    "for C in C_vals:\n",
    "    clf = LogisticRegression(C=C, max_iter=2000) \n",
    "    clf.fit(x_train3, y_train)\n",
    "    print('Iterations:', clf.n_iter_)\n",
    "    pred=clf.predict(x_test3)\n",
    "    scores.append(metrics.zero_one_loss(y_test, pred))  # calculate the error rate that we append to the score lists"
   ]
  },
  {
   "cell_type": "code",
   "execution_count": 84,
   "metadata": {
    "colab": {
     "base_uri": "https://localhost:8080/"
    },
    "executionInfo": {
     "elapsed": 101,
     "status": "ok",
     "timestamp": 1632360756463,
     "user": {
      "displayName": "Ilyas Ustun",
      "photoUrl": "https://lh3.googleusercontent.com/a/default-user=s64",
      "userId": "07102234121230289250"
     },
     "user_tz": 300
    },
    "id": "qQzcEhGiR6mn",
    "outputId": "263cf252-608d-4d58-84f1-b9584e363c55"
   },
   "outputs": [
    {
     "data": {
      "text/plain": [
       "[0.4098360655737705,\n",
       " 0.4098360655737705,\n",
       " 0.3278688524590164,\n",
       " 0.180327868852459,\n",
       " 0.08196721311475408,\n",
       " 0.09836065573770492,\n",
       " 0.09836065573770492,\n",
       " 0.1311475409836066,\n",
       " 0.1311475409836066,\n",
       " 0.1311475409836066,\n",
       " 0.1311475409836066,\n",
       " 0.1311475409836066,\n",
       " 0.1311475409836066,\n",
       " 0.1311475409836066,\n",
       " 0.1311475409836066,\n",
       " 0.1311475409836066,\n",
       " 0.1311475409836066]"
      ]
     },
     "execution_count": 84,
     "metadata": {},
     "output_type": "execute_result"
    }
   ],
   "source": [
    "scores"
   ]
  },
  {
   "cell_type": "code",
   "execution_count": 85,
   "metadata": {
    "colab": {
     "base_uri": "https://localhost:8080/",
     "height": 303
    },
    "executionInfo": {
     "elapsed": 258,
     "status": "ok",
     "timestamp": 1632360759532,
     "user": {
      "displayName": "Ilyas Ustun",
      "photoUrl": "https://lh3.googleusercontent.com/a/default-user=s64",
      "userId": "07102234121230289250"
     },
     "user_tz": 300
    },
    "id": "jlcFQMmw8CYM",
    "outputId": "365b12ba-52c7-4994-a305-49152757a4a7"
   },
   "outputs": [
    {
     "data": {
      "image/png": "[encoded data removed]",
      "text/plain": [
       "<Figure size 432x288 with 1 Axes>"
      ]
     },
     "metadata": {
      "needs_background": "light"
     },
     "output_type": "display_data"
    }
   ],
   "source": [
    "plt.plot(scores)\n",
    "plt.xticks(np.arange(len(C_vals)), C_vals, rotation=45)\n",
    "plt.xlabel('C')\n",
    "plt.ylabel('Test Error')\n",
    "\n",
    "plt.show()"
   ]
  },
  {
   "cell_type": "markdown",
   "metadata": {},
   "source": [
    "<p>From the graph above, 0.1 will be a good choice for our c value.</p>"
   ]
  },
  {
   "cell_type": "markdown",
   "metadata": {
    "id": "edEyj444kHp6"
   },
   "source": [
    "## Diagnosing bias and variance problems"
   ]
  },
  {
   "cell_type": "markdown",
   "metadata": {
    "id": "eeqQ5iLu8CYN"
   },
   "source": [
    "#### Create Train - Validation Set"
   ]
  },
  {
   "cell_type": "code",
   "execution_count": 86,
   "metadata": {
    "executionInfo": {
     "elapsed": 96,
     "status": "ok",
     "timestamp": 1632360908136,
     "user": {
      "displayName": "Ilyas Ustun",
      "photoUrl": "https://lh3.googleusercontent.com/a/default-user=s64",
      "userId": "07102234121230289250"
     },
     "user_tz": 300
    },
    "id": "wPrTBmzF8CYN"
   },
   "outputs": [],
   "source": [
    "X_train_val, X_val, y_train_val, y_val = train_test_split(x_train2, y_train, test_size= 0.20, random_state=20)\n",
    "# here we took the training set that we had and split it into the training and validation portion\n",
    "# this is the proper way, I should be using it only once in the process of learning."
   ]
  },
  {
   "cell_type": "markdown",
   "metadata": {
    "id": "MBidCy46kHp8"
   },
   "source": [
    "### Validation Curve"
   ]
  },
  {
   "cell_type": "code",
   "execution_count": 87,
   "metadata": {
    "colab": {
     "base_uri": "https://localhost:8080/"
    },
    "executionInfo": {
     "elapsed": 2952,
     "status": "ok",
     "timestamp": 1632360913085,
     "user": {
      "displayName": "Ilyas Ustun",
      "photoUrl": "https://lh3.googleusercontent.com/a/default-user=s64",
      "userId": "07102234121230289250"
     },
     "user_tz": 300
    },
    "id": "tn6xXQMf8CYO",
    "outputId": "b793d85f-cb4d-4582-8a0b-0fc41fb9ec9b"
   },
   "outputs": [
    {
     "name": "stdout",
     "output_type": "stream",
     "text": [
      "Iterations: [47]\n",
      "Iterations: [64]\n",
      "Iterations: [190]\n",
      "Iterations: [311]\n",
      "Iterations: [99]\n",
      "Iterations: [687]\n",
      "Iterations: [929]\n",
      "Iterations: [1089]\n",
      "Iterations: [1260]\n",
      "Iterations: [1141]\n",
      "Iterations: [862]\n",
      "Iterations: [1394]\n",
      "Iterations: [634]\n",
      "Iterations: [881]\n",
      "Iterations: [746]\n",
      "Iterations: [753]\n",
      "Iterations: [751]\n"
     ]
    }
   ],
   "source": [
    "scores_tr = []\n",
    "scores_val = []\n",
    "# here we are going to calculate our training and validation score\n",
    "for C in C_vals:\n",
    "    clf = LogisticRegression(C=C, max_iter=2000)\n",
    "    clf.fit(X_train_val, y_train_val)\n",
    "    print('Iterations:',clf.n_iter_)\n",
    "\n",
    "    pred=clf.predict(X_train_val)\n",
    "    scores_tr.append(metrics.accuracy_score(y_train_val, pred))\n",
    "    \n",
    "    pred=clf.predict(X_val)\n",
    "    scores_val.append(metrics.accuracy_score(y_val, pred))"
   ]
  },
  {
   "cell_type": "code",
   "execution_count": 88,
   "metadata": {
    "colab": {
     "base_uri": "https://localhost:8080/",
     "height": 644
    },
    "executionInfo": {
     "elapsed": 439,
     "status": "ok",
     "timestamp": 1632360914738,
     "user": {
      "displayName": "Ilyas Ustun",
      "photoUrl": "https://lh3.googleusercontent.com/a/default-user=s64",
      "userId": "07102234121230289250"
     },
     "user_tz": 300
    },
    "id": "SbVnq3oD8CYP",
    "outputId": "ad242189-41fc-4fe1-a425-53d0248b5869"
   },
   "outputs": [
    {
     "data": {
      "image/png": "[encoded data removed]",
      "text/plain": [
       "<Figure size 900x600 with 1 Axes>"
      ]
     },
     "metadata": {
      "needs_background": "light"
     },
     "output_type": "display_data"
    }
   ],
   "source": [
    "f, ax = plt.subplots(dpi=150)\n",
    "plt.plot(scores_tr, marker='o', color='blue', label = 'train')\n",
    "plt.plot(scores_val, color='orange', marker='o', label = 'val')\n",
    "plt.title('Validation Curve')\n",
    "plt.xticks(ticks=np.arange(len(C_vals)), labels=C_vals, rotation=45)\n",
    "plt.xlabel('C')\n",
    "plt.ylabel('Accuracy')\n",
    "plt.legend()\n",
    "plt.show()\n",
    "\n",
    "# ax.set_xticks(list(range(len(C_vals))))\n",
    "# ax.set_xticklabels([str(C) for C in C_vals], rotation=90)"
   ]
  },
  {
   "cell_type": "markdown",
   "metadata": {},
   "source": [
    "<p>The training curve is blue color, validation curve is orange color. On the x-axis, there are different c values from small to large, both training and validation accuracy increase and increase then at some point they stay constant. As you can see the blue curve is much higher than the orange curve and this means that training accuracy is much higher than the validation accuracy. The training accuracy is around 0.87 and validation accuracy is 0.77, there is a difference of about 10% which is a large gap meaning that this model might be overfitting because of this large gap, we want this gap to close abit more. This is what this validation curve is telling us. The best value of c is around 0.1.</p>"
   ]
  },
  {
   "cell_type": "markdown",
   "metadata": {
    "id": "S65kEIFA8CYK"
   },
   "source": [
    "### Learning Curve"
   ]
  },
  {
   "cell_type": "markdown",
   "metadata": {
    "id": "54xa9-UpkHqC"
   },
   "source": [
    "- We will start with minimum number of points in training, and gradually increase the training set size.\n",
    "- In classification, the minimum number of points should have at least one point from each target class.\n",
    "    - Otherwise you'll get anerror similar to this:  \n",
    "      - `ValueError: This solver needs samples of at least 2 classes in the data, but the data contains only one class: 0`"
   ]
  },
  {
   "cell_type": "code",
   "execution_count": 89,
   "metadata": {
    "colab": {
     "base_uri": "https://localhost:8080/"
    },
    "executionInfo": {
     "elapsed": 99,
     "status": "ok",
     "timestamp": 1632360984286,
     "user": {
      "displayName": "Ilyas Ustun",
      "photoUrl": "https://lh3.googleusercontent.com/a/default-user=s64",
      "userId": "07102234121230289250"
     },
     "user_tz": 300
    },
    "id": "evQFIC_4kHqD",
    "outputId": "b21d56db-e024-4511-88c0-f9877907bd98"
   },
   "outputs": [
    {
     "data": {
      "text/plain": [
       "200    0\n",
       "34     0\n",
       "225    0\n",
       "69     1\n",
       "14     0\n",
       "      ..\n",
       "235    1\n",
       "136    1\n",
       "63     0\n",
       "40     1\n",
       "9      1\n",
       "Name: num, Length: 193, dtype: int32"
      ]
     },
     "execution_count": 89,
     "metadata": {},
     "output_type": "execute_result"
    }
   ],
   "source": [
    "y_train_val"
   ]
  },
  {
   "cell_type": "code",
   "execution_count": 90,
   "metadata": {
    "colab": {
     "base_uri": "https://localhost:8080/"
    },
    "executionInfo": {
     "elapsed": 160,
     "status": "ok",
     "timestamp": 1624499036712,
     "user": {
      "displayName": "Ilyas Ustun",
      "photoUrl": "",
      "userId": "07102234121230289250"
     },
     "user_tz": 300
    },
    "id": "4R1y6NoIkHqE",
    "outputId": "06409de5-6d97-4a1c-8986-b1c389fa0e2a"
   },
   "outputs": [
    {
     "data": {
      "text/plain": [
       "193"
      ]
     },
     "execution_count": 90,
     "metadata": {},
     "output_type": "execute_result"
    }
   ],
   "source": [
    "X_train_val.shape[0]"
   ]
  },
  {
   "cell_type": "code",
   "execution_count": 91,
   "metadata": {
    "executionInfo": {
     "elapsed": 3363,
     "status": "ok",
     "timestamp": 1632361061419,
     "user": {
      "displayName": "Ilyas Ustun",
      "photoUrl": "https://lh3.googleusercontent.com/a/default-user=s64",
      "userId": "07102234121230289250"
     },
     "user_tz": 300
    },
    "id": "QHe5w9XEkHqF"
   },
   "outputs": [],
   "source": [
    "accuracy_train = []\n",
    "accuracy_val = []\n",
    "clf = LogisticRegression(max_iter = 1000, solver='lbfgs', penalty='l2', C=1, verbose=0)\n",
    "# so here we start with 5 points and on each iteration we increase by 10\n",
    "num_points = list(range(5, X_train_val.shape[0], 10))\n",
    "\n",
    "for n in num_points:\n",
    "    # within the for loop we increase the number of points each time\n",
    "    clf.fit(X_train_val[0:n, :], y_train_val[0:n]) # fit the model\n",
    "    # make prediction on the train set, train set keeps on changing since we are increasing the number of points\n",
    "    pred_trn = clf.predict(X_train_val[0:n, :])    \n",
    "    accuracy_train.append(metrics.accuracy_score(y_true = y_train_val[0:n], y_pred = pred_trn))\n",
    "    pred_val = clf.predict(X_val) # make predictions on the validation set, the validation set is constant and it isn't changing\n",
    "    accuracy_val.append(metrics.accuracy_score(y_true = y_val, y_pred = pred_val))"
   ]
  },
  {
   "cell_type": "code",
   "execution_count": 92,
   "metadata": {
    "colab": {
     "base_uri": "https://localhost:8080/",
     "height": 594
    },
    "executionInfo": {
     "elapsed": 443,
     "status": "ok",
     "timestamp": 1632361064887,
     "user": {
      "displayName": "Ilyas Ustun",
      "photoUrl": "https://lh3.googleusercontent.com/a/default-user=s64",
      "userId": "07102234121230289250"
     },
     "user_tz": 300
    },
    "id": "2I-IZWI-kHqG",
    "outputId": "4de1e3e6-3227-4221-8207-601a18c4fce1"
   },
   "outputs": [
    {
     "data": {
      "image/png": "[encoded data removed]",
      "text/plain": [
       "<Figure size 900x600 with 1 Axes>"
      ]
     },
     "metadata": {
      "needs_background": "light"
     },
     "output_type": "display_data"
    }
   ],
   "source": [
    "f, ax = plt.subplots(dpi=150)\n",
    "ax.plot(num_points, accuracy_train, marker='o', color='blue', label='Train')\n",
    "ax.plot(num_points, accuracy_val, marker='o', color='orange', label='Val')\n",
    "ax.set_xlabel('Number of points in training set')\n",
    "ax.set_ylabel('Accuracy')\n",
    "ax.set_title(\"Learning Curve\")\n",
    "# ax.set_xticks(np.arange(len(num_points)))\n",
    "# ax.set_xticklabels(num_points, rotation=90)\n",
    "ax.legend();"
   ]
  },
  {
   "cell_type": "markdown",
   "metadata": {},
   "source": [
    "<p>As we increase the number of points in our training set. The blue is the training accuracy, orange is validation accuracy. Training accuracy starts very hight because they are few points at the beginning and it over fits and as we increase the number of training points, overfitting decreases gradually. Validation accuracy at the beginning is useless, but it keeps increaseing  slowly and at some point around ,125, it is kind of constant. Training and validation accuracy donot change after 125 </p>"
   ]
  },
  {
   "cell_type": "markdown",
   "metadata": {
    "id": "cijMFryUkHqH"
   },
   "source": [
    "Decreasing the interval length among the number of training points used, will allow for smoother curves."
   ]
  },
  {
   "cell_type": "code",
   "execution_count": 93,
   "metadata": {
    "id": "ocbDQlX4kHqI"
   },
   "outputs": [],
   "source": [
    "accuracy_train = []\n",
    "accuracy_val = []\n",
    "clf = LogisticRegression(max_iter = 1000, solver='lbfgs', penalty='l2', C=1, verbose=0)\n",
    "\n",
    "num_points = list(range(5, X_train_val.shape[0], 5))\n",
    "\n",
    "for n in num_points:\n",
    "    clf.fit(X_train_val[0:n, :], y_train_val[0:n])\n",
    "    pred_trn = clf.predict(X_train_val[0:n, :])\n",
    "    accuracy_train.append(metrics.accuracy_score(y_true = y_train_val[0:n], y_pred = pred_trn))\n",
    "    pred_val = clf.predict(X_val)\n",
    "    accuracy_val.append(metrics.accuracy_score(y_true = y_val, y_pred = pred_val))"
   ]
  },
  {
   "cell_type": "code",
   "execution_count": 94,
   "metadata": {
    "id": "XmJ2A4E9kHqJ",
    "outputId": "32b7a892-15a8-4409-f0d8-9e3eda8892a9"
   },
   "outputs": [
    {
     "data": {
      "image/png": "[encoded data removed]",
      "text/plain": [
       "<Figure size 900x600 with 1 Axes>"
      ]
     },
     "metadata": {
      "needs_background": "light"
     },
     "output_type": "display_data"
    }
   ],
   "source": [
    "f, ax = plt.subplots(dpi=150)\n",
    "ax.plot(num_points, accuracy_train, marker='o', color='blue', label='Train')\n",
    "ax.plot(num_points, accuracy_val, marker='o', color='orange', label='Val')\n",
    "ax.set_xlabel('Number of points in training')\n",
    "ax.set_ylabel('Accuracy')\n",
    "ax.set_title(\"Learning Curve\")\n",
    "# ax.set_xticks(np.arange(len(num_points)))\n",
    "# ax.set_xticklabels(num_points, rotation=90)\n",
    "ax.legend();\n",
    "ax.grid()"
   ]
  },
  {
   "cell_type": "markdown",
   "metadata": {},
   "source": [
    "<p>Once we decrease the increment by 5, we have a finner figure</p>"
   ]
  },
  {
   "cell_type": "markdown",
   "metadata": {
    "id": "XzFE7x0mkHqK"
   },
   "source": [
    "## Exercise:"
   ]
  },
  {
   "cell_type": "markdown",
   "metadata": {
    "id": "oZ70BoJ1kHqL"
   },
   "source": [
    "- Choose a classification model.\n",
    "- Choose a single hyper-parameter for this model.\n",
    "- Create validation and learning curves similar to the ones above.\n",
    "- Compare the performance of your model to the logistic regression model using the test set. Which one is better?"
   ]
  },
  {
   "cell_type": "code",
   "execution_count": null,
   "metadata": {
    "id": "6nOGqDkdkHqN"
   },
   "outputs": [],
   "source": []
  },
  {
   "cell_type": "code",
   "execution_count": null,
   "metadata": {
    "id": "pQjnLjjpkHqN"
   },
   "outputs": [],
   "source": []
  },
  {
   "cell_type": "markdown",
   "metadata": {
    "id": "JtgI3_Ft8CYP"
   },
   "source": [
    "The End  \n",
    "Ilyas Ustun  \n"
   ]
  }
 ],
 "metadata": {
  "colab": {
   "collapsed_sections": [
    "eeqQ5iLu8CYN",
    "MBidCy46kHp8",
    "S65kEIFA8CYK"
   ],
   "name": "model evaluation and debugging.ipynb",
   "provenance": []
  },
  "kernelspec": {
   "display_name": "Python 3 (ipykernel)",
   "language": "python",
   "name": "python3"
  },
  "language_info": {
   "codemirror_mode": {
    "name": "ipython",
    "version": 3
   },
   "file_extension": ".py",
   "mimetype": "text/x-python",
   "name": "python",
   "nbconvert_exporter": "python",
   "pygments_lexer": "ipython3",
   "version": "3.8.12"
  },
  "toc": {
   "base_numbering": 1,
   "nav_menu": {},
   "number_sections": false,
   "sideBar": false,
   "skip_h1_title": false,
   "title_cell": "Table of Contents",
   "title_sidebar": "Contents",
   "toc_cell": false,
   "toc_position": {},
   "toc_section_display": false,
   "toc_window_display": false
  }
 },
 "nbformat": 4,
 "nbformat_minor": 4
}
