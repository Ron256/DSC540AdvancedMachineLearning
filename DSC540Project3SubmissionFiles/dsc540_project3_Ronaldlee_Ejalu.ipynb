{
 "cells": [
  {
   "cell_type": "markdown",
   "metadata": {},
   "source": [
    "# DSC540 Project 3"
   ]
  },
  {
   "cell_type": "markdown",
   "metadata": {},
   "source": [
    "DePaul University  \n",
    "Ilyas Ustun, PhD  \n",
    "Chicago, IL  "
   ]
  },
  {
   "cell_type": "markdown",
   "metadata": {},
   "source": [
    "## Rules\n",
    "- Write your code under the corresponding questions. You are encouraged to use more than one cell.\n",
    "- Provide explanation in a separate Markdown formatted cell. \n",
    "- You can change the cell type by:\n",
    "    - Click on the outer area of the cell type you want to change,\n",
    "    - Go to the top, and select either Code or Markdown from the dropdown menu.\n",
    "- Be concise in your explanations and conclusions.\n",
    "- Write clear code and provide explanation to functions you create by using `#` comment sign.\n",
    "- Try to answer the questions by yourself. Use documentation from pandas, sklearn and similar libraries to solve the problem.\n",
    "- If you are stuck you can use different resources. Do not find an identical project and copy paste the solutions. \n",
    "- Write your name at the beginning of the jupyter notebook.\n",
    "\n",
    "\n",
    "Important:  \n",
    "- **Do NOT share the solutions with other people.**\n",
    "- **Do NOT share the solutions on the internet including but not limited to Github and other platforms.**\n",
    "- Sign the Honor Pledge below indicating that you have agreed to these rules listed here, and any other ethical and honor rules as required by the university.\n",
    "\n",
    "\n",
    "\n",
    "- **Deliverables:**\n",
    "    1. The Python Jupyter notebook file named properly with your name. Example: dsc540_project1_john_doe.ipynb\n",
    "    2. The HTML output of this code notebook names the same way. Example: dsc540_project1_john_doe.html\n",
    "        - File -> Download as -> HTML  \n",
    "        \n",
    "        \n",
    "**DO NOT zip the files.**\n",
    "\n",
    "Good Luck!"
   ]
  },
  {
   "cell_type": "markdown",
   "metadata": {},
   "source": [
    "### Ronaldlee Ejalu"
   ]
  },
  {
   "cell_type": "markdown",
   "metadata": {},
   "source": [
    "**Honor Pledge:**  \n",
    "I pledge on my honor that I, **Ronaldlee Ejalu**, have followed the rules listed above, that I have not given or received any unauthorized assistance on this assignment. \n"
   ]
  },
  {
   "cell_type": "markdown",
   "metadata": {},
   "source": [
    "\n",
    "## Project Description\n",
    "\n",
    "In this project we will be analyzing CO and NOX gas emissions from a power plant. The variables, their meanings and some statistics are given in the table below."
   ]
  },
  {
   "cell_type": "markdown",
   "metadata": {},
   "source": [
    "![PowerPlantEmissionsFeaturesTable](PowerPlantEmissionsFeaturesTable.PNG)"
   ]
  },
  {
   "cell_type": "markdown",
   "metadata": {},
   "source": [
    "## Import Libraries\n",
    "\n",
    "**Import the usual libraries for pandas and plotting, and sklearn.**"
   ]
  },
  {
   "cell_type": "code",
   "execution_count": 1,
   "metadata": {},
   "outputs": [],
   "source": [
    "import pandas as pd\n",
    "import numpy as np\n",
    "import matplotlib.pyplot as plt\n",
    "import seaborn as sns\n",
    "\n",
    "from sklearn import metrics"
   ]
  },
  {
   "cell_type": "code",
   "execution_count": 2,
   "metadata": {},
   "outputs": [
    {
     "data": {
      "text/plain": [
       "'1.0.2'"
      ]
     },
     "execution_count": 2,
     "metadata": {},
     "output_type": "execute_result"
    }
   ],
   "source": [
    "import sklearn\n",
    "sklearn.__version__"
   ]
  },
  {
   "cell_type": "code",
   "execution_count": 3,
   "metadata": {},
   "outputs": [],
   "source": [
    "pd.set_option('display.max_columns', 100)\n",
    "RANDOM_STATE = 0"
   ]
  },
  {
   "cell_type": "markdown",
   "metadata": {},
   "source": [
    "### These are the packages I used"
   ]
  },
  {
   "cell_type": "code",
   "execution_count": 4,
   "metadata": {},
   "outputs": [],
   "source": [
    "from sklearn.model_selection import GridSearchCV, RandomizedSearchCV\n",
    "from statsmodels.stats.outliers_influence import variance_inflation_factor\n",
    "from sklearn.model_selection import StratifiedKFold\n",
    "from sklearn.ensemble import  RandomForestClassifier, GradientBoostingClassifier\n",
    "from sklearn.linear_model import SGDRegressor\n",
    "from sklearn.preprocessing import PolynomialFeatures\n",
    "from sklearn.linear_model import LogisticRegression\n",
    "from sklearn.ensemble import VotingClassifier\n",
    "from sklearn.model_selection import cross_val_score, cross_val_predict"
   ]
  },
  {
   "cell_type": "code",
   "execution_count": 5,
   "metadata": {},
   "outputs": [],
   "source": [
    "cv = StratifiedKFold(n_splits=10, shuffle=True, random_state=RANDOM_STATE)\n",
    "\n",
    "# initialize a list of regression models\n",
    "regressionModels=[] \n",
    "\n",
    "# initialize a list of classification models\n",
    "classificationModels=[]"
   ]
  },
  {
   "cell_type": "markdown",
   "metadata": {},
   "source": [
    "> NOTE: For the Kernel RBF SVM hyper parameter tuning use these parameters in the questions:\n",
    "        \n",
    "        'C': [1, 10, 100, 1000]\n",
    "        'gamma': [0.001, 0.01, 0.1, 1]"
   ]
  },
  {
   "cell_type": "markdown",
   "metadata": {},
   "source": [
    "## Q1 [10]\n",
    "- Read in the dataset\n",
    "- How many rows and variables are there?\n"
   ]
  },
  {
   "cell_type": "markdown",
   "metadata": {},
   "source": [
    "#### Get the Data\n",
    "\n",
    "**Use pandas to read in the datasets as a dataframe.**"
   ]
  },
  {
   "cell_type": "code",
   "execution_count": 6,
   "metadata": {},
   "outputs": [],
   "source": [
    "df = pd.read_csv('..\\..\\datasets\\gas_emissions.csv')"
   ]
  },
  {
   "cell_type": "code",
   "execution_count": 7,
   "metadata": {},
   "outputs": [
    {
     "data": {
      "text/html": [
       "<div>\n",
       "<style scoped>\n",
       "    .dataframe tbody tr th:only-of-type {\n",
       "        vertical-align: middle;\n",
       "    }\n",
       "\n",
       "    .dataframe tbody tr th {\n",
       "        vertical-align: top;\n",
       "    }\n",
       "\n",
       "    .dataframe thead th {\n",
       "        text-align: right;\n",
       "    }\n",
       "</style>\n",
       "<table border=\"1\" class=\"dataframe\">\n",
       "  <thead>\n",
       "    <tr style=\"text-align: right;\">\n",
       "      <th></th>\n",
       "      <th>AT</th>\n",
       "      <th>AP</th>\n",
       "      <th>AH</th>\n",
       "      <th>AFDP</th>\n",
       "      <th>GTEP</th>\n",
       "      <th>TIT</th>\n",
       "      <th>TAT</th>\n",
       "      <th>TEY</th>\n",
       "      <th>CDP</th>\n",
       "      <th>CO</th>\n",
       "      <th>NOX</th>\n",
       "    </tr>\n",
       "  </thead>\n",
       "  <tbody>\n",
       "    <tr>\n",
       "      <th>0</th>\n",
       "      <td>1.95320</td>\n",
       "      <td>1020.1</td>\n",
       "      <td>84.985</td>\n",
       "      <td>2.5304</td>\n",
       "      <td>20.116</td>\n",
       "      <td>1048.7</td>\n",
       "      <td>544.92</td>\n",
       "      <td>116.27</td>\n",
       "      <td>10.799</td>\n",
       "      <td>7.4491</td>\n",
       "      <td>113.250</td>\n",
       "    </tr>\n",
       "    <tr>\n",
       "      <th>1</th>\n",
       "      <td>1.21910</td>\n",
       "      <td>1020.1</td>\n",
       "      <td>87.523</td>\n",
       "      <td>2.3937</td>\n",
       "      <td>18.584</td>\n",
       "      <td>1045.5</td>\n",
       "      <td>548.50</td>\n",
       "      <td>109.18</td>\n",
       "      <td>10.347</td>\n",
       "      <td>6.4684</td>\n",
       "      <td>112.020</td>\n",
       "    </tr>\n",
       "    <tr>\n",
       "      <th>2</th>\n",
       "      <td>0.94915</td>\n",
       "      <td>1022.2</td>\n",
       "      <td>78.335</td>\n",
       "      <td>2.7789</td>\n",
       "      <td>22.264</td>\n",
       "      <td>1068.8</td>\n",
       "      <td>549.95</td>\n",
       "      <td>125.88</td>\n",
       "      <td>11.256</td>\n",
       "      <td>3.6335</td>\n",
       "      <td>88.147</td>\n",
       "    </tr>\n",
       "    <tr>\n",
       "      <th>3</th>\n",
       "      <td>1.00750</td>\n",
       "      <td>1021.7</td>\n",
       "      <td>76.942</td>\n",
       "      <td>2.8170</td>\n",
       "      <td>23.358</td>\n",
       "      <td>1075.2</td>\n",
       "      <td>549.63</td>\n",
       "      <td>132.21</td>\n",
       "      <td>11.702</td>\n",
       "      <td>3.1972</td>\n",
       "      <td>87.078</td>\n",
       "    </tr>\n",
       "    <tr>\n",
       "      <th>4</th>\n",
       "      <td>1.28580</td>\n",
       "      <td>1021.6</td>\n",
       "      <td>76.732</td>\n",
       "      <td>2.8377</td>\n",
       "      <td>23.483</td>\n",
       "      <td>1076.2</td>\n",
       "      <td>549.68</td>\n",
       "      <td>133.58</td>\n",
       "      <td>11.737</td>\n",
       "      <td>2.3833</td>\n",
       "      <td>82.515</td>\n",
       "    </tr>\n",
       "  </tbody>\n",
       "</table>\n",
       "</div>"
      ],
      "text/plain": [
       "        AT      AP      AH    AFDP    GTEP     TIT     TAT     TEY     CDP  \\\n",
       "0  1.95320  1020.1  84.985  2.5304  20.116  1048.7  544.92  116.27  10.799   \n",
       "1  1.21910  1020.1  87.523  2.3937  18.584  1045.5  548.50  109.18  10.347   \n",
       "2  0.94915  1022.2  78.335  2.7789  22.264  1068.8  549.95  125.88  11.256   \n",
       "3  1.00750  1021.7  76.942  2.8170  23.358  1075.2  549.63  132.21  11.702   \n",
       "4  1.28580  1021.6  76.732  2.8377  23.483  1076.2  549.68  133.58  11.737   \n",
       "\n",
       "       CO      NOX  \n",
       "0  7.4491  113.250  \n",
       "1  6.4684  112.020  \n",
       "2  3.6335   88.147  \n",
       "3  3.1972   87.078  \n",
       "4  2.3833   82.515  "
      ]
     },
     "execution_count": 7,
     "metadata": {},
     "output_type": "execute_result"
    }
   ],
   "source": [
    "# Display the top 5 records\n",
    "df.head()"
   ]
  },
  {
   "cell_type": "code",
   "execution_count": 8,
   "metadata": {},
   "outputs": [
    {
     "data": {
      "text/plain": [
       "(7384, 11)"
      ]
     },
     "execution_count": 8,
     "metadata": {},
     "output_type": "execute_result"
    }
   ],
   "source": [
    "df.shape "
   ]
  },
  {
   "cell_type": "markdown",
   "metadata": {},
   "source": [
    "<p>There are 7384 rows with 11 variables.</p>"
   ]
  },
  {
   "cell_type": "code",
   "execution_count": 9,
   "metadata": {},
   "outputs": [
    {
     "name": "stdout",
     "output_type": "stream",
     "text": [
      "<class 'pandas.core.frame.DataFrame'>\n",
      "RangeIndex: 7384 entries, 0 to 7383\n",
      "Data columns (total 11 columns):\n",
      " #   Column  Non-Null Count  Dtype  \n",
      "---  ------  --------------  -----  \n",
      " 0   AT      7384 non-null   float64\n",
      " 1   AP      7384 non-null   float64\n",
      " 2   AH      7384 non-null   float64\n",
      " 3   AFDP    7384 non-null   float64\n",
      " 4   GTEP    7384 non-null   float64\n",
      " 5   TIT     7384 non-null   float64\n",
      " 6   TAT     7384 non-null   float64\n",
      " 7   TEY     7384 non-null   float64\n",
      " 8   CDP     7384 non-null   float64\n",
      " 9   CO      7384 non-null   float64\n",
      " 10  NOX     7384 non-null   float64\n",
      "dtypes: float64(11)\n",
      "memory usage: 634.7 KB\n"
     ]
    }
   ],
   "source": [
    "df.info()"
   ]
  },
  {
   "cell_type": "markdown",
   "metadata": {},
   "source": [
    "#### Is there any missing data?"
   ]
  },
  {
   "cell_type": "code",
   "execution_count": 10,
   "metadata": {},
   "outputs": [
    {
     "data": {
      "text/plain": [
       "AT      0\n",
       "AP      0\n",
       "AH      0\n",
       "AFDP    0\n",
       "GTEP    0\n",
       "TIT     0\n",
       "TAT     0\n",
       "TEY     0\n",
       "CDP     0\n",
       "CO      0\n",
       "NOX     0\n",
       "dtype: int64"
      ]
     },
     "execution_count": 10,
     "metadata": {},
     "output_type": "execute_result"
    }
   ],
   "source": [
    "# detect the number of missing values in the X dataframe of each variable and sum them up.\n",
    "df.isnull().sum()"
   ]
  },
  {
   "cell_type": "markdown",
   "metadata": {},
   "source": [
    "#### What is the average value of AP for those points who have CO levels above 3 $mg/m^3$?"
   ]
  },
  {
   "cell_type": "code",
   "execution_count": 11,
   "metadata": {},
   "outputs": [
    {
     "data": {
      "text/plain": [
       "1015.6900173490633"
      ]
     },
     "execution_count": 11,
     "metadata": {},
     "output_type": "execute_result"
    }
   ],
   "source": [
    "# lets create a mask for CO levels greater than 3 mg/m^3\n",
    "co_mask = df['CO'] > 3\n",
    "\n",
    "# we perform a subselection for all those points meeting the criteria specificied in the mask. \n",
    "df_co_greaterthan3 = df[co_mask]\n",
    "\n",
    "# we find the average value of AP\n",
    "df_co_greaterthan3['AP'].mean()"
   ]
  },
  {
   "cell_type": "markdown",
   "metadata": {},
   "source": [
    "#### Create a correlation map between the variables. Which variables have high correlation (> |0.9|)?"
   ]
  },
  {
   "cell_type": "code",
   "execution_count": 12,
   "metadata": {},
   "outputs": [
    {
     "data": {
      "image/png": "[encoded data removed]",
      "text/plain": [
       "<Figure size 1440x864 with 2 Axes>"
      ]
     },
     "metadata": {
      "needs_background": "light"
     },
     "output_type": "display_data"
    }
   ],
   "source": [
    "cormap = df.corr().round(2)\n",
    "plt.figure(figsize=(20, 12))\n",
    "sns.heatmap(cormap, cmap='YlOrBr', annot_kws={'size':8}, square=True, cbar = True)\n",
    "plt.show()"
   ]
  },
  {
   "cell_type": "markdown",
   "metadata": {},
   "source": [
    "<ul>The variables with high correlation (> |0.9|) are:\n",
    "<li>AFDP and CDP.</li>\n",
    "<li>AFDP and TEY.</li>\n",
    "<li>GTEP and CDP.</li>\n",
    "<li>GTEP and TEY.</li>\n",
    "<li>TIT  and CDP.</li>\n",
    "<li>TIT  and TEY.</li>\n",
    "<li>TEY  and CDP.</li>\n",
    "<li>AFDP and TIT.</li>\n",
    "<li>GTEP and TIT.</li>\n",
    "</ul>"
   ]
  },
  {
   "cell_type": "markdown",
   "metadata": {},
   "source": [
    "#### Create a scatter plot of 'TEY' vs 'CDP'"
   ]
  },
  {
   "cell_type": "code",
   "execution_count": 13,
   "metadata": {},
   "outputs": [
    {
     "data": {
      "image/png": "[encoded data removed]",
      "text/plain": [
       "<Figure size 432x288 with 1 Axes>"
      ]
     },
     "metadata": {
      "needs_background": "light"
     },
     "output_type": "display_data"
    }
   ],
   "source": [
    "sns.scatterplot(x=df['CDP'], y=df['TEY'], alpha=0.8)\n",
    "plt.show()"
   ]
  },
  {
   "cell_type": "markdown",
   "metadata": {},
   "source": [
    "#### Create histograms for CO and NOX."
   ]
  },
  {
   "cell_type": "code",
   "execution_count": 14,
   "metadata": {},
   "outputs": [
    {
     "data": {
      "image/png": "[encoded data removed]",
      "text/plain": [
       "<Figure size 432x288 with 1 Axes>"
      ]
     },
     "metadata": {
      "needs_background": "light"
     },
     "output_type": "display_data"
    }
   ],
   "source": [
    "hplot = df['CO'].plot(kind='hist', bins=30)\n",
    "\n",
    "# rename the y-axis to nothing\n",
    "hplot.set_ylabel('')\n",
    "plt.show()"
   ]
  },
  {
   "cell_type": "code",
   "execution_count": 15,
   "metadata": {},
   "outputs": [
    {
     "data": {
      "image/png": "[encoded data removed]",
      "text/plain": [
       "<Figure size 432x288 with 1 Axes>"
      ]
     },
     "metadata": {
      "needs_background": "light"
     },
     "output_type": "display_data"
    }
   ],
   "source": [
    "hplot = df['NOX'].plot(kind='hist', bins=30)\n",
    "\n",
    "# rename the y-axis to nothing\n",
    "hplot.set_ylabel('')\n",
    "plt.show()"
   ]
  },
  {
   "cell_type": "markdown",
   "metadata": {},
   "source": [
    "#### Create a sctter plot of CO vs NOX."
   ]
  },
  {
   "cell_type": "code",
   "execution_count": 16,
   "metadata": {},
   "outputs": [
    {
     "data": {
      "image/png": "[encoded data removed]",
      "text/plain": [
       "<Figure size 432x288 with 1 Axes>"
      ]
     },
     "metadata": {
      "needs_background": "light"
     },
     "output_type": "display_data"
    }
   ],
   "source": [
    "sns.scatterplot(x=df['NOX'], y=df['CO'], alpha=0.8)\n",
    "plt.show()"
   ]
  },
  {
   "cell_type": "markdown",
   "metadata": {},
   "source": [
    "### Prepare data for machine learning"
   ]
  },
  {
   "cell_type": "markdown",
   "metadata": {},
   "source": [
    "- We will predict CO using all the other variables.\n",
    "- NOX, which is another emission gas, will not be used as predictor.\n",
    "- CO is a continuous variable, thus we will be doing regression.\n",
    "- Many of algorithms that do classification also have regression counterparts."
   ]
  },
  {
   "cell_type": "code",
   "execution_count": 17,
   "metadata": {},
   "outputs": [],
   "source": [
    "y = df.CO\n",
    "X = df.drop(['CO', 'NOX'], axis=1)"
   ]
  },
  {
   "cell_type": "code",
   "execution_count": 18,
   "metadata": {},
   "outputs": [],
   "source": [
    "from sklearn.model_selection import train_test_split\n",
    "X_train, X_test, y_train, y_test = train_test_split(X, y, test_size=0.10, random_state=RANDOM_STATE)\n",
    "X_train, X_val, y_train, y_val = train_test_split(X_train, y_train, test_size=0.20, random_state=RANDOM_STATE)\n",
    "X_train_orig = X_train.copy()"
   ]
  },
  {
   "cell_type": "code",
   "execution_count": 19,
   "metadata": {},
   "outputs": [],
   "source": [
    "# Standardization of the data\n",
    "from sklearn.preprocessing import StandardScaler\n",
    "ss = StandardScaler()\n",
    "ss.fit(X_train)\n",
    "X_train = ss.transform(X_train)\n",
    "X_val = ss.transform(X_val)\n",
    "X_test = ss.transform(X_test)"
   ]
  },
  {
   "cell_type": "code",
   "execution_count": 20,
   "metadata": {},
   "outputs": [
    {
     "data": {
      "text/plain": [
       "(5316, 9)"
      ]
     },
     "execution_count": 20,
     "metadata": {},
     "output_type": "execute_result"
    }
   ],
   "source": [
    "X_train.shape"
   ]
  },
  {
   "cell_type": "code",
   "execution_count": 21,
   "metadata": {},
   "outputs": [
    {
     "data": {
      "text/plain": [
       "(1329, 9)"
      ]
     },
     "execution_count": 21,
     "metadata": {},
     "output_type": "execute_result"
    }
   ],
   "source": [
    "X_val.shape"
   ]
  },
  {
   "cell_type": "code",
   "execution_count": 22,
   "metadata": {},
   "outputs": [
    {
     "data": {
      "text/plain": [
       "(739, 9)"
      ]
     },
     "execution_count": 22,
     "metadata": {},
     "output_type": "execute_result"
    }
   ],
   "source": [
    "X_test.shape"
   ]
  },
  {
   "cell_type": "code",
   "execution_count": 23,
   "metadata": {},
   "outputs": [
    {
     "data": {
      "text/plain": [
       "(5316,)"
      ]
     },
     "execution_count": 23,
     "metadata": {},
     "output_type": "execute_result"
    }
   ],
   "source": [
    "y_train.shape"
   ]
  },
  {
   "cell_type": "markdown",
   "metadata": {},
   "source": [
    "## Utility Functions"
   ]
  },
  {
   "cell_type": "markdown",
   "metadata": {},
   "source": [
    "You can create helper functions.\n",
    "For example, create functions that take the score and store it in a dataframe for a specific model."
   ]
  },
  {
   "cell_type": "code",
   "execution_count": 24,
   "metadata": {},
   "outputs": [],
   "source": [
    "def print_results(results):\n",
    "    print('BEST PARAMS: {}\\n'.format(results.best_params_))\n",
    "\n",
    "    #means = results.cv_results_['mean_test_score']\n",
    "    #stds = results.cv_results_['std_test_score']\n",
    "    #for mean, std, params in zip(means, stds, results.cv_results_['params']):\n",
    "    #    print('{:.3f} (+/-{:.2f}) for {}'.format(round(mean, 3), round(std * 2, 3), params))\n",
    "    return None"
   ]
  },
  {
   "cell_type": "code",
   "execution_count": 25,
   "metadata": {},
   "outputs": [],
   "source": [
    "def deriveRSquared(var_y_true, var_y_pred):\n",
    "    \"\"\"Function that returns the model's R^2 \"\"\"\n",
    "    return metrics.r2_score(var_y_true, var_y_pred)"
   ]
  },
  {
   "cell_type": "code",
   "execution_count": 26,
   "metadata": {},
   "outputs": [],
   "source": [
    "def deriveRMSE(var_y_true, var_y_pred):\n",
    "    \"\"\"Function that returns the model's RMSE(Root Mean Squared Error)\"\"\"\n",
    "    # Using the mean_squared_error in sklearn.metrics with an extra parameter, squared, set to False.\n",
    "    return metrics.mean_squared_error(var_y_true, var_y_pred, squared=False)"
   ]
  },
  {
   "cell_type": "code",
   "execution_count": 27,
   "metadata": {},
   "outputs": [],
   "source": [
    "def deriveGridSearchCV(modelName,estimator, parameters, X_train, y_train, X_val, y_val, score_v):\n",
    "    \"\"\"\n",
    "    A function that takes the base_estimator, parameters, training and validation sets as parameters' \n",
    "    values to perform a GridSearchCV with a goal of finding the best hyper parameters.\n",
    "    This function prints the R^2, and RMSE scores on both training and validation.\n",
    "    It also returns the model's prediction on the training and validation data. \n",
    "    \"\"\"\n",
    "    if score_v == 'f1':\n",
    "        gs = GridSearchCV(estimator, parameters, scoring=score_v, cv=cv, n_jobs=-1)\n",
    "    else:\n",
    "        # derive a GridSearchCV object\n",
    "        gs = GridSearchCV(estimator, parameters, scoring=score_v, cv=5, n_jobs=-1) # you can decrease the number  cross validation so that it can faster\n",
    "\n",
    "    # fit the object with the training data.\n",
    "    gs.fit(X_train, y_train)\n",
    "\n",
    "    print_results(gs)\n",
    "    print('\\n')\n",
    "\n",
    "    # output the model's prediction on the training set\n",
    "    y_train_pred_gs = gs.best_estimator_.predict(X_train)\n",
    "\n",
    "    # output the model's prediction on the validation data\n",
    "    y_val_pred_gs = gs.best_estimator_.predict(X_val)\n",
    "\n",
    "    # R^2 on the training data\n",
    "    print(\"The model's R^2 on the training data set is %.3f.\"%deriveRSquared(y_train, y_train_pred_gs))\n",
    "\n",
    "    # R^2 on the validation data\n",
    "    print(\"The model's R^2 on the validation data set is %.3f.\" %deriveRSquared(y_val, y_val_pred_gs))\n",
    "\n",
    "    # RMSE on the training data\n",
    "    print(\"\\nThe model's RMSE on the training data  is %.3f.\" %deriveRMSE(y_train, y_train_pred_gs))\n",
    "\n",
    "    # RMSE on the validation data\n",
    "    print(\"The model's RMSE on the training data  is %.3f.\" %deriveRMSE(y_val, y_val_pred_gs))\n",
    "    \n",
    "    # return the model's prediction on training and validation data\n",
    "    return modelName, roundOffValue(deriveRSquared(y_train, y_train_pred_gs)), roundOffValue(deriveRSquared(y_val, y_val_pred_gs)), roundOffValue(deriveRMSE(y_train, y_train_pred_gs)), roundOffValue(deriveRMSE(y_val, y_val_pred_gs)), gs.best_estimator_"
   ]
  },
  {
   "cell_type": "code",
   "execution_count": 28,
   "metadata": {},
   "outputs": [],
   "source": [
    "def deriveConfusionMatrix(y_val_cat, val_pred):\n",
    "    \"\"\"\n",
    "    A function that the utiliizes the confusion matrix to calculate and print \n",
    "    the following metrics: Recall(Sensitivity), Specificity, Precision, Balanced Accuracy, and F1-Score \n",
    "    and also displays the confusion matrix \"\"\"\n",
    "    \n",
    "    print('\\nThe Confusion Matrix is given below:')\n",
    "    # create a confusion matrix\n",
    "    metrics.ConfusionMatrixDisplay.from_predictions(y_true=y_val_cat, y_pred=val_pred) \n",
    "    plt.show()\n",
    "\n",
    "    # Using the classification report from the metrics package to calculate Recall(Sensitivity)\n",
    "    #, Specificity, Precision and F1-Score.\n",
    "    print('\\nThe classification report is given below:')\n",
    "    print(metrics.classification_report(y_val_cat, val_pred))\n",
    "\n",
    "    # Dynamically calculating Recall(Sensitivity), Specificity, Precision, Balanced Accuracy and F1-Score\n",
    "    TN, FP, FN, TP = metrics.confusion_matrix(y_true=y_val_cat, y_pred=val_pred).ravel() # return the elements of the matrix as array\n",
    "\n",
    "    Specificity = TN/(TN+FP)\n",
    "\n",
    "    Precision = TP/(TP+FP)\n",
    "\n",
    "    Recall = TP/(TP+FN)\n",
    "\n",
    "    F1Score = 2 * ((Precision * Recall)/(Precision + Recall))\n",
    "\n",
    "    BalancedAccuracy = (Recall  + Specificity)/2\n",
    "\n",
    "    print('Recall (Sensivity): %s' %(str(Recall.round(2))))\n",
    "    print('Specificity: %s' %(str(Specificity.round(2))))\n",
    "    print('Precision: %s' %(str(Precision.round(2))))\n",
    "    print('Balanced Accuracy: %s' %(str(BalancedAccuracy.round(2))))\n",
    "    print('F1 Score: %s' %(str(F1Score.round(2))))\n",
    "    \n",
    "    return roundOffValue(Recall), roundOffValue(Specificity), roundOffValue(Precision), roundOffValue(BalancedAccuracy), roundOffValue(F1Score) "
   ]
  },
  {
   "cell_type": "code",
   "execution_count": 29,
   "metadata": {},
   "outputs": [],
   "source": [
    "def deriveVIF(ds):\n",
    "    \"\"\"Function that returns the VIF values of the different features\"\"\"\n",
    "    # create a data frame\n",
    "    vif = pd.DataFrame()\n",
    "    # assign the different features are values to the features column of the data frame\n",
    "    vif['features'] = ds.columns\n",
    "    \n",
    "    # loop through each feature indice and calculate its VIF value\n",
    "    vif['VIF_values'] = [variance_inflation_factor(ds.values, f) for f in range(ds.shape[1])]\n",
    "    \n",
    "    return vif"
   ]
  },
  {
   "cell_type": "code",
   "execution_count": 30,
   "metadata": {},
   "outputs": [],
   "source": [
    "def buildTheModel(modelName, baseEstimator, X_train, y_train, X_val, y_val):\n",
    "    \"\"\"\n",
    "    A function that returns the prediction on the training and validation data sets \n",
    "    and also prints R squared and RMSE on training and validation\n",
    "    \"\"\"\n",
    "    \n",
    "    # fit the model on the training set\n",
    "    # baseEstimator.fit(X_train, y_train)\n",
    "    \n",
    "    # output the model's prediction on the training data\n",
    "    y_train_pred = baseEstimator.predict(X_train)\n",
    "    \n",
    "    # output the model's prediction on the validation data\n",
    "    y_val_pred = baseEstimator.predict(X_val)\n",
    "    \n",
    "    # R^2 on the training data\n",
    "    print(\"The model's R^2 on the training data is %.3f.\" %deriveRSquared(y_train, y_train_pred))\n",
    "    \n",
    "    # R^2 on the validation data\n",
    "    print(\"The model's R^2 on the validation data is %.3f.\" %deriveRSquared(y_val, y_val_pred))\n",
    "    \n",
    "    # Root Mean Squared Error (RMSE) on training data\n",
    "    print(\"\\nThe model's Root Mean Squared Error (RMSE) on the training data is %.3f.\" %deriveRMSE(y_train, y_train_pred))\n",
    "    \n",
    "    # Root Mean Squared Error (RMSE) on validation data\n",
    "    print(\"The model's Root Mean Squared Error (RMSE) on the validation data is %.3f.\" %deriveRMSE(y_val, y_val_pred))\n",
    "    \n",
    "    r2_training = deriveRSquared(y_train, y_train_pred)\n",
    "    r2_validation = deriveRSquared(y_val, y_val_pred)\n",
    "    rmse_training = deriveRMSE(y_train, y_train_pred)\n",
    "    rmse_validation = deriveRMSE(y_val, y_val_pred)\n",
    "    \n",
    "    \n",
    "    # regressionModels.append(modelName, r2_training, r2_validation, rmse_training, rmse_validation)\n",
    "    \n",
    "    # return the model's prediction on the training and validation data sets.\n",
    "    #return y_train_pred, y_val_pred\n",
    "    return modelName, roundOffValue(deriveRSquared(y_train, y_train_pred)), roundOffValue(deriveRSquared(y_val, y_val_pred)), roundOffValue(deriveRMSE(y_train, y_train_pred)), roundOffValue(deriveRMSE(y_val, y_val_pred)) "
   ]
  },
  {
   "cell_type": "code",
   "execution_count": 31,
   "metadata": {},
   "outputs": [],
   "source": [
    "def roundOffValue(num):\n",
    "    \"\"\"A function that returns a number rounded off two decimal places\"\"\"\n",
    "    return num.round(2)"
   ]
  },
  {
   "cell_type": "code",
   "execution_count": 32,
   "metadata": {},
   "outputs": [],
   "source": [
    "def deriveClassifierObject(modelName, classifier, X_train, y_train, X_val, y_val):\n",
    "    \"\"\"function that returns the classifier's metrics after fitting the model \n",
    "    and printing the classifier's metrics, confusion matrics and classification report\n",
    "    \"\"\"\n",
    "    \n",
    "    # fit the object with the training data.\n",
    "    classifier.fit(X_train, y_train_cat)\n",
    "\n",
    "    # output the model's prediction on the training set\n",
    "    y_train_pred = classifier.predict(X_train)\n",
    "\n",
    "    \n",
    "    # output the model's prediction on the validation data\n",
    "    y_val_pred = classifier.predict(X_val)\n",
    "\n",
    "    print(\"The model's accuracy on training is : %s\" %str(roundOffValue(metrics.accuracy_score(y_true=y_train, y_pred=y_train_pred))))\n",
    "    print(\"The model's accuracy on validation is : %s\" %str(roundOffValue(metrics.accuracy_score(y_true=y_val, y_pred=y_val_pred))))\n",
    "\n",
    "    # A helper function that prints Recall(Sensitivity), Specificity, Precision, Balanced Accuracy, and F1-Score\n",
    "    # and also outputs the Confusion Matrix plus the  classification report. \n",
    "    class_Metrics=deriveConfusionMatrix(y_val_cat, y_val_pred)\n",
    "    \n",
    "    # print('type of class_Metrics is %s' %type(class_Metrics))\n",
    "    listOfMetrics = list(class_Metrics)\n",
    "    all_metrics = [modelName, \n",
    "                   roundOffValue(metrics.accuracy_score(y_true=y_train, y_pred=y_train_pred)), \n",
    "                   roundOffValue(metrics.accuracy_score(y_true=y_val_cat, y_pred=y_val_pred)), \n",
    "                  ]\n",
    "    \n",
    "    for item in listOfMetrics:\n",
    "        all_metrics.append(item)\n",
    "    \n",
    "    return all_metrics # return the classifier's metrics"
   ]
  },
  {
   "cell_type": "code",
   "execution_count": 33,
   "metadata": {},
   "outputs": [],
   "source": [
    "def classGridSearchCV(modelName, estimator, parameters, X_train, y_train_cat, X_val, y_val_cat, score_v):\n",
    "\n",
    "    # perform a grid Search\n",
    "    gs = GridSearchCV(estimator, parameters, scoring=score_v, cv=cv, n_jobs=-1)\n",
    "\n",
    "    # fit the object with the training data.\n",
    "    gs.fit(X_train, y_train_cat)\n",
    "\n",
    "    print_results(gs)\n",
    "    print('\\n')\n",
    "\n",
    "    # output the model's prediction on the training set\n",
    "    y_train_pred_gs = gs.best_estimator_.predict(X_train)\n",
    "\n",
    "    \n",
    "    # output the model's prediction on the validation data\n",
    "    y_val_pred_gs = gs.best_estimator_.predict(X_val)\n",
    "\n",
    "    print(\"The model's accuracy on training is : %s\" %str(roundOffValue(metrics.accuracy_score(y_true=y_train_cat, y_pred=y_train_pred_gs))))\n",
    "    print(\"The model's accuracy on validation is : %s\" %str(roundOffValue(metrics.accuracy_score(y_true=y_val_cat, y_pred=y_val_pred_gs))))\n",
    "\n",
    "    # A helper function that prints Recall(Sensitivity), Specificity, Precision, Balanced Accuracy, and F1-Score\n",
    "    # and also outputs the Confusion Matrix plus the  classification report. \n",
    "    class_Metrics=deriveConfusionMatrix(y_val_cat, y_val_pred_gs)\n",
    "    \n",
    "    # print('type of class_Metrics is %s' %type(class_Metrics))\n",
    "    listOfMetrics = list(class_Metrics)\n",
    "    all_metrics = [modelName, \n",
    "                   roundOffValue(metrics.accuracy_score(y_true=y_train_cat, y_pred=y_train_pred_gs)), \n",
    "                   roundOffValue(metrics.accuracy_score(y_true=y_val_cat, y_pred=y_val_pred_gs)), \n",
    "                  ]\n",
    "    \n",
    "    for item in listOfMetrics:\n",
    "        all_metrics.append(item)\n",
    "    \n",
    "    return all_metrics, gs.best_estimator_"
   ]
  },
  {
   "cell_type": "markdown",
   "metadata": {},
   "source": [
    "- Apply Linear Regression. Predict CO emission using other variables.\n",
    "    - What is the model $R^2$ on training data?\n",
    "    - What is the $R^2$ on validation data?\n",
    "    - What is the Root Mean Squared Error (RMSE) on training data?\n",
    "    - What is the RMSE on validation data?\n",
    "    \n",
    "> - $R^2$ higher is better. ($R^2$ is % variation in data being explained)  \n",
    "> - RMSE lower is better. (RMSE (Root Mean Squared Error) is error, meaning the difference between predictions and actual data)  \n",
    "\n",
    "Hint:  \n",
    "- You can use the `r2_score` and `mean_squared_error` methods in `sklearn.metrics`.   \n",
    "- You need to take the square root of Mean Squared Error to get to RMSE. (MSE $\\rightarrow$ square root $\\rightarrow$ RMSE)"
   ]
  },
  {
   "cell_type": "code",
   "execution_count": 34,
   "metadata": {},
   "outputs": [],
   "source": [
    "from sklearn.linear_model import LinearRegression"
   ]
  },
  {
   "cell_type": "code",
   "execution_count": 35,
   "metadata": {},
   "outputs": [],
   "source": [
    "# initialize a LinearRegression object\n",
    "lr = LinearRegression()"
   ]
  },
  {
   "cell_type": "code",
   "execution_count": 36,
   "metadata": {},
   "outputs": [
    {
     "data": {
      "text/plain": [
       "LinearRegression()"
      ]
     },
     "execution_count": 36,
     "metadata": {},
     "output_type": "execute_result"
    }
   ],
   "source": [
    "# fit the model on the training data\n",
    "lr.fit(X_train, y_train)"
   ]
  },
  {
   "cell_type": "code",
   "execution_count": 37,
   "metadata": {},
   "outputs": [
    {
     "name": "stdout",
     "output_type": "stream",
     "text": [
      "The model's R^2 on the training data is 0.664.\n",
      "The model's R^2 on the validation data is 0.646.\n",
      "\n",
      "The model's Root Mean Squared Error (RMSE) on the training data is 1.272.\n",
      "The model's Root Mean Squared Error (RMSE) on the validation data is 1.388.\n"
     ]
    }
   ],
   "source": [
    "# helper function that takes an initializes algorithm object, training and validation sets and returns the model's metrics \n",
    "# after fitting the model on the training data, and also deriving the accuracy on both training and validation data.\n",
    "modelMetrics = buildTheModel('Linear Regression',lr, X_train, y_train, X_val, y_val)"
   ]
  },
  {
   "cell_type": "code",
   "execution_count": 38,
   "metadata": {},
   "outputs": [],
   "source": [
    "# append the model metrics to the list\n",
    "regressionModels.append(modelMetrics)"
   ]
  },
  {
   "cell_type": "code",
   "execution_count": 39,
   "metadata": {},
   "outputs": [
    {
     "data": {
      "text/plain": [
       "[('Linear Regression', 0.66, 0.65, 1.27, 1.39)]"
      ]
     },
     "execution_count": 39,
     "metadata": {},
     "output_type": "execute_result"
    }
   ],
   "source": [
    "regressionModels"
   ]
  },
  {
   "cell_type": "markdown",
   "metadata": {},
   "source": [
    "We see that that RMSE on training and validation sets are 1.272 and 1.388 respectively. The RMSE of the validation set is much larger, which is an indicator that our model is overfitting the training data.  "
   ]
  },
  {
   "cell_type": "markdown",
   "metadata": {},
   "source": [
    "## Q3 [10]"
   ]
  },
  {
   "cell_type": "markdown",
   "metadata": {},
   "source": [
    "- Apply Random Forest Regression with 100 trees. Predict CO emission using other variables.\n",
    "    - What is the model $R^2$?\n",
    "    - What is the $R^2$ on validation data?\n",
    "    - What is the RMSE on training data?\n",
    "    - What is the RMSE on validation data?\n",
    "\n",
    "- Is training and validation score close? If not what might be the problem?\n",
    "- If there is a large gap, try to decrease the gap by changing some hyperparameters of the Random Forest model. (In this analysis, any difference more than 0.10 $R^2$ difference can be assumed to be large.)\n",
    "    - Once you reach a difference of less than or close to 0.10 between training $R^2$ and validation $R^2$ you can stop. \n",
    "    - During this process your training score will probably decrease, and that is OK. "
   ]
  },
  {
   "cell_type": "code",
   "execution_count": 40,
   "metadata": {},
   "outputs": [],
   "source": [
    "from sklearn.ensemble import RandomForestRegressor"
   ]
  },
  {
   "cell_type": "code",
   "execution_count": 41,
   "metadata": {},
   "outputs": [],
   "source": [
    "# initialize a RandomForestRegressor object\n",
    "estimator_rfr = RandomForestRegressor(n_estimators=100, random_state=RANDOM_STATE)"
   ]
  },
  {
   "cell_type": "code",
   "execution_count": 42,
   "metadata": {},
   "outputs": [
    {
     "data": {
      "text/plain": [
       "RandomForestRegressor(random_state=0)"
      ]
     },
     "execution_count": 42,
     "metadata": {},
     "output_type": "execute_result"
    }
   ],
   "source": [
    "# fit the model on the training data\n",
    "estimator_rfr.fit(X_train, y_train)"
   ]
  },
  {
   "cell_type": "code",
   "execution_count": 43,
   "metadata": {},
   "outputs": [
    {
     "name": "stdout",
     "output_type": "stream",
     "text": [
      "The model's R^2 on the training data is 0.964.\n",
      "The model's R^2 on the validation data is 0.756.\n",
      "\n",
      "The model's Root Mean Squared Error (RMSE) on the training data is 0.419.\n",
      "The model's Root Mean Squared Error (RMSE) on the validation data is 1.154.\n"
     ]
    }
   ],
   "source": [
    "# helper function that takes an initializes algorithm object, training and validation sets and returns the model's metrics \n",
    "# after fitting the model on the training data, and also deriving the accuracy on both training and validation data.\n",
    "modelMetrics = buildTheModel('Random Forest Regressor',estimator_rfr, X_train, y_train, X_val, y_val)"
   ]
  },
  {
   "cell_type": "code",
   "execution_count": 44,
   "metadata": {},
   "outputs": [],
   "source": [
    "# append the model metrics to the list\n",
    "regressionModels.append(modelMetrics)"
   ]
  },
  {
   "cell_type": "code",
   "execution_count": 45,
   "metadata": {},
   "outputs": [
    {
     "data": {
      "text/plain": [
       "[('Linear Regression', 0.66, 0.65, 1.27, 1.39),\n",
       " ('Random Forest Regressor', 0.96, 0.76, 0.42, 1.15)]"
      ]
     },
     "execution_count": 45,
     "metadata": {},
     "output_type": "execute_result"
    }
   ],
   "source": [
    "regressionModels"
   ]
  },
  {
   "cell_type": "markdown",
   "metadata": {},
   "source": [
    "<p>No, the training and validation scores are not close. The RMSE of 1.154 on the validation data is much larger, which is an indicator that the model is overfitting on the training data.</p>"
   ]
  },
  {
   "cell_type": "markdown",
   "metadata": {},
   "source": [
    "### Using GridSearchCV to tune the different hyper-parameters"
   ]
  },
  {
   "cell_type": "code",
   "execution_count": 46,
   "metadata": {},
   "outputs": [
    {
     "data": {
      "text/plain": [
       "{'min_samples_split': [2, 20, 40, 120],\n",
       " 'n_estimators': [100, 300, 600, 900],\n",
       " 'max_depth': [10, 20, 50, 500]}"
      ]
     },
     "execution_count": 46,
     "metadata": {},
     "output_type": "execute_result"
    }
   ],
   "source": [
    "parameters = {\n",
    "    'min_samples_split':[2, 20, 40, 120],\n",
    "    'n_estimators': [100, 300, 600, 900],\n",
    "    'max_depth': [10, 20, 50, 500]  \n",
    "}\n",
    "parameters"
   ]
  },
  {
   "cell_type": "code",
   "execution_count": 47,
   "metadata": {},
   "outputs": [],
   "source": [
    "# initialize a RandomForestRegressor object\n",
    "rfr = RandomForestRegressor(random_state=RANDOM_STATE)"
   ]
  },
  {
   "cell_type": "code",
   "execution_count": 48,
   "metadata": {},
   "outputs": [
    {
     "name": "stdout",
     "output_type": "stream",
     "text": [
      "BEST PARAMS: {'max_depth': 50, 'min_samples_split': 120, 'n_estimators': 600}\n",
      "\n",
      "\n",
      "\n",
      "The model's R^2 on the training data set is 0.792.\n",
      "The model's R^2 on the validation data set is 0.745.\n",
      "\n",
      "The model's RMSE on the training data  is 1.002.\n",
      "The model's RMSE on the training data  is 1.179.\n",
      "Wall time: 5min 6s\n"
     ]
    }
   ],
   "source": [
    "%%time\n",
    "# helper function that takes an initialized algorithm object, parameters, training and validation sets and returns the model's metrics \n",
    "# after performing a GridSearchCV and fitting a model on the training data, and also deriving the accuracy on both training and validation data.\n",
    "modelMetrics = deriveGridSearchCV('Random Forest Regressor with GridSearchCV', rfr, parameters, X_train, y_train, X_val, y_val, 'r2')"
   ]
  },
  {
   "cell_type": "code",
   "execution_count": 49,
   "metadata": {},
   "outputs": [],
   "source": [
    "# retrieve the best model and assign to rfr\n",
    "rfr=modelMetrics[-1]"
   ]
  },
  {
   "cell_type": "code",
   "execution_count": 50,
   "metadata": {},
   "outputs": [
    {
     "data": {
      "text/plain": [
       "('Random Forest Regressor with GridSearchCV', 0.79, 0.75, 1.0, 1.18)"
      ]
     },
     "execution_count": 50,
     "metadata": {},
     "output_type": "execute_result"
    }
   ],
   "source": [
    "modelMetrics[:-1]"
   ]
  },
  {
   "cell_type": "code",
   "execution_count": 51,
   "metadata": {},
   "outputs": [],
   "source": [
    "# append the model metrics without the best model to the list of tuples.\n",
    "regressionModels.append(modelMetrics[:-1])"
   ]
  },
  {
   "cell_type": "code",
   "execution_count": 52,
   "metadata": {},
   "outputs": [
    {
     "data": {
      "text/plain": [
       "[('Linear Regression', 0.66, 0.65, 1.27, 1.39),\n",
       " ('Random Forest Regressor', 0.96, 0.76, 0.42, 1.15),\n",
       " ('Random Forest Regressor with GridSearchCV', 0.79, 0.75, 1.0, 1.18)]"
      ]
     },
     "execution_count": 52,
     "metadata": {},
     "output_type": "execute_result"
    }
   ],
   "source": [
    "# items of the regression models list \n",
    "regressionModels"
   ]
  },
  {
   "cell_type": "markdown",
   "metadata": {},
   "source": [
    "<p>The model's R^2 on training is 0.792, which decreased from 0.964 and it's R^2 on the validation data is 0.745 implying that there is a difference of 0.047 which is equivalent to 0.1 so we shall stop here.</p>"
   ]
  },
  {
   "cell_type": "markdown",
   "metadata": {},
   "source": [
    "## Q4 [10]"
   ]
  },
  {
   "cell_type": "markdown",
   "metadata": {},
   "source": [
    "- Apply Support Vector Regression. Predict CO emission using other variables.\n",
    "    - What is the model $R^2$?\n",
    "    - What is the $R^2$ on validation data?\n",
    "    - What is the RMSE on training data?\n",
    "    - What is the RMSE on validation data?\n",
    "    \n",
    "- Do this for each of the models listed below using the default parameters:  \n",
    "    1. **Linear kernel SVR**  \n",
    "    2. **Polynomial kernel SVR**  \n",
    "    3. **RBF kernel SVR** "
   ]
  },
  {
   "cell_type": "code",
   "execution_count": 53,
   "metadata": {},
   "outputs": [],
   "source": [
    "from sklearn.svm import SVR"
   ]
  },
  {
   "cell_type": "markdown",
   "metadata": {},
   "source": [
    "### Linear SVM Regressor"
   ]
  },
  {
   "cell_type": "code",
   "execution_count": 54,
   "metadata": {},
   "outputs": [],
   "source": [
    "estimator_l_SVM_R = SVR(kernel='linear')"
   ]
  },
  {
   "cell_type": "code",
   "execution_count": 55,
   "metadata": {},
   "outputs": [
    {
     "data": {
      "text/plain": [
       "SVR(kernel='linear')"
      ]
     },
     "execution_count": 55,
     "metadata": {},
     "output_type": "execute_result"
    }
   ],
   "source": [
    "# fit the model on the training set\n",
    "estimator_l_SVM_R.fit(X_train, y_train)"
   ]
  },
  {
   "cell_type": "code",
   "execution_count": 56,
   "metadata": {},
   "outputs": [
    {
     "name": "stdout",
     "output_type": "stream",
     "text": [
      "The model's R^2 on the training data is 0.624.\n",
      "The model's R^2 on the validation data is 0.602.\n",
      "\n",
      "The model's Root Mean Squared Error (RMSE) on the training data is 1.345.\n",
      "The model's Root Mean Squared Error (RMSE) on the validation data is 1.473.\n"
     ]
    }
   ],
   "source": [
    "# helper function that takes an initialized algorithm object, training and validation sets and returns the model's metrics \n",
    "# after  deriving the accuracy on both training and validation data.\n",
    "modelMetrics = buildTheModel('Linear SVM Regressor',estimator_l_SVM_R, X_train, y_train, X_val, y_val)"
   ]
  },
  {
   "cell_type": "code",
   "execution_count": 57,
   "metadata": {},
   "outputs": [],
   "source": [
    "# append the model metrics to the list of tuples.\n",
    "regressionModels.append(modelMetrics)"
   ]
  },
  {
   "cell_type": "code",
   "execution_count": 58,
   "metadata": {},
   "outputs": [
    {
     "data": {
      "text/plain": [
       "[('Linear Regression', 0.66, 0.65, 1.27, 1.39),\n",
       " ('Random Forest Regressor', 0.96, 0.76, 0.42, 1.15),\n",
       " ('Random Forest Regressor with GridSearchCV', 0.79, 0.75, 1.0, 1.18),\n",
       " ('Linear SVM Regressor', 0.62, 0.6, 1.34, 1.47)]"
      ]
     },
     "execution_count": 58,
     "metadata": {},
     "output_type": "execute_result"
    }
   ],
   "source": [
    "regressionModels"
   ]
  },
  {
   "cell_type": "markdown",
   "metadata": {},
   "source": [
    "<p>The model's R^2 on both training and validation data is 0.624 and 0.602 respectively. The model's RMSE on validation, which is 1.473, is much larger implying that the model is overfitting on the training data. But since the difference between the model's R^2 on training and validation data is less than 0.1, there is no need to fine tune the different hyper-parameters of Linear SVM Regressor. </p>"
   ]
  },
  {
   "cell_type": "markdown",
   "metadata": {},
   "source": [
    "### Polynomial Kernel SVM Regressor"
   ]
  },
  {
   "cell_type": "code",
   "execution_count": 59,
   "metadata": {},
   "outputs": [],
   "source": [
    "from sklearn.svm import SVR\n",
    "estimator_Poly_K_SVM_R = SVR(kernel='poly')"
   ]
  },
  {
   "cell_type": "code",
   "execution_count": 60,
   "metadata": {},
   "outputs": [
    {
     "data": {
      "text/plain": [
       "SVR(kernel='poly')"
      ]
     },
     "execution_count": 60,
     "metadata": {},
     "output_type": "execute_result"
    }
   ],
   "source": [
    "# fit the model on the training data\n",
    "estimator_Poly_K_SVM_R.fit(X_train, y_train)"
   ]
  },
  {
   "cell_type": "code",
   "execution_count": 61,
   "metadata": {},
   "outputs": [
    {
     "name": "stdout",
     "output_type": "stream",
     "text": [
      "The model's R^2 on the training data is 0.740.\n",
      "The model's R^2 on the validation data is 0.731.\n",
      "\n",
      "The model's Root Mean Squared Error (RMSE) on the training data is 1.118.\n",
      "The model's Root Mean Squared Error (RMSE) on the validation data is 1.211.\n"
     ]
    }
   ],
   "source": [
    "# helper function that takes an initialized algorithm object, training and validation sets and returns the model's metrics \n",
    "# after  deriving the accuracy on both training and validation data.\n",
    "modelMetrics = buildTheModel('Polynomial Kernel SVM Regressor', estimator_Poly_K_SVM_R, X_train, y_train, X_val, y_val)"
   ]
  },
  {
   "cell_type": "code",
   "execution_count": 62,
   "metadata": {},
   "outputs": [],
   "source": [
    "# append the model metrics to the list of tuples\n",
    "regressionModels.append(modelMetrics)"
   ]
  },
  {
   "cell_type": "code",
   "execution_count": 63,
   "metadata": {},
   "outputs": [
    {
     "data": {
      "text/plain": [
       "[('Linear Regression', 0.66, 0.65, 1.27, 1.39),\n",
       " ('Random Forest Regressor', 0.96, 0.76, 0.42, 1.15),\n",
       " ('Random Forest Regressor with GridSearchCV', 0.79, 0.75, 1.0, 1.18),\n",
       " ('Linear SVM Regressor', 0.62, 0.6, 1.34, 1.47),\n",
       " ('Polynomial Kernel SVM Regressor', 0.74, 0.73, 1.12, 1.21)]"
      ]
     },
     "execution_count": 63,
     "metadata": {},
     "output_type": "execute_result"
    }
   ],
   "source": [
    "regressionModels"
   ]
  },
  {
   "cell_type": "markdown",
   "metadata": {},
   "source": [
    "<p>The <b>Polynomial Kernel SVM Regressor</b> model's R^2 on both training and validation data is 0.740 and 0.731 respectively. Also, there is a difference of 0.01 in the R^2 scores between training and validation data. The model's RMSE on validation, which is 1.211 is much larger than training implying that the model is overfitting on the training data.</p>"
   ]
  },
  {
   "cell_type": "markdown",
   "metadata": {},
   "source": [
    "### RBF Kernel SVM Regressor"
   ]
  },
  {
   "cell_type": "code",
   "execution_count": 64,
   "metadata": {},
   "outputs": [],
   "source": [
    "from sklearn.svm import SVR\n",
    "estimator_rbf_K_SVM_R = SVR(kernel='rbf')"
   ]
  },
  {
   "cell_type": "code",
   "execution_count": 65,
   "metadata": {},
   "outputs": [
    {
     "data": {
      "text/plain": [
       "SVR()"
      ]
     },
     "execution_count": 65,
     "metadata": {},
     "output_type": "execute_result"
    }
   ],
   "source": [
    "# fit the model on training data\n",
    "estimator_rbf_K_SVM_R.fit(X_train, y_train)"
   ]
  },
  {
   "cell_type": "code",
   "execution_count": 66,
   "metadata": {},
   "outputs": [
    {
     "name": "stdout",
     "output_type": "stream",
     "text": [
      "The model's R^2 on the training data is 0.765.\n",
      "The model's R^2 on the validation data is 0.748.\n",
      "\n",
      "The model's Root Mean Squared Error (RMSE) on the training data is 1.063.\n",
      "The model's Root Mean Squared Error (RMSE) on the validation data is 1.173.\n"
     ]
    }
   ],
   "source": [
    "# helper function that takes an initialized algorithm object, training and validation sets and returns the model's metrics \n",
    "# after  deriving the accuracy on both training and validation data.\n",
    "modelMetrics = buildTheModel('RBF Kernel SVM Regressor', estimator_rbf_K_SVM_R, X_train, y_train, X_val, y_val)"
   ]
  },
  {
   "cell_type": "code",
   "execution_count": 67,
   "metadata": {},
   "outputs": [],
   "source": [
    "# append the model metrics to the list of tuples\n",
    "regressionModels.append(modelMetrics)"
   ]
  },
  {
   "cell_type": "code",
   "execution_count": 68,
   "metadata": {},
   "outputs": [
    {
     "data": {
      "text/plain": [
       "[('Linear Regression', 0.66, 0.65, 1.27, 1.39),\n",
       " ('Random Forest Regressor', 0.96, 0.76, 0.42, 1.15),\n",
       " ('Random Forest Regressor with GridSearchCV', 0.79, 0.75, 1.0, 1.18),\n",
       " ('Linear SVM Regressor', 0.62, 0.6, 1.34, 1.47),\n",
       " ('Polynomial Kernel SVM Regressor', 0.74, 0.73, 1.12, 1.21),\n",
       " ('RBF Kernel SVM Regressor', 0.77, 0.75, 1.06, 1.17)]"
      ]
     },
     "execution_count": 68,
     "metadata": {},
     "output_type": "execute_result"
    }
   ],
   "source": [
    "regressionModels"
   ]
  },
  {
   "cell_type": "markdown",
   "metadata": {},
   "source": [
    "<p>The <b>RBF Kernel SVM Regressor</b> model's R^2 on both training and validation data is 0.765 and 0.748 respectively with a difference of 0.02 between training and validation R^2 scores. The model's RMSE on validation, which is 1.173 is much larger than training implying that the model is overfitting on the training data.</p>"
   ]
  },
  {
   "cell_type": "markdown",
   "metadata": {},
   "source": [
    "### Q5 [10]"
   ]
  },
  {
   "cell_type": "markdown",
   "metadata": {},
   "source": [
    "- Take RBF Kernel SVM and perform hyperparameter tuning. See if you can increase the $R^2$ score.   \n",
    "    - Use:  \n",
    "          'C': [1, 10, 100, 1000]\n",
    "          'gamma': [0.001, 0.01, 0.1, 1]  \n",
    "\n",
    "    - What is the model $R^2$?\n",
    "    - What is the $R^2$ on validation data?\n",
    "    - What is the RMSE on training data?\n",
    "    - What is the RMSE on validation data?"
   ]
  },
  {
   "cell_type": "code",
   "execution_count": 69,
   "metadata": {},
   "outputs": [],
   "source": [
    "from sklearn.model_selection import GridSearchCV"
   ]
  },
  {
   "cell_type": "code",
   "execution_count": 70,
   "metadata": {},
   "outputs": [],
   "source": [
    "from sklearn.svm import SVR\n",
    "gridSCV_rbf_K_SVR = SVR(kernel='rbf')"
   ]
  },
  {
   "cell_type": "code",
   "execution_count": 71,
   "metadata": {},
   "outputs": [
    {
     "data": {
      "text/plain": [
       "{'C': [1, 10, 100, 1000], 'gamma': [0.001, 0.01, 0.1, 1]}"
      ]
     },
     "execution_count": 71,
     "metadata": {},
     "output_type": "execute_result"
    }
   ],
   "source": [
    "parameters = {\n",
    "    'C': [1, 10, 100, 1000],\n",
    "    'gamma': [0.001, 0.01, 0.1, 1] \n",
    "}\n",
    "parameters"
   ]
  },
  {
   "cell_type": "code",
   "execution_count": 72,
   "metadata": {},
   "outputs": [
    {
     "name": "stdout",
     "output_type": "stream",
     "text": [
      "BEST PARAMS: {'C': 1000, 'gamma': 0.01}\n",
      "\n",
      "\n",
      "\n",
      "The model's R^2 on the training data set is 0.792.\n",
      "The model's R^2 on the validation data set is 0.757.\n",
      "\n",
      "The model's RMSE on the training data  is 1.000.\n",
      "The model's RMSE on the training data  is 1.151.\n",
      "Wall time: 2min 53s\n"
     ]
    }
   ],
   "source": [
    "%%time\n",
    "# helper function that takes an initialized algorithm object, parameters, training and validation sets and returns the model's metrics \n",
    "# after performing a GridSearchCV and fitting a model on the training data, and also deriving the accuracy on both training and validation data.\n",
    "modelMetrics = deriveGridSearchCV('RBF Kernel SVR with GridSearch', gridSCV_rbf_K_SVR, parameters, X_train, y_train, X_val, y_val, 'r2')"
   ]
  },
  {
   "cell_type": "code",
   "execution_count": 73,
   "metadata": {},
   "outputs": [],
   "source": [
    "# let's retrieve the best model and assign it to the avariable\n",
    "gridSCV_rbf_K_SVR = modelMetrics[-1]"
   ]
  },
  {
   "cell_type": "code",
   "execution_count": 74,
   "metadata": {},
   "outputs": [
    {
     "data": {
      "text/plain": [
       "SVR(C=1000, gamma=0.01)"
      ]
     },
     "execution_count": 74,
     "metadata": {},
     "output_type": "execute_result"
    }
   ],
   "source": [
    "gridSCV_rbf_K_SVR"
   ]
  },
  {
   "cell_type": "code",
   "execution_count": 75,
   "metadata": {},
   "outputs": [],
   "source": [
    "# append the model metrics to the list of tuples without the best model\n",
    "regressionModels.append(modelMetrics[:-1])"
   ]
  },
  {
   "cell_type": "code",
   "execution_count": 76,
   "metadata": {},
   "outputs": [
    {
     "data": {
      "text/plain": [
       "[('Linear Regression', 0.66, 0.65, 1.27, 1.39),\n",
       " ('Random Forest Regressor', 0.96, 0.76, 0.42, 1.15),\n",
       " ('Random Forest Regressor with GridSearchCV', 0.79, 0.75, 1.0, 1.18),\n",
       " ('Linear SVM Regressor', 0.62, 0.6, 1.34, 1.47),\n",
       " ('Polynomial Kernel SVM Regressor', 0.74, 0.73, 1.12, 1.21),\n",
       " ('RBF Kernel SVM Regressor', 0.77, 0.75, 1.06, 1.17),\n",
       " ('RBF Kernel SVR with GridSearch', 0.79, 0.76, 1.0, 1.15)]"
      ]
     },
     "execution_count": 76,
     "metadata": {},
     "output_type": "execute_result"
    }
   ],
   "source": [
    "regressionModels"
   ]
  },
  {
   "cell_type": "markdown",
   "metadata": {},
   "source": [
    "<p>This increases $R^2$.</p> "
   ]
  },
  {
   "cell_type": "markdown",
   "metadata": {},
   "source": [
    "## Q6 [10]"
   ]
  },
  {
   "cell_type": "markdown",
   "metadata": {},
   "source": [
    "- Apply PCA and transform the data. \n",
    "    - For PCA we need to decide on the number of  components. Take sufficient number of components based on variance explained \n",
    "        - generally it is chosen as the number of components that can explain 90% of the variance \n",
    "        - or cross-validation accuracy using an ML model.\n",
    "\n",
    "- Use the PCA transformed data to perform regression with hyper parameter tuning using the models: \n",
    "    - Linear Regression\n",
    "    - Random Forest Regression\n",
    "    - RBF Kernel Support Vector Regression\n",
    "  \n",
    "- For each model:  \n",
    "    - What is the model $R^2$?\n",
    "    - What is the $R^2$ on validation data?\n",
    "    - What is the RMSE on training data?\n",
    "    - What is the RMSE on validation data?\n",
    "    \n",
    "- Compare these models with their counterparts obtained before. For example: Compare `PCA RBF SVR` with the `RBF SVR model` from before. Do you observe any change in performance? Please explain. \n"
   ]
  },
  {
   "cell_type": "code",
   "execution_count": 77,
   "metadata": {},
   "outputs": [],
   "source": [
    "from sklearn.decomposition import PCA"
   ]
  },
  {
   "cell_type": "code",
   "execution_count": 78,
   "metadata": {},
   "outputs": [],
   "source": [
    "pca = PCA(n_components=None)\n",
    "\n",
    "# fit the model using the training data\n",
    "pca.fit(X_train)\n",
    "\n",
    "# transform training, validation, testing data sets using the same model parameters\n",
    "X_train_pca = pca.transform(X_train)\n",
    "X_val_pca = pca.transform(X_val)\n",
    "X_test_pca = pca.transform(X_test)"
   ]
  },
  {
   "cell_type": "code",
   "execution_count": 79,
   "metadata": {},
   "outputs": [
    {
     "name": "stdout",
     "output_type": "stream",
     "text": [
      "[0.58158952 0.78924196 0.88751722 0.94337792 0.98704348 0.9959942\n",
      " 0.99975821 0.99992456 1.        ]\n"
     ]
    },
    {
     "data": {
      "image/png": "[encoded data removed]",
      "text/plain": [
       "<Figure size 432x288 with 1 Axes>"
      ]
     },
     "metadata": {
      "needs_background": "light"
     },
     "output_type": "display_data"
    }
   ],
   "source": [
    "print(pca.explained_variance_ratio_.cumsum())\n",
    "plt.plot(pca.explained_variance_ratio_.cumsum(), '-o');\n",
    "plt.xticks(ticks= range(X_train_pca.shape[1]), labels=[i+1 for i in range(X_train_pca.shape[1])])\n",
    "plt.xlabel('Principal Components')\n",
    "plt.ylabel('Variance Explained')\n",
    "plt.show()"
   ]
  },
  {
   "cell_type": "markdown",
   "metadata": {},
   "source": [
    "Choose the number of components."
   ]
  },
  {
   "cell_type": "code",
   "execution_count": 80,
   "metadata": {},
   "outputs": [],
   "source": [
    "X_train_pca2 = X_train_pca[:, 0:5]\n",
    "X_val_pca2 = X_val_pca[:, 0:5]\n",
    "X_test_pca2 = X_test_pca[:, 0:5]"
   ]
  },
  {
   "cell_type": "markdown",
   "metadata": {},
   "source": [
    "**Linear Regression with PCA transformed data**"
   ]
  },
  {
   "cell_type": "code",
   "execution_count": 81,
   "metadata": {},
   "outputs": [],
   "source": [
    "lr_with_PCA_transformed_data = LinearRegression()"
   ]
  },
  {
   "cell_type": "code",
   "execution_count": 82,
   "metadata": {},
   "outputs": [
    {
     "data": {
      "text/plain": [
       "LinearRegression()"
      ]
     },
     "execution_count": 82,
     "metadata": {},
     "output_type": "execute_result"
    }
   ],
   "source": [
    "# fit the model with PCA transformed data\n",
    "lr_with_PCA_transformed_data.fit(X_train_pca2, y_train)"
   ]
  },
  {
   "cell_type": "code",
   "execution_count": 83,
   "metadata": {},
   "outputs": [
    {
     "name": "stdout",
     "output_type": "stream",
     "text": [
      "The model's R^2 on the training data is 0.656.\n",
      "The model's R^2 on the validation data is 0.633.\n",
      "\n",
      "The model's Root Mean Squared Error (RMSE) on the training data is 1.287.\n",
      "The model's Root Mean Squared Error (RMSE) on the validation data is 1.414.\n"
     ]
    }
   ],
   "source": [
    "# helper function that takes an initialized algorithm object, training and validation sets and returns the model's metrics \n",
    "# after  deriving the accuracy on both training and validation data.\n",
    "modelMetrics = buildTheModel('Linear Regression with PCA transformed data',lr_with_PCA_transformed_data, X_train_pca2, y_train, X_val_pca2, y_val)"
   ]
  },
  {
   "cell_type": "code",
   "execution_count": 84,
   "metadata": {},
   "outputs": [],
   "source": [
    "# append the model metrics to the list of tuples.\n",
    "regressionModels.append(modelMetrics)"
   ]
  },
  {
   "cell_type": "code",
   "execution_count": 85,
   "metadata": {},
   "outputs": [
    {
     "data": {
      "text/plain": [
       "[('Linear Regression', 0.66, 0.65, 1.27, 1.39),\n",
       " ('Random Forest Regressor', 0.96, 0.76, 0.42, 1.15),\n",
       " ('Random Forest Regressor with GridSearchCV', 0.79, 0.75, 1.0, 1.18),\n",
       " ('Linear SVM Regressor', 0.62, 0.6, 1.34, 1.47),\n",
       " ('Polynomial Kernel SVM Regressor', 0.74, 0.73, 1.12, 1.21),\n",
       " ('RBF Kernel SVM Regressor', 0.77, 0.75, 1.06, 1.17),\n",
       " ('RBF Kernel SVR with GridSearch', 0.79, 0.76, 1.0, 1.15),\n",
       " ('Linear Regression with PCA transformed data', 0.66, 0.63, 1.29, 1.41)]"
      ]
     },
     "execution_count": 85,
     "metadata": {},
     "output_type": "execute_result"
    }
   ],
   "source": [
    "regressionModels"
   ]
  },
  {
   "cell_type": "markdown",
   "metadata": {},
   "source": [
    "<p>Comparing both the linear Regression without PCA transformed data and the one with PCA transformed data, $R^2$ on the validation data set decreased from 0.646 to 0.633 when we used Linear Regression with PCA transformed data.</p>\n",
    "<p>Also, the Root Mean Squared Error increased on both the training and validation data by applying the linear regression with PCA tranformed data.</p>"
   ]
  },
  {
   "cell_type": "markdown",
   "metadata": {},
   "source": [
    "**RF Regression with PCA transformed data**"
   ]
  },
  {
   "cell_type": "code",
   "execution_count": 86,
   "metadata": {},
   "outputs": [],
   "source": [
    "rfr_With_PCA_transformed_data = RandomForestRegressor(random_state=RANDOM_STATE)"
   ]
  },
  {
   "cell_type": "code",
   "execution_count": 87,
   "metadata": {},
   "outputs": [
    {
     "data": {
      "text/plain": [
       "RandomForestRegressor(random_state=0)"
      ]
     },
     "execution_count": 87,
     "metadata": {},
     "output_type": "execute_result"
    }
   ],
   "source": [
    "# fit the model on the PCA transformed data\n",
    "rfr_With_PCA_transformed_data.fit(X_train_pca2, y_train)"
   ]
  },
  {
   "cell_type": "code",
   "execution_count": 88,
   "metadata": {},
   "outputs": [
    {
     "name": "stdout",
     "output_type": "stream",
     "text": [
      "The model's R^2 on the training data is 0.963.\n",
      "The model's R^2 on the validation data is 0.737.\n",
      "\n",
      "The model's Root Mean Squared Error (RMSE) on the training data is 0.422.\n",
      "The model's Root Mean Squared Error (RMSE) on the validation data is 1.197.\n"
     ]
    }
   ],
   "source": [
    "# helper function that takes an initialized algorithm object, training and validation sets and returns the model's metrics \n",
    "# after  deriving the accuracy on both training and validation data.\n",
    "modelMetrics = buildTheModel('Random Forest Regressor with PCA transformed data', rfr_With_PCA_transformed_data, X_train_pca2, y_train, X_val_pca2, y_val)"
   ]
  },
  {
   "cell_type": "code",
   "execution_count": 89,
   "metadata": {},
   "outputs": [],
   "source": [
    "# append the model metrics to the list of tuples.\n",
    "regressionModels.append(modelMetrics)"
   ]
  },
  {
   "cell_type": "code",
   "execution_count": 90,
   "metadata": {},
   "outputs": [
    {
     "data": {
      "text/plain": [
       "[('Linear Regression', 0.66, 0.65, 1.27, 1.39),\n",
       " ('Random Forest Regressor', 0.96, 0.76, 0.42, 1.15),\n",
       " ('Random Forest Regressor with GridSearchCV', 0.79, 0.75, 1.0, 1.18),\n",
       " ('Linear SVM Regressor', 0.62, 0.6, 1.34, 1.47),\n",
       " ('Polynomial Kernel SVM Regressor', 0.74, 0.73, 1.12, 1.21),\n",
       " ('RBF Kernel SVM Regressor', 0.77, 0.75, 1.06, 1.17),\n",
       " ('RBF Kernel SVR with GridSearch', 0.79, 0.76, 1.0, 1.15),\n",
       " ('Linear Regression with PCA transformed data', 0.66, 0.63, 1.29, 1.41),\n",
       " ('Random Forest Regressor with PCA transformed data', 0.96, 0.74, 0.42, 1.2)]"
      ]
     },
     "execution_count": 90,
     "metadata": {},
     "output_type": "execute_result"
    }
   ],
   "source": [
    "regressionModels"
   ]
  },
  {
   "cell_type": "markdown",
   "metadata": {},
   "source": [
    "<p>The RSME of 1.197 on the validation data is much larger than that on the training data, which is an indicator that the model is overfitting on the training data.</p>"
   ]
  },
  {
   "cell_type": "markdown",
   "metadata": {},
   "source": [
    "### Applying GridSearchCV to tune the different hyper-parameters"
   ]
  },
  {
   "cell_type": "code",
   "execution_count": 91,
   "metadata": {},
   "outputs": [
    {
     "data": {
      "text/plain": [
       "{'min_samples_split': [2, 20, 40, 120],\n",
       " 'n_estimators': [100, 300, 600],\n",
       " 'max_depth': [10, 20, 100],\n",
       " 'min_samples_leaf': [10, 20, 1000]}"
      ]
     },
     "execution_count": 91,
     "metadata": {},
     "output_type": "execute_result"
    }
   ],
   "source": [
    "parameters = {\n",
    "    'min_samples_split':[2, 20, 40, 120],\n",
    "    'n_estimators': [100, 300, 600],\n",
    "    'max_depth': [10, 20, 100],\n",
    "    'min_samples_leaf':[10, 20, 1000]\n",
    "}\n",
    "parameters"
   ]
  },
  {
   "cell_type": "code",
   "execution_count": 92,
   "metadata": {},
   "outputs": [],
   "source": [
    "# initialize a RandomForestRegressor object\n",
    "rfr_GS_With_PCA_transformed_data = RandomForestRegressor(random_state=RANDOM_STATE)"
   ]
  },
  {
   "cell_type": "code",
   "execution_count": 93,
   "metadata": {},
   "outputs": [
    {
     "name": "stdout",
     "output_type": "stream",
     "text": [
      "BEST PARAMS: {'max_depth': 100, 'min_samples_leaf': 10, 'min_samples_split': 2, 'n_estimators': 600}\n",
      "\n",
      "\n",
      "\n",
      "The model's R^2 on the training data set is 0.800.\n",
      "The model's R^2 on the validation data set is 0.750.\n",
      "\n",
      "The model's RMSE on the training data  is 0.981.\n",
      "The model's RMSE on the training data  is 1.168.\n",
      "Wall time: 2min 18s\n"
     ]
    }
   ],
   "source": [
    "%%time\n",
    "# helper function that takes an initialized algorithm object, parameters, training and validation sets and returns the model's metrics \n",
    "# after performing a GridSearchCV and fitting a model on the training data, and also deriving the accuracy on both training and validation data.\n",
    "modelMetrics = deriveGridSearchCV('GridSearchCV Random Forest Regressor with PCA transformed data', rfr_GS_With_PCA_transformed_data, parameters, X_train_pca2, y_train, X_val_pca2, y_val, 'r2')"
   ]
  },
  {
   "cell_type": "code",
   "execution_count": 94,
   "metadata": {},
   "outputs": [],
   "source": [
    "# let's retrieve the best model and assign it to the avariable\n",
    "rfr_GS_With_PCA_transformed_data = modelMetrics[-1]"
   ]
  },
  {
   "cell_type": "code",
   "execution_count": 95,
   "metadata": {},
   "outputs": [],
   "source": [
    "# append the model metrics to the list of tuples without the best model\n",
    "regressionModels.append(modelMetrics[:-1])"
   ]
  },
  {
   "cell_type": "code",
   "execution_count": 96,
   "metadata": {},
   "outputs": [
    {
     "data": {
      "text/plain": [
       "[('Linear Regression', 0.66, 0.65, 1.27, 1.39),\n",
       " ('Random Forest Regressor', 0.96, 0.76, 0.42, 1.15),\n",
       " ('Random Forest Regressor with GridSearchCV', 0.79, 0.75, 1.0, 1.18),\n",
       " ('Linear SVM Regressor', 0.62, 0.6, 1.34, 1.47),\n",
       " ('Polynomial Kernel SVM Regressor', 0.74, 0.73, 1.12, 1.21),\n",
       " ('RBF Kernel SVM Regressor', 0.77, 0.75, 1.06, 1.17),\n",
       " ('RBF Kernel SVR with GridSearch', 0.79, 0.76, 1.0, 1.15),\n",
       " ('Linear Regression with PCA transformed data', 0.66, 0.63, 1.29, 1.41),\n",
       " ('Random Forest Regressor with PCA transformed data', 0.96, 0.74, 0.42, 1.2),\n",
       " ('GridSearchCV Random Forest Regressor with PCA transformed data',\n",
       "  0.8,\n",
       "  0.75,\n",
       "  0.98,\n",
       "  1.17)]"
      ]
     },
     "execution_count": 96,
     "metadata": {},
     "output_type": "execute_result"
    }
   ],
   "source": [
    "regressionModels"
   ]
  },
  {
   "cell_type": "markdown",
   "metadata": {},
   "source": [
    "<p>Comparing this model with its counterpart obtained before, $R^2$ is 0.8 on training and 0.75 on validation so there is change in the model's performance, however, the model's RMSE on both training and validation didn't change much.</p>  "
   ]
  },
  {
   "cell_type": "markdown",
   "metadata": {},
   "source": [
    "**SVM Regression with PCA transformed data**"
   ]
  },
  {
   "cell_type": "code",
   "execution_count": 97,
   "metadata": {},
   "outputs": [],
   "source": [
    "rbf_K_SVR_With_PCA_transformed_data = SVR(kernel='rbf')"
   ]
  },
  {
   "cell_type": "code",
   "execution_count": 98,
   "metadata": {},
   "outputs": [
    {
     "data": {
      "text/plain": [
       "SVR()"
      ]
     },
     "execution_count": 98,
     "metadata": {},
     "output_type": "execute_result"
    }
   ],
   "source": [
    "# fit the model on the PCA transformed data\n",
    "rbf_K_SVR_With_PCA_transformed_data.fit(X_train_pca2, y_train)"
   ]
  },
  {
   "cell_type": "code",
   "execution_count": 99,
   "metadata": {},
   "outputs": [
    {
     "name": "stdout",
     "output_type": "stream",
     "text": [
      "The model's R^2 on the training data is 0.760.\n",
      "The model's R^2 on the validation data is 0.747.\n",
      "\n",
      "The model's Root Mean Squared Error (RMSE) on the training data is 1.075.\n",
      "The model's Root Mean Squared Error (RMSE) on the validation data is 1.175.\n"
     ]
    }
   ],
   "source": [
    "# helper function that takes an initialized algorithm object, training and validation sets and returns the model's metrics \n",
    "# after  deriving the accuracy on both training and validation data.\n",
    "modelMetrics = buildTheModel('RBF Kernel SVR with PCA transformed data', rbf_K_SVR_With_PCA_transformed_data, X_train_pca2, y_train, X_val_pca2, y_val)"
   ]
  },
  {
   "cell_type": "code",
   "execution_count": 100,
   "metadata": {},
   "outputs": [],
   "source": [
    "# append the model metrics to the list of tuples without the best model\n",
    "regressionModels.append(modelMetrics)"
   ]
  },
  {
   "cell_type": "code",
   "execution_count": 101,
   "metadata": {},
   "outputs": [
    {
     "data": {
      "text/plain": [
       "[('Linear Regression', 0.66, 0.65, 1.27, 1.39),\n",
       " ('Random Forest Regressor', 0.96, 0.76, 0.42, 1.15),\n",
       " ('Random Forest Regressor with GridSearchCV', 0.79, 0.75, 1.0, 1.18),\n",
       " ('Linear SVM Regressor', 0.62, 0.6, 1.34, 1.47),\n",
       " ('Polynomial Kernel SVM Regressor', 0.74, 0.73, 1.12, 1.21),\n",
       " ('RBF Kernel SVM Regressor', 0.77, 0.75, 1.06, 1.17),\n",
       " ('RBF Kernel SVR with GridSearch', 0.79, 0.76, 1.0, 1.15),\n",
       " ('Linear Regression with PCA transformed data', 0.66, 0.63, 1.29, 1.41),\n",
       " ('Random Forest Regressor with PCA transformed data', 0.96, 0.74, 0.42, 1.2),\n",
       " ('GridSearchCV Random Forest Regressor with PCA transformed data',\n",
       "  0.8,\n",
       "  0.75,\n",
       "  0.98,\n",
       "  1.17),\n",
       " ('RBF Kernel SVR with PCA transformed data', 0.76, 0.75, 1.07, 1.17)]"
      ]
     },
     "execution_count": 101,
     "metadata": {},
     "output_type": "execute_result"
    }
   ],
   "source": [
    "regressionModels"
   ]
  },
  {
   "cell_type": "markdown",
   "metadata": {},
   "source": [
    "### Applying GridSearchCV to tune different hyper-parameters"
   ]
  },
  {
   "cell_type": "code",
   "execution_count": 102,
   "metadata": {},
   "outputs": [
    {
     "data": {
      "text/plain": [
       "{'C': [1, 10, 100, 1000], 'gamma': [0.001, 0.01, 0.1, 1]}"
      ]
     },
     "execution_count": 102,
     "metadata": {},
     "output_type": "execute_result"
    }
   ],
   "source": [
    "parameters = {\n",
    "    'C': [1, 10, 100, 1000],\n",
    "'gamma': [0.001, 0.01, 0.1, 1] \n",
    "}\n",
    "parameters"
   ]
  },
  {
   "cell_type": "code",
   "execution_count": 103,
   "metadata": {},
   "outputs": [],
   "source": [
    "gridSearchCV_rbf_K_SVR_with_PCA_transformed_data = SVR(kernel='rbf')"
   ]
  },
  {
   "cell_type": "code",
   "execution_count": 104,
   "metadata": {},
   "outputs": [
    {
     "name": "stdout",
     "output_type": "stream",
     "text": [
      "BEST PARAMS: {'C': 1000, 'gamma': 0.01}\n",
      "\n",
      "\n",
      "\n",
      "The model's R^2 on the training data set is 0.785.\n",
      "The model's R^2 on the validation data set is 0.752.\n",
      "\n",
      "The model's RMSE on the training data  is 1.017.\n",
      "The model's RMSE on the training data  is 1.163.\n",
      "Wall time: 4min 40s\n"
     ]
    }
   ],
   "source": [
    "%%time\n",
    "# helper function that takes an initialized algorithm object, parameters, training and validation sets and returns the model's metrics \n",
    "# after performing a GridSearchCV and fitting a model on the training data, and also deriving the accuracy on both training and validation data.\n",
    "modelMetrics = deriveGridSearchCV('GridSearchCV RBF Kernel SVR with PCA transformed data', gridSearchCV_rbf_K_SVR_with_PCA_transformed_data, parameters, X_train_pca2, y_train, X_val_pca2, y_val, 'r2')"
   ]
  },
  {
   "cell_type": "code",
   "execution_count": 105,
   "metadata": {},
   "outputs": [],
   "source": [
    "# let's retrieve the best model and assign it to the variable\n",
    "gridSearchCV_rbf_K_SVR_with_PCA_transformed_data= modelMetrics[-1]"
   ]
  },
  {
   "cell_type": "code",
   "execution_count": 106,
   "metadata": {},
   "outputs": [],
   "source": [
    "# append the model metrics to the list of tuples without the best model\n",
    "regressionModels.append(modelMetrics[:-1])"
   ]
  },
  {
   "cell_type": "code",
   "execution_count": 107,
   "metadata": {},
   "outputs": [
    {
     "data": {
      "text/plain": [
       "[('Linear Regression', 0.66, 0.65, 1.27, 1.39),\n",
       " ('Random Forest Regressor', 0.96, 0.76, 0.42, 1.15),\n",
       " ('Random Forest Regressor with GridSearchCV', 0.79, 0.75, 1.0, 1.18),\n",
       " ('Linear SVM Regressor', 0.62, 0.6, 1.34, 1.47),\n",
       " ('Polynomial Kernel SVM Regressor', 0.74, 0.73, 1.12, 1.21),\n",
       " ('RBF Kernel SVM Regressor', 0.77, 0.75, 1.06, 1.17),\n",
       " ('RBF Kernel SVR with GridSearch', 0.79, 0.76, 1.0, 1.15),\n",
       " ('Linear Regression with PCA transformed data', 0.66, 0.63, 1.29, 1.41),\n",
       " ('Random Forest Regressor with PCA transformed data', 0.96, 0.74, 0.42, 1.2),\n",
       " ('GridSearchCV Random Forest Regressor with PCA transformed data',\n",
       "  0.8,\n",
       "  0.75,\n",
       "  0.98,\n",
       "  1.17),\n",
       " ('RBF Kernel SVR with PCA transformed data', 0.76, 0.75, 1.07, 1.17),\n",
       " ('GridSearchCV RBF Kernel SVR with PCA transformed data',\n",
       "  0.79,\n",
       "  0.75,\n",
       "  1.02,\n",
       "  1.16)]"
      ]
     },
     "execution_count": 107,
     "metadata": {},
     "output_type": "execute_result"
    }
   ],
   "source": [
    "regressionModels"
   ]
  },
  {
   "cell_type": "markdown",
   "metadata": {},
   "source": [
    "<p>Comparing PCA RBF SVR with RBF SVR model, $R^2$ on training data is the same and it decreased by 0.01 on validation when we use PCA RBF SVR. From my observation there is no change in performance since the difference between training and validation $R^2$ is the same in both models.</p>\n",
    "<p>Also, the model RMSE on training on training is 1.017 when PCA RBF SVR is applied where as in RBF SVR model, it is 1.00 so there was increase in the RMSE, which is not good. The same applies to the RMSE on validation, there is an increase in the RMSE scores. I would prefer to use the RBF SVR model since using PCA RBF SVR doesn't make the model's performance any better. </p>"
   ]
  },
  {
   "cell_type": "markdown",
   "metadata": {},
   "source": [
    "## Q7 [10]"
   ]
  },
  {
   "cell_type": "markdown",
   "metadata": {},
   "source": [
    "#### Let's do  classification "
   ]
  },
  {
   "cell_type": "markdown",
   "metadata": {},
   "source": [
    "We will convert CO target values into binary form by comparing them to a threshold. $ 0 - 3  mg/m^3$ is the range of max 8-hour avg. ambient CO in most US cities. So let's take that.  \n",
    "[CO Levels of Concern in Government Recommendations and Regulations](https://www.carbonmonoxidekills.com/are-you-at-risk/carbon-monoxide-levels/)"
   ]
  },
  {
   "cell_type": "code",
   "execution_count": 108,
   "metadata": {},
   "outputs": [],
   "source": [
    "from sklearn.preprocessing import Binarizer"
   ]
  },
  {
   "cell_type": "code",
   "execution_count": 109,
   "metadata": {},
   "outputs": [],
   "source": [
    "binarizer = Binarizer(threshold=3)"
   ]
  },
  {
   "cell_type": "code",
   "execution_count": 110,
   "metadata": {},
   "outputs": [],
   "source": [
    "y_train_cat = binarizer.transform(y_train.values.reshape(-1,1)).ravel()\n",
    "y_val_cat = binarizer.transform(y_val.values.reshape(-1,1)).ravel()\n",
    "y_test_cat = binarizer.transform(y_test.values.reshape(-1,1)).ravel()"
   ]
  },
  {
   "cell_type": "code",
   "execution_count": 111,
   "metadata": {},
   "outputs": [],
   "source": [
    "y_train_cat = pd.Series(y_train_cat)"
   ]
  },
  {
   "cell_type": "code",
   "execution_count": 112,
   "metadata": {},
   "outputs": [
    {
     "data": {
      "image/png": "[encoded data removed]",
      "text/plain": [
       "<Figure size 432x288 with 1 Axes>"
      ]
     },
     "metadata": {
      "needs_background": "light"
     },
     "output_type": "display_data"
    }
   ],
   "source": [
    "y_train_cat.value_counts().plot.barh()\n",
    "plt.show()"
   ]
  },
  {
   "cell_type": "code",
   "execution_count": 113,
   "metadata": {},
   "outputs": [
    {
     "data": {
      "text/plain": [
       "(1329,)"
      ]
     },
     "execution_count": 113,
     "metadata": {},
     "output_type": "execute_result"
    }
   ],
   "source": [
    "# QA\n",
    "y_val_cat.shape"
   ]
  },
  {
   "cell_type": "markdown",
   "metadata": {},
   "source": [
    "### Fit RBF Kernel SVM Classifier\n",
    "\n",
    "#### 1. Standardized training data \n",
    "- Using the standardized training data perform grid search:\n",
    "    - Find the best combination of the `C` and `gamma` hyper-parameters.  \n",
    "- For the best model:\n",
    "    - Either using the confusion matrix or the methods in `sklearn.metrics` get the following metrics on the validation set:\n",
    "     - Create confusion matrix\n",
    "     - Recall (Sensitivity)\n",
    "     - Specificity\n",
    "     - Precision\n",
    "     - Balanced Accuracy\n",
    "     - F1 Score\n",
    "     \n",
    "\n",
    "#### 2. PCA transformed training data \n",
    "- Using the **pca** transformed training data `X_train_pca2` perform grid search:\n",
    "    - Find the best combination of the `C` and `gamma` hyper-parameters.  \n",
    "- For the best model:\n",
    "    - Either using the confusion matrix or the methods in `sklearn.metrics` get the following metrics on the validation set `X_val_pca2`:\n",
    "         - Create confusion matrix\n",
    "         - Recall (Sensitivity)\n",
    "         - Specificity\n",
    "         - Precision\n",
    "         - Balanced Accuracy\n",
    "         - F1 Score\n"
   ]
  },
  {
   "cell_type": "code",
   "execution_count": 114,
   "metadata": {},
   "outputs": [],
   "source": [
    "from sklearn.svm import SVC"
   ]
  },
  {
   "cell_type": "code",
   "execution_count": 115,
   "metadata": {},
   "outputs": [],
   "source": [
    "gridSearchCV_rbf_K_SVC = SVC(kernel ='rbf')"
   ]
  },
  {
   "cell_type": "markdown",
   "metadata": {},
   "source": [
    "#### SVC Model 1 "
   ]
  },
  {
   "cell_type": "code",
   "execution_count": 116,
   "metadata": {},
   "outputs": [
    {
     "data": {
      "text/plain": [
       "{'C': [1, 10, 100, 1000], 'gamma': [0.001, 0.01, 0.1, 1]}"
      ]
     },
     "execution_count": 116,
     "metadata": {},
     "output_type": "execute_result"
    }
   ],
   "source": [
    "parameters = {\n",
    "    'C': [1, 10, 100, 1000],\n",
    "'gamma': [0.001, 0.01, 0.1, 1] \n",
    "}\n",
    "parameters"
   ]
  },
  {
   "cell_type": "code",
   "execution_count": 117,
   "metadata": {},
   "outputs": [
    {
     "name": "stdout",
     "output_type": "stream",
     "text": [
      "BEST PARAMS: {'C': 1, 'gamma': 1}\n",
      "\n",
      "\n",
      "\n",
      "The model's accuracy on training is : 0.94\n",
      "The model's accuracy on validation is : 0.91\n",
      "\n",
      "The Confusion Matrix is given below:\n"
     ]
    },
    {
     "data": {
      "image/png": "[encoded data removed]",
      "text/plain": [
       "<Figure size 432x288 with 2 Axes>"
      ]
     },
     "metadata": {
      "needs_background": "light"
     },
     "output_type": "display_data"
    },
    {
     "name": "stdout",
     "output_type": "stream",
     "text": [
      "\n",
      "The classification report is given below:\n",
      "              precision    recall  f1-score   support\n",
      "\n",
      "         0.0       0.92      0.94      0.93       812\n",
      "         1.0       0.90      0.87      0.88       517\n",
      "\n",
      "    accuracy                           0.91      1329\n",
      "   macro avg       0.91      0.90      0.91      1329\n",
      "weighted avg       0.91      0.91      0.91      1329\n",
      "\n",
      "Recall (Sensivity): 0.87\n",
      "Specificity: 0.94\n",
      "Precision: 0.9\n",
      "Balanced Accuracy: 0.9\n",
      "F1 Score: 0.88\n",
      "Wall time: 16.7 s\n"
     ]
    }
   ],
   "source": [
    "%%time\n",
    "# A helper function that returns the model's prediction accuracy on training and validation data \n",
    "# after performing GridSearchCv to tune the different hyperparameters which it uses to fit the model \n",
    "# and also prints the different metrics\n",
    "classifierMetrics, gridSearchCV_rbf_K_SVC = classGridSearchCV('GridSearchCV RBF Kernel SVC', gridSearchCV_rbf_K_SVC, parameters, X_train, y_train_cat, X_val, y_val_cat, 'f1')"
   ]
  },
  {
   "cell_type": "code",
   "execution_count": 118,
   "metadata": {},
   "outputs": [
    {
     "data": {
      "text/plain": [
       "SVC(C=1, gamma=1)"
      ]
     },
     "execution_count": 118,
     "metadata": {},
     "output_type": "execute_result"
    }
   ],
   "source": [
    "# this is the best model\n",
    "gridSearchCV_rbf_K_SVC"
   ]
  },
  {
   "cell_type": "code",
   "execution_count": 119,
   "metadata": {},
   "outputs": [],
   "source": [
    "# add the list of the classifier metrics to the list of classification models\n",
    "classificationModels.append(classifierMetrics)"
   ]
  },
  {
   "cell_type": "code",
   "execution_count": 120,
   "metadata": {},
   "outputs": [
    {
     "data": {
      "text/plain": [
       "[['GridSearchCV RBF Kernel SVC', 0.94, 0.91, 0.87, 0.94, 0.9, 0.9, 0.88]]"
      ]
     },
     "execution_count": 120,
     "metadata": {},
     "output_type": "execute_result"
    }
   ],
   "source": [
    "classificationModels"
   ]
  },
  {
   "cell_type": "markdown",
   "metadata": {},
   "source": [
    "#### SVC Model 2"
   ]
  },
  {
   "cell_type": "markdown",
   "metadata": {},
   "source": [
    "### using the pca transformed data X_train_pca2 and X_val_pca2"
   ]
  },
  {
   "cell_type": "code",
   "execution_count": 121,
   "metadata": {},
   "outputs": [],
   "source": [
    "gridSearchCV_rbf_K_SVC_With_PCA_transformed_data = SVC(kernel ='rbf')"
   ]
  },
  {
   "cell_type": "code",
   "execution_count": 122,
   "metadata": {},
   "outputs": [
    {
     "data": {
      "text/plain": [
       "{'C': [1, 10, 100, 1000], 'gamma': [0.001, 0.01, 0.1, 1]}"
      ]
     },
     "execution_count": 122,
     "metadata": {},
     "output_type": "execute_result"
    }
   ],
   "source": [
    "parameters = {\n",
    "    'C': [1, 10, 100, 1000],\n",
    "'gamma': [0.001, 0.01, 0.1, 1] \n",
    "}\n",
    "parameters"
   ]
  },
  {
   "cell_type": "code",
   "execution_count": 123,
   "metadata": {},
   "outputs": [
    {
     "name": "stdout",
     "output_type": "stream",
     "text": [
      "BEST PARAMS: {'C': 1, 'gamma': 1}\n",
      "\n",
      "\n",
      "\n",
      "The model's accuracy on training is : 0.93\n",
      "The model's accuracy on validation is : 0.91\n",
      "\n",
      "The Confusion Matrix is given below:\n"
     ]
    },
    {
     "data": {
      "image/png": "[encoded data removed]",
      "text/plain": [
       "<Figure size 432x288 with 2 Axes>"
      ]
     },
     "metadata": {
      "needs_background": "light"
     },
     "output_type": "display_data"
    },
    {
     "name": "stdout",
     "output_type": "stream",
     "text": [
      "\n",
      "The classification report is given below:\n",
      "              precision    recall  f1-score   support\n",
      "\n",
      "         0.0       0.92      0.94      0.93       812\n",
      "         1.0       0.90      0.86      0.88       517\n",
      "\n",
      "    accuracy                           0.91      1329\n",
      "   macro avg       0.91      0.90      0.91      1329\n",
      "weighted avg       0.91      0.91      0.91      1329\n",
      "\n",
      "Recall (Sensivity): 0.86\n",
      "Specificity: 0.94\n",
      "Precision: 0.9\n",
      "Balanced Accuracy: 0.9\n",
      "F1 Score: 0.88\n",
      "Wall time: 16.9 s\n"
     ]
    }
   ],
   "source": [
    "%%time\n",
    "# A helper function that returns the model's prediction accuracy on training and validation data \n",
    "# after performing GridSearchCv to tune the different hyperparameters which it uses to fit the model \n",
    "# and also prints the different metrics\n",
    "classifierMetrics, gridSearchCV_rbf_K_SVC_With_PCA_transformed_data = classGridSearchCV('GridSearchCV RBF Kernel SVC With PCA transformed data', gridSearchCV_rbf_K_SVC_With_PCA_transformed_data, parameters, X_train_pca2, y_train_cat, X_val_pca2, y_val_cat, 'f1')"
   ]
  },
  {
   "cell_type": "code",
   "execution_count": 124,
   "metadata": {},
   "outputs": [
    {
     "data": {
      "text/plain": [
       "SVC(C=1, gamma=1)"
      ]
     },
     "execution_count": 124,
     "metadata": {},
     "output_type": "execute_result"
    }
   ],
   "source": [
    "# this is our best model\n",
    "gridSearchCV_rbf_K_SVC_With_PCA_transformed_data"
   ]
  },
  {
   "cell_type": "code",
   "execution_count": 125,
   "metadata": {},
   "outputs": [],
   "source": [
    "# add the list of the classifier metrics to the list of classification models\n",
    "classificationModels.append(classifierMetrics)"
   ]
  },
  {
   "cell_type": "code",
   "execution_count": 126,
   "metadata": {},
   "outputs": [
    {
     "data": {
      "text/plain": [
       "[['GridSearchCV RBF Kernel SVC', 0.94, 0.91, 0.87, 0.94, 0.9, 0.9, 0.88],\n",
       " ['GridSearchCV RBF Kernel SVC With PCA transformed data',\n",
       "  0.93,\n",
       "  0.91,\n",
       "  0.86,\n",
       "  0.94,\n",
       "  0.9,\n",
       "  0.9,\n",
       "  0.88]]"
      ]
     },
     "execution_count": 126,
     "metadata": {},
     "output_type": "execute_result"
    }
   ],
   "source": [
    "classificationModels"
   ]
  },
  {
   "cell_type": "markdown",
   "metadata": {},
   "source": [
    "<p>Comparing Standardized training data and PCA transformed training data, Recall is 0.87 when standardized training data is utilized and 0.86 when PCA transformed data is used. So, there is a reduction in Recall (Sensitivity) when PCA tranformed training data is used.</p>\n",
    "<p>The rest of the other metric scores values for Specificity, Precision, Balanced Accuracy and F1-Score did not change.</p>"
   ]
  },
  {
   "cell_type": "markdown",
   "metadata": {},
   "source": [
    "## Q8 [10]"
   ]
  },
  {
   "cell_type": "markdown",
   "metadata": {},
   "source": [
    "- For regression:\n",
    "    - Think of other ways of improving the regression performance and list at least two possibilities.\n",
    "    - You can use any of the datasets we have been using (standardized data, PCA transformed data), or re-create your own set from the original.\n",
    "    - Implement both of the methods you proposed. \n",
    "    - Is the validation performance increasing? For performance comparison you can use any regression performance metric that you deem to be appropriate. \n",
    "    - Optional: Apply different methods, ideas as you see fit and see if the validation performance is improving."
   ]
  },
  {
   "cell_type": "markdown",
   "metadata": {},
   "source": [
    "<p><b>Multicollinearity</b> could be one of the reasons why we are experiencing poor performance so we need to care of it by deriving a correlation matrix where we shall look at the relationships between the bivariant variables and also run VIF function where we shall exclude all those variables with VIF values exceeding 5.</p>"
   ]
  },
  {
   "cell_type": "code",
   "execution_count": 127,
   "metadata": {},
   "outputs": [
    {
     "data": {
      "text/html": [
       "<div>\n",
       "<style scoped>\n",
       "    .dataframe tbody tr th:only-of-type {\n",
       "        vertical-align: middle;\n",
       "    }\n",
       "\n",
       "    .dataframe tbody tr th {\n",
       "        vertical-align: top;\n",
       "    }\n",
       "\n",
       "    .dataframe thead th {\n",
       "        text-align: right;\n",
       "    }\n",
       "</style>\n",
       "<table border=\"1\" class=\"dataframe\">\n",
       "  <thead>\n",
       "    <tr style=\"text-align: right;\">\n",
       "      <th></th>\n",
       "      <th>AT</th>\n",
       "      <th>AP</th>\n",
       "      <th>AH</th>\n",
       "      <th>AFDP</th>\n",
       "      <th>GTEP</th>\n",
       "      <th>TIT</th>\n",
       "      <th>TAT</th>\n",
       "      <th>TEY</th>\n",
       "      <th>CDP</th>\n",
       "    </tr>\n",
       "  </thead>\n",
       "  <tbody>\n",
       "    <tr>\n",
       "      <th>AT</th>\n",
       "      <td>1.00</td>\n",
       "      <td>-0.49</td>\n",
       "      <td>-0.48</td>\n",
       "      <td>0.47</td>\n",
       "      <td>0.20</td>\n",
       "      <td>0.33</td>\n",
       "      <td>0.20</td>\n",
       "      <td>0.11</td>\n",
       "      <td>0.21</td>\n",
       "    </tr>\n",
       "    <tr>\n",
       "      <th>AP</th>\n",
       "      <td>-0.49</td>\n",
       "      <td>1.00</td>\n",
       "      <td>0.09</td>\n",
       "      <td>-0.10</td>\n",
       "      <td>-0.05</td>\n",
       "      <td>-0.08</td>\n",
       "      <td>-0.28</td>\n",
       "      <td>0.04</td>\n",
       "      <td>0.02</td>\n",
       "    </tr>\n",
       "    <tr>\n",
       "      <th>AH</th>\n",
       "      <td>-0.48</td>\n",
       "      <td>0.09</td>\n",
       "      <td>1.00</td>\n",
       "      <td>-0.26</td>\n",
       "      <td>-0.30</td>\n",
       "      <td>-0.27</td>\n",
       "      <td>0.03</td>\n",
       "      <td>-0.19</td>\n",
       "      <td>-0.23</td>\n",
       "    </tr>\n",
       "    <tr>\n",
       "      <th>AFDP</th>\n",
       "      <td>0.47</td>\n",
       "      <td>-0.10</td>\n",
       "      <td>-0.26</td>\n",
       "      <td>1.00</td>\n",
       "      <td>0.84</td>\n",
       "      <td>0.91</td>\n",
       "      <td>-0.52</td>\n",
       "      <td>0.88</td>\n",
       "      <td>0.92</td>\n",
       "    </tr>\n",
       "    <tr>\n",
       "      <th>GTEP</th>\n",
       "      <td>0.20</td>\n",
       "      <td>-0.05</td>\n",
       "      <td>-0.30</td>\n",
       "      <td>0.84</td>\n",
       "      <td>1.00</td>\n",
       "      <td>0.89</td>\n",
       "      <td>-0.62</td>\n",
       "      <td>0.93</td>\n",
       "      <td>0.94</td>\n",
       "    </tr>\n",
       "    <tr>\n",
       "      <th>TIT</th>\n",
       "      <td>0.33</td>\n",
       "      <td>-0.08</td>\n",
       "      <td>-0.27</td>\n",
       "      <td>0.91</td>\n",
       "      <td>0.89</td>\n",
       "      <td>1.00</td>\n",
       "      <td>-0.40</td>\n",
       "      <td>0.95</td>\n",
       "      <td>0.95</td>\n",
       "    </tr>\n",
       "    <tr>\n",
       "      <th>TAT</th>\n",
       "      <td>0.20</td>\n",
       "      <td>-0.28</td>\n",
       "      <td>0.03</td>\n",
       "      <td>-0.52</td>\n",
       "      <td>-0.62</td>\n",
       "      <td>-0.40</td>\n",
       "      <td>1.00</td>\n",
       "      <td>-0.63</td>\n",
       "      <td>-0.66</td>\n",
       "    </tr>\n",
       "    <tr>\n",
       "      <th>TEY</th>\n",
       "      <td>0.11</td>\n",
       "      <td>0.04</td>\n",
       "      <td>-0.19</td>\n",
       "      <td>0.88</td>\n",
       "      <td>0.93</td>\n",
       "      <td>0.95</td>\n",
       "      <td>-0.63</td>\n",
       "      <td>1.00</td>\n",
       "      <td>0.99</td>\n",
       "    </tr>\n",
       "    <tr>\n",
       "      <th>CDP</th>\n",
       "      <td>0.21</td>\n",
       "      <td>0.02</td>\n",
       "      <td>-0.23</td>\n",
       "      <td>0.92</td>\n",
       "      <td>0.94</td>\n",
       "      <td>0.95</td>\n",
       "      <td>-0.66</td>\n",
       "      <td>0.99</td>\n",
       "      <td>1.00</td>\n",
       "    </tr>\n",
       "  </tbody>\n",
       "</table>\n",
       "</div>"
      ],
      "text/plain": [
       "        AT    AP    AH  AFDP  GTEP   TIT   TAT   TEY   CDP\n",
       "AT    1.00 -0.49 -0.48  0.47  0.20  0.33  0.20  0.11  0.21\n",
       "AP   -0.49  1.00  0.09 -0.10 -0.05 -0.08 -0.28  0.04  0.02\n",
       "AH   -0.48  0.09  1.00 -0.26 -0.30 -0.27  0.03 -0.19 -0.23\n",
       "AFDP  0.47 -0.10 -0.26  1.00  0.84  0.91 -0.52  0.88  0.92\n",
       "GTEP  0.20 -0.05 -0.30  0.84  1.00  0.89 -0.62  0.93  0.94\n",
       "TIT   0.33 -0.08 -0.27  0.91  0.89  1.00 -0.40  0.95  0.95\n",
       "TAT   0.20 -0.28  0.03 -0.52 -0.62 -0.40  1.00 -0.63 -0.66\n",
       "TEY   0.11  0.04 -0.19  0.88  0.93  0.95 -0.63  1.00  0.99\n",
       "CDP   0.21  0.02 -0.23  0.92  0.94  0.95 -0.66  0.99  1.00"
      ]
     },
     "execution_count": 127,
     "metadata": {},
     "output_type": "execute_result"
    }
   ],
   "source": [
    "X_train_orig.corr(method='pearson').round(2)"
   ]
  },
  {
   "cell_type": "code",
   "execution_count": 128,
   "metadata": {},
   "outputs": [],
   "source": [
    "tcolumns = X_train_orig.columns"
   ]
  },
  {
   "cell_type": "code",
   "execution_count": 129,
   "metadata": {},
   "outputs": [
    {
     "data": {
      "image/png": "[encoded data removed]",
      "text/plain": [
       "<Figure size 1440x864 with 2 Axes>"
      ]
     },
     "metadata": {},
     "output_type": "display_data"
    }
   ],
   "source": [
    "# create a correlation heatmap\n",
    "corrmat = np.corrcoef(X_train_orig[tcolumns].values.T) # let's derive a transposed numpy array\n",
    "# corrmat\n",
    "sns.set(font_scale=2.0) # set the font\n",
    "sns.set(rc={'figure.figsize': (20, 12)}) # set figure size\n",
    "hmap = sns.heatmap(corrmat, cbar=True, annot=True, square=True, fmt='.2f', annot_kws={'size':8}, yticklabels=tcolumns, xticklabels=tcolumns)\n",
    "plt.show()"
   ]
  },
  {
   "cell_type": "markdown",
   "metadata": {},
   "source": [
    "<ul>From the above correlation matrix, we see that:\n",
    "<li>GTEP and AFDP are highly correllated.</li>\n",
    "<li>TEY and AFDP are highly correllated.</li>\n",
    "<li>TIT and AFDP are highly correllated.</li>\n",
    "<li>CDP and AFDP are highly correllated.</li>\n",
    "<li>TIT and GTEP are highly correllated.</li>\n",
    "<li>TEY and GTEP are highly correllated.</li>\n",
    "<li>CDP and GTEP are highly correllated.</li>\n",
    "<li>TEY and TIT are highly correllated.</li>\n",
    "<li>TEY and CDP are highly correllated.</li>\n",
    "<li>TIT and CDP are highly correllated.</li>\n",
    "</ul>"
   ]
  },
  {
   "cell_type": "markdown",
   "metadata": {},
   "source": [
    "<p>Then using VIF, we need to exclude all those variables with high VIF values exceeding 5.</p>"
   ]
  },
  {
   "cell_type": "code",
   "execution_count": 130,
   "metadata": {},
   "outputs": [],
   "source": [
    "pd.set_option('display.float_format', lambda x: '%.5f' % x)"
   ]
  },
  {
   "cell_type": "code",
   "execution_count": 131,
   "metadata": {},
   "outputs": [],
   "source": [
    "# convert X_train into a pandas data frame\n",
    "df_X_train = pd.DataFrame(X_train, columns = ['AT', 'AP', 'AH', 'AFDP', 'GTEP', 'TIT', 'TAT', 'TEY', 'CDP'])\n",
    "df_X_train_ver2 = df_X_train.copy()\n",
    "#df_X_train "
   ]
  },
  {
   "cell_type": "code",
   "execution_count": 132,
   "metadata": {},
   "outputs": [
    {
     "data": {
      "text/html": [
       "<div>\n",
       "<style scoped>\n",
       "    .dataframe tbody tr th:only-of-type {\n",
       "        vertical-align: middle;\n",
       "    }\n",
       "\n",
       "    .dataframe tbody tr th {\n",
       "        vertical-align: top;\n",
       "    }\n",
       "\n",
       "    .dataframe thead th {\n",
       "        text-align: right;\n",
       "    }\n",
       "</style>\n",
       "<table border=\"1\" class=\"dataframe\">\n",
       "  <thead>\n",
       "    <tr style=\"text-align: right;\">\n",
       "      <th></th>\n",
       "      <th>features</th>\n",
       "      <th>VIF_values</th>\n",
       "    </tr>\n",
       "  </thead>\n",
       "  <tbody>\n",
       "    <tr>\n",
       "      <th>0</th>\n",
       "      <td>AT</td>\n",
       "      <td>16.65754</td>\n",
       "    </tr>\n",
       "    <tr>\n",
       "      <th>1</th>\n",
       "      <td>AP</td>\n",
       "      <td>1.90902</td>\n",
       "    </tr>\n",
       "    <tr>\n",
       "      <th>2</th>\n",
       "      <td>AH</td>\n",
       "      <td>1.80366</td>\n",
       "    </tr>\n",
       "    <tr>\n",
       "      <th>3</th>\n",
       "      <td>AFDP</td>\n",
       "      <td>19.98047</td>\n",
       "    </tr>\n",
       "    <tr>\n",
       "      <th>4</th>\n",
       "      <td>GTEP</td>\n",
       "      <td>10.67075</td>\n",
       "    </tr>\n",
       "    <tr>\n",
       "      <th>5</th>\n",
       "      <td>TIT</td>\n",
       "      <td>841.20811</td>\n",
       "    </tr>\n",
       "    <tr>\n",
       "      <th>6</th>\n",
       "      <td>TAT</td>\n",
       "      <td>99.40907</td>\n",
       "    </tr>\n",
       "    <tr>\n",
       "      <th>7</th>\n",
       "      <td>TEY</td>\n",
       "      <td>610.04739</td>\n",
       "    </tr>\n",
       "    <tr>\n",
       "      <th>8</th>\n",
       "      <td>CDP</td>\n",
       "      <td>587.35429</td>\n",
       "    </tr>\n",
       "  </tbody>\n",
       "</table>\n",
       "</div>"
      ],
      "text/plain": [
       "  features  VIF_values\n",
       "0       AT    16.65754\n",
       "1       AP     1.90902\n",
       "2       AH     1.80366\n",
       "3     AFDP    19.98047\n",
       "4     GTEP    10.67075\n",
       "5      TIT   841.20811\n",
       "6      TAT    99.40907\n",
       "7      TEY   610.04739\n",
       "8      CDP   587.35429"
      ]
     },
     "execution_count": 132,
     "metadata": {},
     "output_type": "execute_result"
    }
   ],
   "source": [
    "ds = df_X_train.copy() # make a copy of the origanl data set\n",
    "# a helper function that returns the VIF values of the different features\n",
    "deriveVIF(ds)"
   ]
  },
  {
   "cell_type": "code",
   "execution_count": 133,
   "metadata": {},
   "outputs": [
    {
     "data": {
      "text/html": [
       "<div>\n",
       "<style scoped>\n",
       "    .dataframe tbody tr th:only-of-type {\n",
       "        vertical-align: middle;\n",
       "    }\n",
       "\n",
       "    .dataframe tbody tr th {\n",
       "        vertical-align: top;\n",
       "    }\n",
       "\n",
       "    .dataframe thead th {\n",
       "        text-align: right;\n",
       "    }\n",
       "</style>\n",
       "<table border=\"1\" class=\"dataframe\">\n",
       "  <thead>\n",
       "    <tr style=\"text-align: right;\">\n",
       "      <th></th>\n",
       "      <th>features</th>\n",
       "      <th>VIF_values</th>\n",
       "    </tr>\n",
       "  </thead>\n",
       "  <tbody>\n",
       "    <tr>\n",
       "      <th>0</th>\n",
       "      <td>AT</td>\n",
       "      <td>11.16069</td>\n",
       "    </tr>\n",
       "    <tr>\n",
       "      <th>1</th>\n",
       "      <td>AP</td>\n",
       "      <td>1.73165</td>\n",
       "    </tr>\n",
       "    <tr>\n",
       "      <th>2</th>\n",
       "      <td>AH</td>\n",
       "      <td>1.78906</td>\n",
       "    </tr>\n",
       "    <tr>\n",
       "      <th>3</th>\n",
       "      <td>AFDP</td>\n",
       "      <td>18.95543</td>\n",
       "    </tr>\n",
       "    <tr>\n",
       "      <th>4</th>\n",
       "      <td>GTEP</td>\n",
       "      <td>10.45583</td>\n",
       "    </tr>\n",
       "    <tr>\n",
       "      <th>5</th>\n",
       "      <td>TAT</td>\n",
       "      <td>5.55776</td>\n",
       "    </tr>\n",
       "    <tr>\n",
       "      <th>6</th>\n",
       "      <td>TEY</td>\n",
       "      <td>297.15934</td>\n",
       "    </tr>\n",
       "    <tr>\n",
       "      <th>7</th>\n",
       "      <td>CDP</td>\n",
       "      <td>373.91661</td>\n",
       "    </tr>\n",
       "  </tbody>\n",
       "</table>\n",
       "</div>"
      ],
      "text/plain": [
       "  features  VIF_values\n",
       "0       AT    11.16069\n",
       "1       AP     1.73165\n",
       "2       AH     1.78906\n",
       "3     AFDP    18.95543\n",
       "4     GTEP    10.45583\n",
       "5      TAT     5.55776\n",
       "6      TEY   297.15934\n",
       "7      CDP   373.91661"
      ]
     },
     "execution_count": 133,
     "metadata": {},
     "output_type": "execute_result"
    }
   ],
   "source": [
    "ds.drop(['TIT'], axis=1, inplace=True) # drop the column from the pandas data frame\n",
    "\n",
    "# a helper function that returns the VIF values of the different features\n",
    "deriveVIF(ds)"
   ]
  },
  {
   "cell_type": "code",
   "execution_count": 134,
   "metadata": {},
   "outputs": [
    {
     "data": {
      "text/html": [
       "<div>\n",
       "<style scoped>\n",
       "    .dataframe tbody tr th:only-of-type {\n",
       "        vertical-align: middle;\n",
       "    }\n",
       "\n",
       "    .dataframe tbody tr th {\n",
       "        vertical-align: top;\n",
       "    }\n",
       "\n",
       "    .dataframe thead th {\n",
       "        text-align: right;\n",
       "    }\n",
       "</style>\n",
       "<table border=\"1\" class=\"dataframe\">\n",
       "  <thead>\n",
       "    <tr style=\"text-align: right;\">\n",
       "      <th></th>\n",
       "      <th>features</th>\n",
       "      <th>VIF_values</th>\n",
       "    </tr>\n",
       "  </thead>\n",
       "  <tbody>\n",
       "    <tr>\n",
       "      <th>0</th>\n",
       "      <td>AT</td>\n",
       "      <td>4.80071</td>\n",
       "    </tr>\n",
       "    <tr>\n",
       "      <th>1</th>\n",
       "      <td>AP</td>\n",
       "      <td>1.59398</td>\n",
       "    </tr>\n",
       "    <tr>\n",
       "      <th>2</th>\n",
       "      <td>AH</td>\n",
       "      <td>1.76693</td>\n",
       "    </tr>\n",
       "    <tr>\n",
       "      <th>3</th>\n",
       "      <td>AFDP</td>\n",
       "      <td>18.95345</td>\n",
       "    </tr>\n",
       "    <tr>\n",
       "      <th>4</th>\n",
       "      <td>GTEP</td>\n",
       "      <td>10.41597</td>\n",
       "    </tr>\n",
       "    <tr>\n",
       "      <th>5</th>\n",
       "      <td>TAT</td>\n",
       "      <td>2.29871</td>\n",
       "    </tr>\n",
       "    <tr>\n",
       "      <th>6</th>\n",
       "      <td>CDP</td>\n",
       "      <td>27.31655</td>\n",
       "    </tr>\n",
       "  </tbody>\n",
       "</table>\n",
       "</div>"
      ],
      "text/plain": [
       "  features  VIF_values\n",
       "0       AT     4.80071\n",
       "1       AP     1.59398\n",
       "2       AH     1.76693\n",
       "3     AFDP    18.95345\n",
       "4     GTEP    10.41597\n",
       "5      TAT     2.29871\n",
       "6      CDP    27.31655"
      ]
     },
     "execution_count": 134,
     "metadata": {},
     "output_type": "execute_result"
    }
   ],
   "source": [
    "ds.drop(['TEY'], axis=1, inplace=True) # drop the column from the pandas data frame\n",
    "\n",
    "# a helper function that returns the VIF values of the different features\n",
    "deriveVIF(ds)"
   ]
  },
  {
   "cell_type": "code",
   "execution_count": 135,
   "metadata": {},
   "outputs": [
    {
     "data": {
      "text/html": [
       "<div>\n",
       "<style scoped>\n",
       "    .dataframe tbody tr th:only-of-type {\n",
       "        vertical-align: middle;\n",
       "    }\n",
       "\n",
       "    .dataframe tbody tr th {\n",
       "        vertical-align: top;\n",
       "    }\n",
       "\n",
       "    .dataframe thead th {\n",
       "        text-align: right;\n",
       "    }\n",
       "</style>\n",
       "<table border=\"1\" class=\"dataframe\">\n",
       "  <thead>\n",
       "    <tr style=\"text-align: right;\">\n",
       "      <th></th>\n",
       "      <th>features</th>\n",
       "      <th>VIF_values</th>\n",
       "    </tr>\n",
       "  </thead>\n",
       "  <tbody>\n",
       "    <tr>\n",
       "      <th>0</th>\n",
       "      <td>AT</td>\n",
       "      <td>3.89430</td>\n",
       "    </tr>\n",
       "    <tr>\n",
       "      <th>1</th>\n",
       "      <td>AP</td>\n",
       "      <td>1.59040</td>\n",
       "    </tr>\n",
       "    <tr>\n",
       "      <th>2</th>\n",
       "      <td>AH</td>\n",
       "      <td>1.74298</td>\n",
       "    </tr>\n",
       "    <tr>\n",
       "      <th>3</th>\n",
       "      <td>AFDP</td>\n",
       "      <td>7.45087</td>\n",
       "    </tr>\n",
       "    <tr>\n",
       "      <th>4</th>\n",
       "      <td>GTEP</td>\n",
       "      <td>5.99547</td>\n",
       "    </tr>\n",
       "    <tr>\n",
       "      <th>5</th>\n",
       "      <td>TAT</td>\n",
       "      <td>2.27982</td>\n",
       "    </tr>\n",
       "  </tbody>\n",
       "</table>\n",
       "</div>"
      ],
      "text/plain": [
       "  features  VIF_values\n",
       "0       AT     3.89430\n",
       "1       AP     1.59040\n",
       "2       AH     1.74298\n",
       "3     AFDP     7.45087\n",
       "4     GTEP     5.99547\n",
       "5      TAT     2.27982"
      ]
     },
     "execution_count": 135,
     "metadata": {},
     "output_type": "execute_result"
    }
   ],
   "source": [
    "ds.drop(['CDP'], axis=1, inplace=True) # drop the column from the pandas data frame\n",
    "\n",
    "# a helper function that returns the VIF values of the different features\n",
    "deriveVIF(ds)"
   ]
  },
  {
   "cell_type": "code",
   "execution_count": 136,
   "metadata": {},
   "outputs": [
    {
     "data": {
      "text/html": [
       "<div>\n",
       "<style scoped>\n",
       "    .dataframe tbody tr th:only-of-type {\n",
       "        vertical-align: middle;\n",
       "    }\n",
       "\n",
       "    .dataframe tbody tr th {\n",
       "        vertical-align: top;\n",
       "    }\n",
       "\n",
       "    .dataframe thead th {\n",
       "        text-align: right;\n",
       "    }\n",
       "</style>\n",
       "<table border=\"1\" class=\"dataframe\">\n",
       "  <thead>\n",
       "    <tr style=\"text-align: right;\">\n",
       "      <th></th>\n",
       "      <th>features</th>\n",
       "      <th>VIF_values</th>\n",
       "    </tr>\n",
       "  </thead>\n",
       "  <tbody>\n",
       "    <tr>\n",
       "      <th>0</th>\n",
       "      <td>AT</td>\n",
       "      <td>1.84906</td>\n",
       "    </tr>\n",
       "    <tr>\n",
       "      <th>1</th>\n",
       "      <td>AP</td>\n",
       "      <td>1.45290</td>\n",
       "    </tr>\n",
       "    <tr>\n",
       "      <th>2</th>\n",
       "      <td>AH</td>\n",
       "      <td>1.42961</td>\n",
       "    </tr>\n",
       "    <tr>\n",
       "      <th>3</th>\n",
       "      <td>GTEP</td>\n",
       "      <td>2.12599</td>\n",
       "    </tr>\n",
       "    <tr>\n",
       "      <th>4</th>\n",
       "      <td>TAT</td>\n",
       "      <td>2.12488</td>\n",
       "    </tr>\n",
       "  </tbody>\n",
       "</table>\n",
       "</div>"
      ],
      "text/plain": [
       "  features  VIF_values\n",
       "0       AT     1.84906\n",
       "1       AP     1.45290\n",
       "2       AH     1.42961\n",
       "3     GTEP     2.12599\n",
       "4      TAT     2.12488"
      ]
     },
     "execution_count": 136,
     "metadata": {},
     "output_type": "execute_result"
    }
   ],
   "source": [
    "ds.drop(['AFDP'], axis=1, inplace=True) # drop the column from the pandas data frame\n",
    "\n",
    "# a helper function that returns the VIF values of the different features\n",
    "deriveVIF(ds)"
   ]
  },
  {
   "cell_type": "code",
   "execution_count": 137,
   "metadata": {},
   "outputs": [
    {
     "data": {
      "text/html": [
       "<div>\n",
       "<style scoped>\n",
       "    .dataframe tbody tr th:only-of-type {\n",
       "        vertical-align: middle;\n",
       "    }\n",
       "\n",
       "    .dataframe tbody tr th {\n",
       "        vertical-align: top;\n",
       "    }\n",
       "\n",
       "    .dataframe thead th {\n",
       "        text-align: right;\n",
       "    }\n",
       "</style>\n",
       "<table border=\"1\" class=\"dataframe\">\n",
       "  <thead>\n",
       "    <tr style=\"text-align: right;\">\n",
       "      <th></th>\n",
       "      <th>AT</th>\n",
       "      <th>AP</th>\n",
       "      <th>AH</th>\n",
       "      <th>GTEP</th>\n",
       "      <th>TAT</th>\n",
       "    </tr>\n",
       "  </thead>\n",
       "  <tbody>\n",
       "    <tr>\n",
       "      <th>AT</th>\n",
       "      <td>1.00000</td>\n",
       "      <td>-0.49000</td>\n",
       "      <td>-0.48000</td>\n",
       "      <td>0.20000</td>\n",
       "      <td>0.20000</td>\n",
       "    </tr>\n",
       "    <tr>\n",
       "      <th>AP</th>\n",
       "      <td>-0.49000</td>\n",
       "      <td>1.00000</td>\n",
       "      <td>0.09000</td>\n",
       "      <td>-0.05000</td>\n",
       "      <td>-0.28000</td>\n",
       "    </tr>\n",
       "    <tr>\n",
       "      <th>AH</th>\n",
       "      <td>-0.48000</td>\n",
       "      <td>0.09000</td>\n",
       "      <td>1.00000</td>\n",
       "      <td>-0.30000</td>\n",
       "      <td>0.03000</td>\n",
       "    </tr>\n",
       "    <tr>\n",
       "      <th>GTEP</th>\n",
       "      <td>0.20000</td>\n",
       "      <td>-0.05000</td>\n",
       "      <td>-0.30000</td>\n",
       "      <td>1.00000</td>\n",
       "      <td>-0.62000</td>\n",
       "    </tr>\n",
       "    <tr>\n",
       "      <th>TAT</th>\n",
       "      <td>0.20000</td>\n",
       "      <td>-0.28000</td>\n",
       "      <td>0.03000</td>\n",
       "      <td>-0.62000</td>\n",
       "      <td>1.00000</td>\n",
       "    </tr>\n",
       "  </tbody>\n",
       "</table>\n",
       "</div>"
      ],
      "text/plain": [
       "           AT       AP       AH     GTEP      TAT\n",
       "AT    1.00000 -0.49000 -0.48000  0.20000  0.20000\n",
       "AP   -0.49000  1.00000  0.09000 -0.05000 -0.28000\n",
       "AH   -0.48000  0.09000  1.00000 -0.30000  0.03000\n",
       "GTEP  0.20000 -0.05000 -0.30000  1.00000 -0.62000\n",
       "TAT   0.20000 -0.28000  0.03000 -0.62000  1.00000"
      ]
     },
     "execution_count": 137,
     "metadata": {},
     "output_type": "execute_result"
    }
   ],
   "source": [
    "ds.corr(method='pearson').round(2)"
   ]
  },
  {
   "cell_type": "markdown",
   "metadata": {},
   "source": [
    "<p>Running the correlation matrix again:</p>"
   ]
  },
  {
   "cell_type": "code",
   "execution_count": 138,
   "metadata": {},
   "outputs": [],
   "source": [
    "tcolumns = ds.columns"
   ]
  },
  {
   "cell_type": "code",
   "execution_count": 139,
   "metadata": {},
   "outputs": [
    {
     "data": {
      "image/png": "[encoded data removed]",
      "text/plain": [
       "<Figure size 1440x864 with 2 Axes>"
      ]
     },
     "metadata": {},
     "output_type": "display_data"
    }
   ],
   "source": [
    "# create a correlation heatmap\n",
    "corrmat = np.corrcoef(ds[tcolumns].values.T) # let's derive a transposed numpy array\n",
    "# corrmat\n",
    "sns.set(font_scale=4.0) # set the font\n",
    "sns.set(rc={'figure.figsize': (20, 12)}) # set figure size\n",
    "hmap = sns.heatmap(corrmat, cbar=True, annot=True, square=True, fmt='.2f', annot_kws={'size':8}, yticklabels=tcolumns, xticklabels=tcolumns)\n",
    "plt.show()"
   ]
  },
  {
   "cell_type": "markdown",
   "metadata": {},
   "source": [
    "    - We can see that there is no more multicollinearity amongst the independent variables."
   ]
  },
  {
   "cell_type": "code",
   "execution_count": 140,
   "metadata": {},
   "outputs": [
    {
     "data": {
      "text/plain": [
       "Index(['AT', 'AP', 'AH', 'GTEP', 'TAT'], dtype='object')"
      ]
     },
     "execution_count": 140,
     "metadata": {},
     "output_type": "execute_result"
    }
   ],
   "source": [
    "ds.columns"
   ]
  },
  {
   "cell_type": "markdown",
   "metadata": {},
   "source": [
    " - Let's convert the transformed X_val into a data frame then use the Data frame to extract out the variables of interest which didn't have any collinearity amongst themselves\n"
   ]
  },
  {
   "cell_type": "code",
   "execution_count": 141,
   "metadata": {},
   "outputs": [],
   "source": [
    "df_X_val = pd.DataFrame(X_val, columns=['AT', 'AP', 'AH', 'AFDP', 'GTEP', 'TIT', 'TAT', 'TEY', 'CDP'])"
   ]
  },
  {
   "cell_type": "code",
   "execution_count": 142,
   "metadata": {},
   "outputs": [
    {
     "data": {
      "text/html": [
       "<div>\n",
       "<style scoped>\n",
       "    .dataframe tbody tr th:only-of-type {\n",
       "        vertical-align: middle;\n",
       "    }\n",
       "\n",
       "    .dataframe tbody tr th {\n",
       "        vertical-align: top;\n",
       "    }\n",
       "\n",
       "    .dataframe thead th {\n",
       "        text-align: right;\n",
       "    }\n",
       "</style>\n",
       "<table border=\"1\" class=\"dataframe\">\n",
       "  <thead>\n",
       "    <tr style=\"text-align: right;\">\n",
       "      <th></th>\n",
       "      <th>AT</th>\n",
       "      <th>AP</th>\n",
       "      <th>AH</th>\n",
       "      <th>AFDP</th>\n",
       "      <th>GTEP</th>\n",
       "      <th>TIT</th>\n",
       "      <th>TAT</th>\n",
       "      <th>TEY</th>\n",
       "      <th>CDP</th>\n",
       "    </tr>\n",
       "  </thead>\n",
       "  <tbody>\n",
       "    <tr>\n",
       "      <th>0</th>\n",
       "      <td>-1.42171</td>\n",
       "      <td>0.23588</td>\n",
       "      <td>0.78322</td>\n",
       "      <td>-1.73708</td>\n",
       "      <td>-1.09364</td>\n",
       "      <td>-2.35257</td>\n",
       "      <td>-1.24040</td>\n",
       "      <td>-1.58392</td>\n",
       "      <td>-1.43528</td>\n",
       "    </tr>\n",
       "    <tr>\n",
       "      <th>1</th>\n",
       "      <td>0.37048</td>\n",
       "      <td>-0.78703</td>\n",
       "      <td>0.68615</td>\n",
       "      <td>0.18626</td>\n",
       "      <td>-0.34035</td>\n",
       "      <td>-0.02203</td>\n",
       "      <td>0.64197</td>\n",
       "      <td>-0.20474</td>\n",
       "      <td>-0.30679</td>\n",
       "    </tr>\n",
       "    <tr>\n",
       "      <th>2</th>\n",
       "      <td>-1.34982</td>\n",
       "      <td>1.37404</td>\n",
       "      <td>0.83823</td>\n",
       "      <td>0.66399</td>\n",
       "      <td>1.40485</td>\n",
       "      <td>1.05244</td>\n",
       "      <td>-2.22939</td>\n",
       "      <td>1.71957</td>\n",
       "      <td>1.57843</td>\n",
       "    </tr>\n",
       "    <tr>\n",
       "      <th>3</th>\n",
       "      <td>-1.09037</td>\n",
       "      <td>0.92742</td>\n",
       "      <td>0.80918</td>\n",
       "      <td>-1.65224</td>\n",
       "      <td>-1.73201</td>\n",
       "      <td>-1.77245</td>\n",
       "      <td>0.31476</td>\n",
       "      <td>-1.53823</td>\n",
       "      <td>-1.57766</td>\n",
       "    </tr>\n",
       "    <tr>\n",
       "      <th>4</th>\n",
       "      <td>-0.15291</td>\n",
       "      <td>0.75454</td>\n",
       "      <td>-0.13542</td>\n",
       "      <td>1.05019</td>\n",
       "      <td>1.12876</td>\n",
       "      <td>1.02217</td>\n",
       "      <td>-1.40401</td>\n",
       "      <td>1.22507</td>\n",
       "      <td>1.27433</td>\n",
       "    </tr>\n",
       "  </tbody>\n",
       "</table>\n",
       "</div>"
      ],
      "text/plain": [
       "        AT       AP       AH     AFDP     GTEP      TIT      TAT      TEY  \\\n",
       "0 -1.42171  0.23588  0.78322 -1.73708 -1.09364 -2.35257 -1.24040 -1.58392   \n",
       "1  0.37048 -0.78703  0.68615  0.18626 -0.34035 -0.02203  0.64197 -0.20474   \n",
       "2 -1.34982  1.37404  0.83823  0.66399  1.40485  1.05244 -2.22939  1.71957   \n",
       "3 -1.09037  0.92742  0.80918 -1.65224 -1.73201 -1.77245  0.31476 -1.53823   \n",
       "4 -0.15291  0.75454 -0.13542  1.05019  1.12876  1.02217 -1.40401  1.22507   \n",
       "\n",
       "       CDP  \n",
       "0 -1.43528  \n",
       "1 -0.30679  \n",
       "2  1.57843  \n",
       "3 -1.57766  \n",
       "4  1.27433  "
      ]
     },
     "execution_count": 142,
     "metadata": {},
     "output_type": "execute_result"
    }
   ],
   "source": [
    "df_X_val.head() # display the first 5 records"
   ]
  },
  {
   "cell_type": "code",
   "execution_count": 143,
   "metadata": {},
   "outputs": [],
   "source": [
    "# extract out the variables of interest and create a new X_val data frame\n",
    "e_X_val = df_X_val[ds.columns]\n",
    "e_X_train = ds"
   ]
  },
  {
   "cell_type": "code",
   "execution_count": 144,
   "metadata": {},
   "outputs": [
    {
     "data": {
      "text/html": [
       "<div>\n",
       "<style scoped>\n",
       "    .dataframe tbody tr th:only-of-type {\n",
       "        vertical-align: middle;\n",
       "    }\n",
       "\n",
       "    .dataframe tbody tr th {\n",
       "        vertical-align: top;\n",
       "    }\n",
       "\n",
       "    .dataframe thead th {\n",
       "        text-align: right;\n",
       "    }\n",
       "</style>\n",
       "<table border=\"1\" class=\"dataframe\">\n",
       "  <thead>\n",
       "    <tr style=\"text-align: right;\">\n",
       "      <th></th>\n",
       "      <th>AT</th>\n",
       "      <th>AP</th>\n",
       "      <th>AH</th>\n",
       "      <th>GTEP</th>\n",
       "      <th>TAT</th>\n",
       "    </tr>\n",
       "  </thead>\n",
       "  <tbody>\n",
       "    <tr>\n",
       "      <th>0</th>\n",
       "      <td>-1.42171</td>\n",
       "      <td>0.23588</td>\n",
       "      <td>0.78322</td>\n",
       "      <td>-1.09364</td>\n",
       "      <td>-1.24040</td>\n",
       "    </tr>\n",
       "    <tr>\n",
       "      <th>1</th>\n",
       "      <td>0.37048</td>\n",
       "      <td>-0.78703</td>\n",
       "      <td>0.68615</td>\n",
       "      <td>-0.34035</td>\n",
       "      <td>0.64197</td>\n",
       "    </tr>\n",
       "    <tr>\n",
       "      <th>2</th>\n",
       "      <td>-1.34982</td>\n",
       "      <td>1.37404</td>\n",
       "      <td>0.83823</td>\n",
       "      <td>1.40485</td>\n",
       "      <td>-2.22939</td>\n",
       "    </tr>\n",
       "    <tr>\n",
       "      <th>3</th>\n",
       "      <td>-1.09037</td>\n",
       "      <td>0.92742</td>\n",
       "      <td>0.80918</td>\n",
       "      <td>-1.73201</td>\n",
       "      <td>0.31476</td>\n",
       "    </tr>\n",
       "    <tr>\n",
       "      <th>4</th>\n",
       "      <td>-0.15291</td>\n",
       "      <td>0.75454</td>\n",
       "      <td>-0.13542</td>\n",
       "      <td>1.12876</td>\n",
       "      <td>-1.40401</td>\n",
       "    </tr>\n",
       "  </tbody>\n",
       "</table>\n",
       "</div>"
      ],
      "text/plain": [
       "        AT       AP       AH     GTEP      TAT\n",
       "0 -1.42171  0.23588  0.78322 -1.09364 -1.24040\n",
       "1  0.37048 -0.78703  0.68615 -0.34035  0.64197\n",
       "2 -1.34982  1.37404  0.83823  1.40485 -2.22939\n",
       "3 -1.09037  0.92742  0.80918 -1.73201  0.31476\n",
       "4 -0.15291  0.75454 -0.13542  1.12876 -1.40401"
      ]
     },
     "execution_count": 144,
     "metadata": {},
     "output_type": "execute_result"
    }
   ],
   "source": [
    "e_X_val.head() # display the top 5 records"
   ]
  },
  {
   "cell_type": "code",
   "execution_count": 145,
   "metadata": {},
   "outputs": [
    {
     "data": {
      "text/html": [
       "<div>\n",
       "<style scoped>\n",
       "    .dataframe tbody tr th:only-of-type {\n",
       "        vertical-align: middle;\n",
       "    }\n",
       "\n",
       "    .dataframe tbody tr th {\n",
       "        vertical-align: top;\n",
       "    }\n",
       "\n",
       "    .dataframe thead th {\n",
       "        text-align: right;\n",
       "    }\n",
       "</style>\n",
       "<table border=\"1\" class=\"dataframe\">\n",
       "  <thead>\n",
       "    <tr style=\"text-align: right;\">\n",
       "      <th></th>\n",
       "      <th>AT</th>\n",
       "      <th>AP</th>\n",
       "      <th>AH</th>\n",
       "      <th>GTEP</th>\n",
       "      <th>TAT</th>\n",
       "    </tr>\n",
       "  </thead>\n",
       "  <tbody>\n",
       "    <tr>\n",
       "      <th>0</th>\n",
       "      <td>-0.67471</td>\n",
       "      <td>1.48930</td>\n",
       "      <td>-1.56867</td>\n",
       "      <td>-0.34079</td>\n",
       "      <td>0.63278</td>\n",
       "    </tr>\n",
       "    <tr>\n",
       "      <th>1</th>\n",
       "      <td>1.49278</td>\n",
       "      <td>-0.16752</td>\n",
       "      <td>-1.01861</td>\n",
       "      <td>0.89150</td>\n",
       "      <td>-0.39848</td>\n",
       "    </tr>\n",
       "    <tr>\n",
       "      <th>2</th>\n",
       "      <td>0.58082</td>\n",
       "      <td>-1.17602</td>\n",
       "      <td>0.91802</td>\n",
       "      <td>-0.27772</td>\n",
       "      <td>0.56477</td>\n",
       "    </tr>\n",
       "    <tr>\n",
       "      <th>3</th>\n",
       "      <td>0.32550</td>\n",
       "      <td>-0.52770</td>\n",
       "      <td>0.83999</td>\n",
       "      <td>-0.48827</td>\n",
       "      <td>0.67874</td>\n",
       "    </tr>\n",
       "    <tr>\n",
       "      <th>4</th>\n",
       "      <td>0.26948</td>\n",
       "      <td>-1.27687</td>\n",
       "      <td>-0.69614</td>\n",
       "      <td>-0.44943</td>\n",
       "      <td>0.69345</td>\n",
       "    </tr>\n",
       "  </tbody>\n",
       "</table>\n",
       "</div>"
      ],
      "text/plain": [
       "        AT       AP       AH     GTEP      TAT\n",
       "0 -0.67471  1.48930 -1.56867 -0.34079  0.63278\n",
       "1  1.49278 -0.16752 -1.01861  0.89150 -0.39848\n",
       "2  0.58082 -1.17602  0.91802 -0.27772  0.56477\n",
       "3  0.32550 -0.52770  0.83999 -0.48827  0.67874\n",
       "4  0.26948 -1.27687 -0.69614 -0.44943  0.69345"
      ]
     },
     "execution_count": 145,
     "metadata": {},
     "output_type": "execute_result"
    }
   ],
   "source": [
    "# display the top 5 records\n",
    "e_X_train.head()"
   ]
  },
  {
   "cell_type": "markdown",
   "metadata": {},
   "source": [
    " - Let's build a linearRegression model"
   ]
  },
  {
   "cell_type": "code",
   "execution_count": 146,
   "metadata": {},
   "outputs": [],
   "source": [
    "# convert the pandas Data frames to numpy arrays\n",
    "e_X_train = e_X_train.to_numpy()\n",
    "e_X_val = e_X_val.to_numpy()"
   ]
  },
  {
   "cell_type": "code",
   "execution_count": 147,
   "metadata": {},
   "outputs": [],
   "source": [
    "# initialize a Linear Regression object\n",
    "m_lr = LinearRegression()"
   ]
  },
  {
   "cell_type": "code",
   "execution_count": 148,
   "metadata": {},
   "outputs": [
    {
     "data": {
      "text/plain": [
       "LinearRegression()"
      ]
     },
     "execution_count": 148,
     "metadata": {},
     "output_type": "execute_result"
    }
   ],
   "source": [
    "# fit the model on training data using the un correlated variables\n",
    "m_lr.fit(e_X_train, y_train)"
   ]
  },
  {
   "cell_type": "code",
   "execution_count": 149,
   "metadata": {},
   "outputs": [
    {
     "name": "stdout",
     "output_type": "stream",
     "text": [
      "The model's R^2 on the training data is 0.545.\n",
      "The model's R^2 on the validation data is 0.509.\n",
      "\n",
      "The model's Root Mean Squared Error (RMSE) on the training data is 1.481.\n",
      "The model's Root Mean Squared Error (RMSE) on the validation data is 1.636.\n"
     ]
    }
   ],
   "source": [
    "# helper function that takes an initialized algorithm object, training and validation sets and returns the model's metrics \n",
    "# after  deriving the accuracy on both training and validation data.\n",
    "modelMetrics = buildTheModel('Linear Regression Performance Improvement With out multi-collinearity',m_lr, e_X_train, y_train, e_X_val, y_val)"
   ]
  },
  {
   "cell_type": "code",
   "execution_count": 150,
   "metadata": {},
   "outputs": [],
   "source": [
    "# add the model's metrics to the list of regression models\n",
    "regressionModels.append(modelMetrics)"
   ]
  },
  {
   "cell_type": "code",
   "execution_count": 151,
   "metadata": {},
   "outputs": [
    {
     "data": {
      "text/plain": [
       "[('Linear Regression', 0.66, 0.65, 1.27, 1.39),\n",
       " ('Random Forest Regressor', 0.96, 0.76, 0.42, 1.15),\n",
       " ('Random Forest Regressor with GridSearchCV', 0.79, 0.75, 1.0, 1.18),\n",
       " ('Linear SVM Regressor', 0.62, 0.6, 1.34, 1.47),\n",
       " ('Polynomial Kernel SVM Regressor', 0.74, 0.73, 1.12, 1.21),\n",
       " ('RBF Kernel SVM Regressor', 0.77, 0.75, 1.06, 1.17),\n",
       " ('RBF Kernel SVR with GridSearch', 0.79, 0.76, 1.0, 1.15),\n",
       " ('Linear Regression with PCA transformed data', 0.66, 0.63, 1.29, 1.41),\n",
       " ('Random Forest Regressor with PCA transformed data', 0.96, 0.74, 0.42, 1.2),\n",
       " ('GridSearchCV Random Forest Regressor with PCA transformed data',\n",
       "  0.8,\n",
       "  0.75,\n",
       "  0.98,\n",
       "  1.17),\n",
       " ('RBF Kernel SVR with PCA transformed data', 0.76, 0.75, 1.07, 1.17),\n",
       " ('GridSearchCV RBF Kernel SVR with PCA transformed data',\n",
       "  0.79,\n",
       "  0.75,\n",
       "  1.02,\n",
       "  1.16),\n",
       " ('Linear Regression Performance Improvement With out multi-collinearity',\n",
       "  0.54,\n",
       "  0.51,\n",
       "  1.48,\n",
       "  1.64)]"
      ]
     },
     "execution_count": 151,
     "metadata": {},
     "output_type": "execute_result"
    }
   ],
   "source": [
    "regressionModels"
   ]
  },
  {
   "cell_type": "markdown",
   "metadata": {},
   "source": [
    "<p>$R^2$ decreased on both training and validation so the model performance didn't improve, so we are going to experiment with the RandomForestRegressor.</p>"
   ]
  },
  {
   "cell_type": "code",
   "execution_count": 152,
   "metadata": {},
   "outputs": [],
   "source": [
    "m_rfr = RandomForestRegressor(n_estimators=100, random_state=RANDOM_STATE)"
   ]
  },
  {
   "cell_type": "code",
   "execution_count": 153,
   "metadata": {},
   "outputs": [
    {
     "data": {
      "text/plain": [
       "RandomForestRegressor(random_state=0)"
      ]
     },
     "execution_count": 153,
     "metadata": {},
     "output_type": "execute_result"
    }
   ],
   "source": [
    "# fit the model on the training un correlated data set.\n",
    "m_rfr.fit(e_X_train, y_train)"
   ]
  },
  {
   "cell_type": "code",
   "execution_count": 154,
   "metadata": {},
   "outputs": [
    {
     "name": "stdout",
     "output_type": "stream",
     "text": [
      "The model's R^2 on the training data is 0.955.\n",
      "The model's R^2 on the validation data is 0.701.\n",
      "\n",
      "The model's Root Mean Squared Error (RMSE) on the training data is 0.465.\n",
      "The model's Root Mean Squared Error (RMSE) on the validation data is 1.277.\n"
     ]
    }
   ],
   "source": [
    "# helper function that takes an initialized algorithm object, training and validation sets and returns the model's metrics \n",
    "# after  deriving the accuracy on both training and validation data.\n",
    "modelMetrics = buildTheModel('Random Forest Regressor Performance Improvement With out multi-collinearity',m_rfr, e_X_train, y_train, e_X_val, y_val)"
   ]
  },
  {
   "cell_type": "code",
   "execution_count": 155,
   "metadata": {},
   "outputs": [],
   "source": [
    "# add the model's metrics to the list of regression models\n",
    "regressionModels.append(modelMetrics)"
   ]
  },
  {
   "cell_type": "code",
   "execution_count": 156,
   "metadata": {},
   "outputs": [
    {
     "data": {
      "text/plain": [
       "[('Linear Regression', 0.66, 0.65, 1.27, 1.39),\n",
       " ('Random Forest Regressor', 0.96, 0.76, 0.42, 1.15),\n",
       " ('Random Forest Regressor with GridSearchCV', 0.79, 0.75, 1.0, 1.18),\n",
       " ('Linear SVM Regressor', 0.62, 0.6, 1.34, 1.47),\n",
       " ('Polynomial Kernel SVM Regressor', 0.74, 0.73, 1.12, 1.21),\n",
       " ('RBF Kernel SVM Regressor', 0.77, 0.75, 1.06, 1.17),\n",
       " ('RBF Kernel SVR with GridSearch', 0.79, 0.76, 1.0, 1.15),\n",
       " ('Linear Regression with PCA transformed data', 0.66, 0.63, 1.29, 1.41),\n",
       " ('Random Forest Regressor with PCA transformed data', 0.96, 0.74, 0.42, 1.2),\n",
       " ('GridSearchCV Random Forest Regressor with PCA transformed data',\n",
       "  0.8,\n",
       "  0.75,\n",
       "  0.98,\n",
       "  1.17),\n",
       " ('RBF Kernel SVR with PCA transformed data', 0.76, 0.75, 1.07, 1.17),\n",
       " ('GridSearchCV RBF Kernel SVR with PCA transformed data',\n",
       "  0.79,\n",
       "  0.75,\n",
       "  1.02,\n",
       "  1.16),\n",
       " ('Linear Regression Performance Improvement With out multi-collinearity',\n",
       "  0.54,\n",
       "  0.51,\n",
       "  1.48,\n",
       "  1.64),\n",
       " ('Random Forest Regressor Performance Improvement With out multi-collinearity',\n",
       "  0.96,\n",
       "  0.7,\n",
       "  0.46,\n",
       "  1.28)]"
      ]
     },
     "execution_count": 156,
     "metadata": {},
     "output_type": "execute_result"
    }
   ],
   "source": [
    "regressionModels"
   ]
  },
  {
   "cell_type": "markdown",
   "metadata": {},
   "source": [
    "<p>Using RandomForestRegressor did not improve $R^2$ and RMSE on both training and validation data sets.</p>"
   ]
  },
  {
   "cell_type": "markdown",
   "metadata": {},
   "source": [
    "## Linear Trees"
   ]
  },
  {
   "cell_type": "markdown",
   "metadata": {},
   "source": [
    "- Here we shall explore a **Linear Tree Regressor** which is a meta-estimator that combines the learning ability of Decision Tree and the predictive power of linear models."
   ]
  },
  {
   "cell_type": "code",
   "execution_count": 157,
   "metadata": {},
   "outputs": [],
   "source": [
    "from lineartree import LinearTreeRegressor #, LinearForestRegressor, LinearBoostRegressor\n",
    "lr = LinearRegression()\n",
    "ltr = LinearTreeRegressor(base_estimator=lr, criterion='rmse')"
   ]
  },
  {
   "cell_type": "code",
   "execution_count": 158,
   "metadata": {},
   "outputs": [
    {
     "data": {
      "text/plain": [
       "LinearTreeRegressor(base_estimator=LinearRegression(), criterion='rmse')"
      ]
     },
     "execution_count": 158,
     "metadata": {},
     "output_type": "execute_result"
    }
   ],
   "source": [
    "ltr.fit(X_train, y_train)"
   ]
  },
  {
   "cell_type": "code",
   "execution_count": 159,
   "metadata": {},
   "outputs": [
    {
     "name": "stdout",
     "output_type": "stream",
     "text": [
      "The model's R^2 on the training data is 0.774.\n",
      "The model's R^2 on the validation data is 0.746.\n",
      "\n",
      "The model's Root Mean Squared Error (RMSE) on the training data is 1.042.\n",
      "The model's Root Mean Squared Error (RMSE) on the validation data is 1.176.\n"
     ]
    }
   ],
   "source": [
    "# helper function that takes an initialized algorithm object, training and validation sets and returns the model's metrics \n",
    "# after  deriving the accuracy on both training and validation data.\n",
    "modelMetrics = buildTheModel('Linear Tree Regressor',ltr, X_train, y_train, X_val, y_val)"
   ]
  },
  {
   "cell_type": "code",
   "execution_count": 160,
   "metadata": {},
   "outputs": [],
   "source": [
    "# add the model's metrics to the list of regression models\n",
    "regressionModels.append(modelMetrics)"
   ]
  },
  {
   "cell_type": "code",
   "execution_count": 161,
   "metadata": {},
   "outputs": [
    {
     "data": {
      "text/plain": [
       "[('Linear Regression', 0.66, 0.65, 1.27, 1.39),\n",
       " ('Random Forest Regressor', 0.96, 0.76, 0.42, 1.15),\n",
       " ('Random Forest Regressor with GridSearchCV', 0.79, 0.75, 1.0, 1.18),\n",
       " ('Linear SVM Regressor', 0.62, 0.6, 1.34, 1.47),\n",
       " ('Polynomial Kernel SVM Regressor', 0.74, 0.73, 1.12, 1.21),\n",
       " ('RBF Kernel SVM Regressor', 0.77, 0.75, 1.06, 1.17),\n",
       " ('RBF Kernel SVR with GridSearch', 0.79, 0.76, 1.0, 1.15),\n",
       " ('Linear Regression with PCA transformed data', 0.66, 0.63, 1.29, 1.41),\n",
       " ('Random Forest Regressor with PCA transformed data', 0.96, 0.74, 0.42, 1.2),\n",
       " ('GridSearchCV Random Forest Regressor with PCA transformed data',\n",
       "  0.8,\n",
       "  0.75,\n",
       "  0.98,\n",
       "  1.17),\n",
       " ('RBF Kernel SVR with PCA transformed data', 0.76, 0.75, 1.07, 1.17),\n",
       " ('GridSearchCV RBF Kernel SVR with PCA transformed data',\n",
       "  0.79,\n",
       "  0.75,\n",
       "  1.02,\n",
       "  1.16),\n",
       " ('Linear Regression Performance Improvement With out multi-collinearity',\n",
       "  0.54,\n",
       "  0.51,\n",
       "  1.48,\n",
       "  1.64),\n",
       " ('Random Forest Regressor Performance Improvement With out multi-collinearity',\n",
       "  0.96,\n",
       "  0.7,\n",
       "  0.46,\n",
       "  1.28),\n",
       " ('Linear Tree Regressor', 0.77, 0.75, 1.04, 1.18)]"
      ]
     },
     "execution_count": 161,
     "metadata": {},
     "output_type": "execute_result"
    }
   ],
   "source": [
    "regressionModels"
   ]
  },
  {
   "cell_type": "markdown",
   "metadata": {},
   "source": [
    "### Using GridSearchCV"
   ]
  },
  {
   "cell_type": "code",
   "execution_count": 162,
   "metadata": {},
   "outputs": [
    {
     "data": {
      "text/plain": [
       "{'min_samples_split': [6, 120],\n",
       " 'min_samples_leaf': [10, 1000],\n",
       " 'criterion': ['mse', 'rmse'],\n",
       " 'max_depth': [5, 19],\n",
       " 'max_bins': [11, 115]}"
      ]
     },
     "execution_count": 162,
     "metadata": {},
     "output_type": "execute_result"
    }
   ],
   "source": [
    "parameters = {\n",
    "    'min_samples_split':[6,  120],\n",
    "    'min_samples_leaf':[10, 1000],\n",
    "    'criterion': ['mse', 'rmse'],\n",
    "    'max_depth': [5, 19],\n",
    "    'max_bins': [11, 115]\n",
    "}\n",
    "parameters"
   ]
  },
  {
   "cell_type": "code",
   "execution_count": 163,
   "metadata": {},
   "outputs": [],
   "source": [
    "lr=LinearRegression()\n",
    "ltr_With_GridSearch = LinearTreeRegressor(base_estimator=lr)"
   ]
  },
  {
   "cell_type": "code",
   "execution_count": 164,
   "metadata": {},
   "outputs": [
    {
     "name": "stdout",
     "output_type": "stream",
     "text": [
      "BEST PARAMS: {'criterion': 'mse', 'max_bins': 11, 'max_depth': 5, 'min_samples_leaf': 1000, 'min_samples_split': 6}\n",
      "\n",
      "\n",
      "\n",
      "The model's R^2 on the training data set is 0.771.\n",
      "The model's R^2 on the validation data set is 0.710.\n",
      "\n",
      "The model's RMSE on the training data  is 1.049.\n",
      "The model's RMSE on the training data  is 1.257.\n",
      "Wall time: 4min 30s\n"
     ]
    }
   ],
   "source": [
    "%%time\n",
    "# helper function that takes an initialized algorithm object, parameters, training and validation sets and returns the model's metrics \n",
    "# after performing a GridSearchCV and fitting a model on the training data, and also deriving the accuracy on both training and validation data.\n",
    "modelMetrics = deriveGridSearchCV('Linear Tree Regressor With GridSearchCV', ltr_With_GridSearch, parameters, X_train, y_train, X_val, y_val, 'r2')"
   ]
  },
  {
   "cell_type": "code",
   "execution_count": 165,
   "metadata": {},
   "outputs": [],
   "source": [
    "# let's retrieve the best model and assign it to the variable\n",
    "ltr_With_GridSearch= modelMetrics[-1]"
   ]
  },
  {
   "cell_type": "code",
   "execution_count": 166,
   "metadata": {},
   "outputs": [],
   "source": [
    "# append the model metrics to the list of tuples without the best model\n",
    "regressionModels.append(modelMetrics[:-1])"
   ]
  },
  {
   "cell_type": "code",
   "execution_count": 167,
   "metadata": {},
   "outputs": [
    {
     "data": {
      "text/plain": [
       "[('Linear Regression', 0.66, 0.65, 1.27, 1.39),\n",
       " ('Random Forest Regressor', 0.96, 0.76, 0.42, 1.15),\n",
       " ('Random Forest Regressor with GridSearchCV', 0.79, 0.75, 1.0, 1.18),\n",
       " ('Linear SVM Regressor', 0.62, 0.6, 1.34, 1.47),\n",
       " ('Polynomial Kernel SVM Regressor', 0.74, 0.73, 1.12, 1.21),\n",
       " ('RBF Kernel SVM Regressor', 0.77, 0.75, 1.06, 1.17),\n",
       " ('RBF Kernel SVR with GridSearch', 0.79, 0.76, 1.0, 1.15),\n",
       " ('Linear Regression with PCA transformed data', 0.66, 0.63, 1.29, 1.41),\n",
       " ('Random Forest Regressor with PCA transformed data', 0.96, 0.74, 0.42, 1.2),\n",
       " ('GridSearchCV Random Forest Regressor with PCA transformed data',\n",
       "  0.8,\n",
       "  0.75,\n",
       "  0.98,\n",
       "  1.17),\n",
       " ('RBF Kernel SVR with PCA transformed data', 0.76, 0.75, 1.07, 1.17),\n",
       " ('GridSearchCV RBF Kernel SVR with PCA transformed data',\n",
       "  0.79,\n",
       "  0.75,\n",
       "  1.02,\n",
       "  1.16),\n",
       " ('Linear Regression Performance Improvement With out multi-collinearity',\n",
       "  0.54,\n",
       "  0.51,\n",
       "  1.48,\n",
       "  1.64),\n",
       " ('Random Forest Regressor Performance Improvement With out multi-collinearity',\n",
       "  0.96,\n",
       "  0.7,\n",
       "  0.46,\n",
       "  1.28),\n",
       " ('Linear Tree Regressor', 0.77, 0.75, 1.04, 1.18),\n",
       " ('Linear Tree Regressor With GridSearchCV', 0.77, 0.71, 1.05, 1.26)]"
      ]
     },
     "execution_count": 167,
     "metadata": {},
     "output_type": "execute_result"
    }
   ],
   "source": [
    "regressionModels"
   ]
  },
  {
   "cell_type": "markdown",
   "metadata": {},
   "source": [
    "- We could also explore using **regularization** especially when several features are strongly correlated like in our case, so we shall use **Elastic Net** which is a combination of Ridge and Lasso regression."
   ]
  },
  {
   "cell_type": "code",
   "execution_count": 168,
   "metadata": {},
   "outputs": [],
   "source": [
    "from sklearn.linear_model import ElasticNet"
   ]
  },
  {
   "cell_type": "code",
   "execution_count": 169,
   "metadata": {},
   "outputs": [
    {
     "data": {
      "text/plain": [
       "{'alpha': [1e-05, 0.0001, 0.001, 0.01, 0.1, 1.0, 10.0, 100.0],\n",
       " 'l1_ratio': [0.1, 0.25, 0.5, 0.75],\n",
       " 'max_iter': [1000, 1500, 2000]}"
      ]
     },
     "execution_count": 169,
     "metadata": {},
     "output_type": "execute_result"
    }
   ],
   "source": [
    "elasticNet_With_GridSearchCV = ElasticNet(selection='random', random_state=RANDOM_STATE)\n",
    "parameters={'alpha':[1e-5, 1e-4, 1e-3, 1e-2, 1e-1, 1.0, 10.0, 100.0],\n",
    "           'l1_ratio': [0.10 ,0.25, 0.5, 0.75],\n",
    "            'max_iter':[1000, 1500, 2000]\n",
    "           }\n",
    "parameters"
   ]
  },
  {
   "cell_type": "code",
   "execution_count": 170,
   "metadata": {},
   "outputs": [
    {
     "name": "stdout",
     "output_type": "stream",
     "text": [
      "BEST PARAMS: {'alpha': 1e-05, 'l1_ratio': 0.1, 'max_iter': 2000}\n",
      "\n",
      "\n",
      "\n",
      "The model's R^2 on the training data set is 0.664.\n",
      "The model's R^2 on the validation data set is 0.646.\n",
      "\n",
      "The model's RMSE on the training data  is 1.272.\n",
      "The model's RMSE on the training data  is 1.388.\n",
      "Wall time: 1.26 s\n"
     ]
    },
    {
     "name": "stderr",
     "output_type": "stream",
     "text": [
      "C:\\Users\\REJALU\\.conda\\envs\\renv\\lib\\site-packages\\sklearn\\linear_model\\_coordinate_descent.py:647: ConvergenceWarning: Objective did not converge. You might want to increase the number of iterations, check the scale of the features or consider increasing regularisation. Duality gap: 4.267e+03, tolerance: 2.560e+00\n",
      "  model = cd_fast.enet_coordinate_descent(\n"
     ]
    }
   ],
   "source": [
    "%%time\n",
    "# helper function that takes an initialized algorithm object, parameters, training and validation sets and returns the model's metrics \n",
    "# after performing a GridSearchCV and fitting a model on the training data, and also deriving the accuracy on both training and validation data.\n",
    "modelMetrics = deriveGridSearchCV('ElasticNet With GridSearchCV', elasticNet_With_GridSearchCV, parameters, X_train, y_train, X_val, y_val, 'r2')"
   ]
  },
  {
   "cell_type": "code",
   "execution_count": 171,
   "metadata": {},
   "outputs": [],
   "source": [
    "# let's retrieve the best model and assign it to the variable\n",
    "elasticNet_With_GridSearchCV = modelMetrics[-1]"
   ]
  },
  {
   "cell_type": "code",
   "execution_count": 172,
   "metadata": {},
   "outputs": [],
   "source": [
    "# append the model metrics to the list of tuples without the best model\n",
    "regressionModels.append(modelMetrics[:-1])"
   ]
  },
  {
   "cell_type": "code",
   "execution_count": 173,
   "metadata": {},
   "outputs": [
    {
     "data": {
      "text/plain": [
       "[('Linear Regression', 0.66, 0.65, 1.27, 1.39),\n",
       " ('Random Forest Regressor', 0.96, 0.76, 0.42, 1.15),\n",
       " ('Random Forest Regressor with GridSearchCV', 0.79, 0.75, 1.0, 1.18),\n",
       " ('Linear SVM Regressor', 0.62, 0.6, 1.34, 1.47),\n",
       " ('Polynomial Kernel SVM Regressor', 0.74, 0.73, 1.12, 1.21),\n",
       " ('RBF Kernel SVM Regressor', 0.77, 0.75, 1.06, 1.17),\n",
       " ('RBF Kernel SVR with GridSearch', 0.79, 0.76, 1.0, 1.15),\n",
       " ('Linear Regression with PCA transformed data', 0.66, 0.63, 1.29, 1.41),\n",
       " ('Random Forest Regressor with PCA transformed data', 0.96, 0.74, 0.42, 1.2),\n",
       " ('GridSearchCV Random Forest Regressor with PCA transformed data',\n",
       "  0.8,\n",
       "  0.75,\n",
       "  0.98,\n",
       "  1.17),\n",
       " ('RBF Kernel SVR with PCA transformed data', 0.76, 0.75, 1.07, 1.17),\n",
       " ('GridSearchCV RBF Kernel SVR with PCA transformed data',\n",
       "  0.79,\n",
       "  0.75,\n",
       "  1.02,\n",
       "  1.16),\n",
       " ('Linear Regression Performance Improvement With out multi-collinearity',\n",
       "  0.54,\n",
       "  0.51,\n",
       "  1.48,\n",
       "  1.64),\n",
       " ('Random Forest Regressor Performance Improvement With out multi-collinearity',\n",
       "  0.96,\n",
       "  0.7,\n",
       "  0.46,\n",
       "  1.28),\n",
       " ('Linear Tree Regressor', 0.77, 0.75, 1.04, 1.18),\n",
       " ('Linear Tree Regressor With GridSearchCV', 0.77, 0.71, 1.05, 1.26),\n",
       " ('ElasticNet With GridSearchCV', 0.66, 0.65, 1.27, 1.39)]"
      ]
     },
     "execution_count": 173,
     "metadata": {},
     "output_type": "execute_result"
    }
   ],
   "source": [
    "regressionModels"
   ]
  },
  {
   "cell_type": "markdown",
   "metadata": {},
   "source": [
    "- We could optimize our model by using **Stochastic Gradient Descent Regressor**, which fits a linear regressors under the convex loss functions."
   ]
  },
  {
   "cell_type": "code",
   "execution_count": 174,
   "metadata": {},
   "outputs": [
    {
     "data": {
      "text/plain": [
       "{'loss': ['squared_error',\n",
       "  'huber',\n",
       "  'epsilon_insensitive',\n",
       "  'squared_epsilon_insensitive'],\n",
       " 'penalty': ['l2', 'l1', 'elasticnet'],\n",
       " 'alpha': [1e-05, 0.0001, 0.001, 0.01, 0.1, 1.0, 10.0, 100.0],\n",
       " 'l1_ratio': [0.1, 0.25, 0.5, 0.75],\n",
       " 'max_iter': [1000, 1500, 2000],\n",
       " 'learning_rate': ['constant', 'optimal', 'invscaling', 'adaptive']}"
      ]
     },
     "execution_count": 174,
     "metadata": {},
     "output_type": "execute_result"
    }
   ],
   "source": [
    "### Using SGDRegressor\n",
    "parameters = {\n",
    "    'loss': ['squared_error', 'huber', 'epsilon_insensitive', 'squared_epsilon_insensitive'], \n",
    "    'penalty':['l2', 'l1', 'elasticnet'],\n",
    "    'alpha':[1e-5, 1e-4, 1e-3, 1e-2, 1e-1, 1.0, 10.0, 100.0],\n",
    "    'l1_ratio': [0.10 ,0.25, 0.5, 0.75],\n",
    "    'max_iter':[1000, 1500, 2000],\n",
    "    #'tol': [0.001, 0.009],\n",
    "    'learning_rate' : ['constant','optimal','invscaling','adaptive']\n",
    "}\n",
    "parameters"
   ]
  },
  {
   "cell_type": "code",
   "execution_count": 175,
   "metadata": {},
   "outputs": [],
   "source": [
    "sgd = SGDRegressor()"
   ]
  },
  {
   "cell_type": "code",
   "execution_count": 176,
   "metadata": {},
   "outputs": [
    {
     "name": "stdout",
     "output_type": "stream",
     "text": [
      "BEST PARAMS: {'alpha': 1e-05, 'l1_ratio': 0.5, 'learning_rate': 'adaptive', 'loss': 'squared_error', 'max_iter': 1000, 'penalty': 'l2'}\n",
      "\n",
      "\n",
      "\n",
      "The model's R^2 on the training data set is 0.664.\n",
      "The model's R^2 on the validation data set is 0.647.\n",
      "\n",
      "The model's RMSE on the training data  is 1.273.\n",
      "The model's RMSE on the training data  is 1.388.\n",
      "Wall time: 1min 31s\n"
     ]
    }
   ],
   "source": [
    "%%time\n",
    "# helper function that takes an initialized algorithm object, parameters, training and validation sets and returns the model's metrics \n",
    "# after performing a GridSearchCV and fitting a model on the training data, and also deriving the accuracy on both training and validation data.\n",
    "modelMetrics = deriveGridSearchCV('Stochastic Gradient Descent With GridSearchCV', sgd, parameters, X_train, y_train, X_val, y_val, 'r2')"
   ]
  },
  {
   "cell_type": "code",
   "execution_count": 177,
   "metadata": {},
   "outputs": [],
   "source": [
    "# let's retrieve the best model and assign it to the variable\n",
    "sgd_With_GridSearchCV= modelMetrics[-1]"
   ]
  },
  {
   "cell_type": "code",
   "execution_count": 178,
   "metadata": {},
   "outputs": [],
   "source": [
    "# append the model metrics to the list of tuples without the best model\n",
    "regressionModels.append(modelMetrics[:-1])"
   ]
  },
  {
   "cell_type": "markdown",
   "metadata": {},
   "source": [
    "<p>Neither does $R^2$ nor $RMSE$ improve when we use the Stochastic Gradient Descent Regressor. </p>"
   ]
  },
  {
   "cell_type": "markdown",
   "metadata": {},
   "source": [
    "- We can also explore adding **interaction terms** to our data set."
   ]
  },
  {
   "cell_type": "code",
   "execution_count": 179,
   "metadata": {},
   "outputs": [],
   "source": [
    "inter_terms = PolynomialFeatures(degree=2, include_bias=False, interaction_only=True)\n",
    "X_train_inter = inter_terms.fit_transform(X_train)\n",
    "X_val_inter = inter_terms.fit_transform(X_val)"
   ]
  },
  {
   "cell_type": "code",
   "execution_count": 180,
   "metadata": {},
   "outputs": [],
   "source": [
    "lr_With_Inter_terms=LinearRegression()"
   ]
  },
  {
   "cell_type": "code",
   "execution_count": 181,
   "metadata": {},
   "outputs": [
    {
     "data": {
      "text/plain": [
       "LinearRegression()"
      ]
     },
     "execution_count": 181,
     "metadata": {},
     "output_type": "execute_result"
    }
   ],
   "source": [
    "lr_With_Inter_terms.fit(X_train_inter, y_train)"
   ]
  },
  {
   "cell_type": "code",
   "execution_count": 182,
   "metadata": {},
   "outputs": [
    {
     "name": "stdout",
     "output_type": "stream",
     "text": [
      "The model's R^2 on the training data is 0.767.\n",
      "The model's R^2 on the validation data is 0.741.\n",
      "\n",
      "The model's Root Mean Squared Error (RMSE) on the training data is 1.060.\n",
      "The model's Root Mean Squared Error (RMSE) on the validation data is 1.189.\n"
     ]
    }
   ],
   "source": [
    "# helper function that takes an initialized algorithm object, training and validation sets and returns the model's metrics \n",
    "# after  deriving the accuracy on both training and validation data.\n",
    "modelMetrics = buildTheModel('Linear Regression With interaction Terms',lr_With_Inter_terms, X_train_inter, y_train, X_val_inter, y_val)"
   ]
  },
  {
   "cell_type": "code",
   "execution_count": 183,
   "metadata": {},
   "outputs": [],
   "source": [
    "# add the model's metrics to the list of regression models\n",
    "regressionModels.append(modelMetrics)"
   ]
  },
  {
   "cell_type": "markdown",
   "metadata": {},
   "source": [
    "<p>Adding Interaction terms improves $R^2$ and RMSE, however the RMSE values are still high. </p>"
   ]
  },
  {
   "cell_type": "markdown",
   "metadata": {},
   "source": [
    "- Let's perform a **GridSearchCV** to find the different hyper parameters, which can be used to fit on the transformed data set with **interaction terms**."
   ]
  },
  {
   "cell_type": "code",
   "execution_count": 184,
   "metadata": {},
   "outputs": [
    {
     "data": {
      "text/plain": [
       "{'min_samples_split': [2, 20, 120],\n",
       " 'n_estimators': [100, 300, 600],\n",
       " 'max_depth': [10, 20, 50, 500]}"
      ]
     },
     "execution_count": 184,
     "metadata": {},
     "output_type": "execute_result"
    }
   ],
   "source": [
    "parameters = {\n",
    "    'min_samples_split':[2, 20, 120],\n",
    "    'n_estimators': [100, 300, 600],\n",
    "    'max_depth': [10, 20, 50, 500]  \n",
    "}\n",
    "parameters"
   ]
  },
  {
   "cell_type": "code",
   "execution_count": 185,
   "metadata": {},
   "outputs": [],
   "source": [
    "# initialize a RandomForestRegressor object\n",
    "rfr_With_GSCV_inter_terms = RandomForestRegressor(random_state=RANDOM_STATE)"
   ]
  },
  {
   "cell_type": "code",
   "execution_count": 186,
   "metadata": {},
   "outputs": [
    {
     "name": "stdout",
     "output_type": "stream",
     "text": [
      "BEST PARAMS: {'max_depth': 50, 'min_samples_split': 20, 'n_estimators': 600}\n",
      "\n",
      "\n",
      "\n",
      "The model's R^2 on the training data set is 0.917.\n",
      "The model's R^2 on the validation data set is 0.753.\n",
      "\n",
      "The model's RMSE on the training data  is 0.631.\n",
      "The model's RMSE on the training data  is 1.161.\n",
      "Wall time: 11min 49s\n"
     ]
    }
   ],
   "source": [
    "%%time\n",
    "# helper function that takes an initialized algorithm object, parameters, training and validation sets and returns the model's metrics \n",
    "# after performing a GridSearchCV and fitting a model on the training data, and also deriving the accuracy on both training and validation data.\n",
    "modelMetrics = deriveGridSearchCV('Random Forest Regressor With GridSearchCV on Interaction terms', rfr_With_GSCV_inter_terms, parameters, X_train_inter, y_train, X_val_inter, y_val, 'r2')"
   ]
  },
  {
   "cell_type": "code",
   "execution_count": 187,
   "metadata": {},
   "outputs": [],
   "source": [
    "# let's retrieve the best model and assign it to the variable\n",
    "rfr_With_GSCV_inter_terms = modelMetrics[-1]"
   ]
  },
  {
   "cell_type": "code",
   "execution_count": 188,
   "metadata": {},
   "outputs": [],
   "source": [
    "# append the model metrics to the list of tuples without the best model\n",
    "regressionModels.append(modelMetrics[:-1])"
   ]
  },
  {
   "cell_type": "markdown",
   "metadata": {},
   "source": [
    "<p>$R^2$ increases on training and validation when you use the RandomForestRegressor and it is 0.92 and 0.75 respectively. These values are compared to $R^2$ on training and validation when Linear regression was used and the values are 0.77 and 0.74 respectively. Since there is a difference of 0.1 in the values of $R^2$ between training and validation when using RandomForestRegressor, which  means that these are the best scores we can get.</p>"
   ]
  },
  {
   "cell_type": "markdown",
   "metadata": {},
   "source": [
    "## Q9 [10]"
   ]
  },
  {
   "cell_type": "markdown",
   "metadata": {},
   "source": [
    "- For classification:\n",
    "    - Try at least one classifier other than SVM (RF, GBM, Logistic Regression, etc). \n",
    "    - Think of other ways of improving the regression performance and list at least two possibilities.\n",
    "    - You can use any of the datasets we have been using (standardized data, PCA transformed data), or re-create your own set from the original.\n",
    "    - Implement both of the methods you proposed. \n",
    "    - Is the validation performance increasing? For performance comparison you can use any regression performance metric that you deem to be appropriate. \n",
    "    - Optional: Apply different methods, ideas as you see fit and see if the validation performance is improving."
   ]
  },
  {
   "cell_type": "code",
   "execution_count": 189,
   "metadata": {},
   "outputs": [],
   "source": [
    "# Using RandomForestClassifier\n",
    "rf_classifier=RandomForestClassifier(random_state=RANDOM_STATE)"
   ]
  },
  {
   "cell_type": "code",
   "execution_count": 190,
   "metadata": {},
   "outputs": [
    {
     "name": "stdout",
     "output_type": "stream",
     "text": [
      "The model's accuracy on training is : 1.0\n",
      "The model's accuracy on validation is : 0.92\n",
      "\n",
      "The Confusion Matrix is given below:\n"
     ]
    },
    {
     "data": {
      "image/png": "[encoded data removed]",
      "text/plain": [
       "<Figure size 1440x864 with 2 Axes>"
      ]
     },
     "metadata": {},
     "output_type": "display_data"
    },
    {
     "name": "stdout",
     "output_type": "stream",
     "text": [
      "\n",
      "The classification report is given below:\n",
      "              precision    recall  f1-score   support\n",
      "\n",
      "         0.0       0.92      0.95      0.93       812\n",
      "         1.0       0.91      0.86      0.89       517\n",
      "\n",
      "    accuracy                           0.92      1329\n",
      "   macro avg       0.92      0.91      0.91      1329\n",
      "weighted avg       0.92      0.92      0.92      1329\n",
      "\n",
      "Recall (Sensivity): 0.86\n",
      "Specificity: 0.95\n",
      "Precision: 0.91\n",
      "Balanced Accuracy: 0.91\n",
      "F1 Score: 0.89\n"
     ]
    }
   ],
   "source": [
    "# a helper function that returns the classifier's metrics after fitting the model and printing \n",
    "# the classifier's metrics, confusion matrics and classification report \n",
    "classifier_metrics =deriveClassifierObject('Random Forest Classifier',rf_classifier, X_train, y_train_cat, X_val, y_val_cat)"
   ]
  },
  {
   "cell_type": "code",
   "execution_count": 191,
   "metadata": {},
   "outputs": [],
   "source": [
    "# add the list of the classifier metrics to the list of classification models\n",
    "classificationModels.append(classifier_metrics)"
   ]
  },
  {
   "cell_type": "code",
   "execution_count": 192,
   "metadata": {},
   "outputs": [
    {
     "data": {
      "text/plain": [
       "[['GridSearchCV RBF Kernel SVC', 0.94, 0.91, 0.87, 0.94, 0.9, 0.9, 0.88],\n",
       " ['GridSearchCV RBF Kernel SVC With PCA transformed data',\n",
       "  0.93,\n",
       "  0.91,\n",
       "  0.86,\n",
       "  0.94,\n",
       "  0.9,\n",
       "  0.9,\n",
       "  0.88],\n",
       " ['Random Forest Classifier', 1.0, 0.92, 0.86, 0.95, 0.91, 0.91, 0.89]]"
      ]
     },
     "execution_count": 192,
     "metadata": {},
     "output_type": "execute_result"
    }
   ],
   "source": [
    "classificationModels"
   ]
  },
  {
   "cell_type": "markdown",
   "metadata": {},
   "source": [
    "<p>The accuracy on training and validation is 1.0 and 0.92 respectively. There is a difference of 0.08 between the training and validation accuracy scores. The model slightly over fits on the training data. Also, the F1 Score is 0.89, Recall is 0.86 and Balanced Accuracy is 0.91. Overall, with a high Recall, F1-Score and Balanced Accuracy, the model is not performing poorly.</p>"
   ]
  },
  {
   "cell_type": "markdown",
   "metadata": {},
   "source": [
    "#### With Random Forest: "
   ]
  },
  {
   "cell_type": "markdown",
   "metadata": {},
   "source": [
    "- We try to decorrelate trees and increase variety between leaners by:\n",
    "    - decreasing the size of the bootstrap samples, which increases diversity among trees and also increases the randomness of the random forest, which helps in reducing overfitting.\n",
    "    - randomly selecting a small number of features which decreases the chance of over-selecting the same feature."
   ]
  },
  {
   "cell_type": "markdown",
   "metadata": {},
   "source": [
    "#####  first, let's use GridSearchCV to find a combination of different hyper-parameters to use:"
   ]
  },
  {
   "cell_type": "code",
   "execution_count": 193,
   "metadata": {},
   "outputs": [
    {
     "data": {
      "text/plain": [
       "{'min_samples_leaf': [5, 500],\n",
       " 'min_samples_split': [5, 200],\n",
       " 'max_depth': [5, 500, 1200],\n",
       " 'max_features': [6, 7, 8, 9],\n",
       " 'bootstrap': [True, False],\n",
       " 'n_estimators': [50, 600]}"
      ]
     },
     "execution_count": 193,
     "metadata": {},
     "output_type": "execute_result"
    }
   ],
   "source": [
    "parameters = dict(\n",
    "min_samples_leaf = [5, 500],\n",
    "min_samples_split = [5,  200],\n",
    "max_depth = [5, 500, 1200],\n",
    "max_features= [6, 7, 8, 9],\n",
    "bootstrap= [True, False],\n",
    "n_estimators = [50, 600]\n",
    ")\n",
    "parameters"
   ]
  },
  {
   "cell_type": "code",
   "execution_count": 194,
   "metadata": {},
   "outputs": [],
   "source": [
    "# let's initialize a RandomForestClassifier Object\n",
    "rf_classifier_With_GridSearchCV = RandomForestClassifier(random_state=RANDOM_STATE)"
   ]
  },
  {
   "cell_type": "code",
   "execution_count": 195,
   "metadata": {},
   "outputs": [
    {
     "name": "stdout",
     "output_type": "stream",
     "text": [
      "BEST PARAMS: {'bootstrap': True, 'max_depth': 500, 'max_features': 8, 'min_samples_leaf': 5, 'min_samples_split': 5, 'n_estimators': 600}\n",
      "\n",
      "\n",
      "\n",
      "The model's accuracy on training is : 0.96\n",
      "The model's accuracy on validation is : 0.92\n",
      "\n",
      "The Confusion Matrix is given below:\n"
     ]
    },
    {
     "data": {
      "image/png": "[encoded data removed]",
      "text/plain": [
       "<Figure size 1440x864 with 2 Axes>"
      ]
     },
     "metadata": {},
     "output_type": "display_data"
    },
    {
     "name": "stdout",
     "output_type": "stream",
     "text": [
      "\n",
      "The classification report is given below:\n",
      "              precision    recall  f1-score   support\n",
      "\n",
      "         0.0       0.92      0.95      0.93       812\n",
      "         1.0       0.91      0.87      0.89       517\n",
      "\n",
      "    accuracy                           0.92      1329\n",
      "   macro avg       0.92      0.91      0.91      1329\n",
      "weighted avg       0.92      0.92      0.92      1329\n",
      "\n",
      "Recall (Sensivity): 0.87\n",
      "Specificity: 0.95\n",
      "Precision: 0.91\n",
      "Balanced Accuracy: 0.91\n",
      "F1 Score: 0.89\n",
      "Wall time: 13min 35s\n"
     ]
    }
   ],
   "source": [
    "%%time\n",
    "# A helper function that returns the model's prediction accuracy on training and validation data \n",
    "# after performing GridSearchCv to tune the different hyperparameters which it uses to fit the model \n",
    "# and also prints the different metrics\n",
    "classifier_metrics, rf_classifier_With_GridSearchCV = classGridSearchCV('Random Forest Classifier With Grid SearchCV', rf_classifier_With_GridSearchCV , parameters, X_train, y_train_cat, X_val, y_val_cat, 'f1')"
   ]
  },
  {
   "cell_type": "code",
   "execution_count": 196,
   "metadata": {},
   "outputs": [
    {
     "data": {
      "text/plain": [
       "RandomForestClassifier(max_depth=500, max_features=8, min_samples_leaf=5,\n",
       "                       min_samples_split=5, n_estimators=600, random_state=0)"
      ]
     },
     "execution_count": 196,
     "metadata": {},
     "output_type": "execute_result"
    }
   ],
   "source": [
    "# return the best estimator that was chosen by the gridsearch\n",
    "rf_classifier_With_GridSearchCV"
   ]
  },
  {
   "cell_type": "code",
   "execution_count": 197,
   "metadata": {},
   "outputs": [],
   "source": [
    "# add the list of the classifier metrics to the list of classification models\n",
    "classificationModels.append(classifier_metrics)"
   ]
  },
  {
   "cell_type": "code",
   "execution_count": 198,
   "metadata": {},
   "outputs": [
    {
     "data": {
      "text/plain": [
       "[['GridSearchCV RBF Kernel SVC', 0.94, 0.91, 0.87, 0.94, 0.9, 0.9, 0.88],\n",
       " ['GridSearchCV RBF Kernel SVC With PCA transformed data',\n",
       "  0.93,\n",
       "  0.91,\n",
       "  0.86,\n",
       "  0.94,\n",
       "  0.9,\n",
       "  0.9,\n",
       "  0.88],\n",
       " ['Random Forest Classifier', 1.0, 0.92, 0.86, 0.95, 0.91, 0.91, 0.89],\n",
       " ['Random Forest Classifier With Grid SearchCV',\n",
       "  0.96,\n",
       "  0.92,\n",
       "  0.87,\n",
       "  0.95,\n",
       "  0.91,\n",
       "  0.91,\n",
       "  0.89]]"
      ]
     },
     "execution_count": 198,
     "metadata": {},
     "output_type": "execute_result"
    }
   ],
   "source": [
    "classificationModels"
   ]
  },
  {
   "cell_type": "markdown",
   "metadata": {},
   "source": [
    "#### let's plot a bar chat showing us the features of importance for a Random Forest Classifier "
   ]
  },
  {
   "cell_type": "code",
   "execution_count": 199,
   "metadata": {},
   "outputs": [
    {
     "data": {
      "image/png": "[encoded data removed]",
      "text/plain": [
       "<Figure size 504x360 with 1 Axes>"
      ]
     },
     "metadata": {},
     "output_type": "display_data"
    }
   ],
   "source": [
    "model_type = 'rfc' \n",
    "model_dict = {'rfc':rf_classifier_With_GridSearchCV.feature_importances_}\n",
    "importances = model_dict[model_type]\n",
    "indices = list(np.argsort(importances)) \n",
    "feature_names=df_X_train.columns\n",
    "names = [ feature_names[i] for i in indices]\n",
    "\n",
    "fig,ax = plt.subplots(nrows=1,ncols=1,figsize=[7,5])\n",
    "ax.barh(names, importances[indices], color = 'blue', align ='center',alpha=0.8)\n",
    "\n",
    "xticklabel_rotation = 0\n",
    "plt.xticks(rotation=xticklabel_rotation,fontsize=12)\n",
    "\n",
    "plt.yticks(fontsize=10)\n",
    "ax.grid(color='b', ls = '-.', lw = 0.25)\n",
    "\n",
    "# Title\n",
    "ax.set_title(\"Feature Importance: Random Forest Classifier\",fontsize=14)\n",
    "\n",
    "# Show plot\n",
    "plt.show()"
   ]
  },
  {
   "cell_type": "markdown",
   "metadata": {},
   "source": [
    "<p>Here, we learn that AFDP, TIT, AT, GTEP and AP are the most significant features.</p>"
   ]
  },
  {
   "cell_type": "markdown",
   "metadata": {},
   "source": [
    "<p>Accuracy on training and validation is 0.96 and 0.92 respectively. Also, tuning Random Forest Classifier with the perfect hyper parameters reduces the model's overfitting on the training data since there is a difference of 0.04 between training and validation accuracy which is less than the value of 0.08 we were seeing before.</p>\n",
    "<p>Furthermore, Recall increased from 0.86 to 0.87, Balanced Accuracy remained at 0.91 and the F1-Score remained at 0.89.</p>"
   ]
  },
  {
   "cell_type": "markdown",
   "metadata": {},
   "source": [
    "### With GradientBoosting Classifier"
   ]
  },
  {
   "cell_type": "markdown",
   "metadata": {},
   "source": [
    "- We shall subsample rows, columns before creating trees like in Random Forests.\n",
    "- We shall also tune the number of trees, tree depth, number of points in the leaves and the number of observations per split. "
   ]
  },
  {
   "cell_type": "markdown",
   "metadata": {},
   "source": [
    "#### we check for a combination of different parameters using GridSearchCV"
   ]
  },
  {
   "cell_type": "code",
   "execution_count": 200,
   "metadata": {},
   "outputs": [
    {
     "data": {
      "text/plain": [
       "{'learning_rate': [1.0, 8.0],\n",
       " 'n_estimators': [50, 500],\n",
       " 'max_depth': [5, 100, 500],\n",
       " 'min_samples_split': [100, 500],\n",
       " 'subsample': [0.6, 0.9],\n",
       " 'max_features': [6, 7, 8, 9]}"
      ]
     },
     "execution_count": 200,
     "metadata": {},
     "output_type": "execute_result"
    }
   ],
   "source": [
    "parameters = dict(\n",
    "    learning_rate = [1.0, 8.0],\n",
    "    n_estimators = [50, 500],\n",
    "    max_depth = [5,  100, 500],\n",
    "    min_samples_split = [100, 500],\n",
    "    subsample = [0.6,  0.9],\n",
    "    max_features = [6, 7, 8, 9] \n",
    ")\n",
    "parameters"
   ]
  },
  {
   "cell_type": "code",
   "execution_count": 201,
   "metadata": {},
   "outputs": [],
   "source": [
    "# initialize the GradientBoostingClassifier object\n",
    "gb_classifier_With_GridSearchCV = GradientBoostingClassifier(random_state=RANDOM_STATE)"
   ]
  },
  {
   "cell_type": "code",
   "execution_count": 202,
   "metadata": {},
   "outputs": [
    {
     "name": "stdout",
     "output_type": "stream",
     "text": [
      "BEST PARAMS: {'learning_rate': 1.0, 'max_depth': 5, 'max_features': 9, 'min_samples_split': 100, 'n_estimators': 50, 'subsample': 0.9}\n",
      "\n",
      "\n",
      "\n",
      "The model's accuracy on training is : 0.99\n",
      "The model's accuracy on validation is : 0.89\n",
      "\n",
      "The Confusion Matrix is given below:\n"
     ]
    },
    {
     "data": {
      "image/png": "[encoded data removed]",
      "text/plain": [
       "<Figure size 1440x864 with 2 Axes>"
      ]
     },
     "metadata": {},
     "output_type": "display_data"
    },
    {
     "name": "stdout",
     "output_type": "stream",
     "text": [
      "\n",
      "The classification report is given below:\n",
      "              precision    recall  f1-score   support\n",
      "\n",
      "         0.0       0.90      0.92      0.91       812\n",
      "         1.0       0.88      0.84      0.86       517\n",
      "\n",
      "    accuracy                           0.89      1329\n",
      "   macro avg       0.89      0.88      0.89      1329\n",
      "weighted avg       0.89      0.89      0.89      1329\n",
      "\n",
      "Recall (Sensivity): 0.84\n",
      "Specificity: 0.92\n",
      "Precision: 0.88\n",
      "Balanced Accuracy: 0.88\n",
      "F1 Score: 0.86\n",
      "Wall time: 15min 21s\n"
     ]
    }
   ],
   "source": [
    "%%time\n",
    "# A helper function that returns the model's prediction accuracy on training and validation data \n",
    "# after performing GridSearchCv to tune the different hyperparameters which it uses to fit the model \n",
    "# and also prints the different metrics\n",
    "classifier_metrics, gb_classifier_With_GridSearchCV = classGridSearchCV('Gradient Boosting Classifier With Grid SearchCV', gb_classifier_With_GridSearchCV, parameters, X_train, y_train_cat, X_val, y_val_cat, 'f1')"
   ]
  },
  {
   "cell_type": "code",
   "execution_count": 203,
   "metadata": {},
   "outputs": [
    {
     "data": {
      "text/plain": [
       "GradientBoostingClassifier(learning_rate=1.0, max_depth=5, max_features=9,\n",
       "                           min_samples_split=100, n_estimators=50,\n",
       "                           random_state=0, subsample=0.9)"
      ]
     },
     "execution_count": 203,
     "metadata": {},
     "output_type": "execute_result"
    }
   ],
   "source": [
    "# this is our best model\n",
    "gb_classifier_With_GridSearchCV"
   ]
  },
  {
   "cell_type": "code",
   "execution_count": 204,
   "metadata": {},
   "outputs": [],
   "source": [
    "# add the list of the classifier metrics to the list of classification models\n",
    "classificationModels.append(classifier_metrics)"
   ]
  },
  {
   "cell_type": "code",
   "execution_count": 205,
   "metadata": {},
   "outputs": [
    {
     "data": {
      "text/plain": [
       "[['GridSearchCV RBF Kernel SVC', 0.94, 0.91, 0.87, 0.94, 0.9, 0.9, 0.88],\n",
       " ['GridSearchCV RBF Kernel SVC With PCA transformed data',\n",
       "  0.93,\n",
       "  0.91,\n",
       "  0.86,\n",
       "  0.94,\n",
       "  0.9,\n",
       "  0.9,\n",
       "  0.88],\n",
       " ['Random Forest Classifier', 1.0, 0.92, 0.86, 0.95, 0.91, 0.91, 0.89],\n",
       " ['Random Forest Classifier With Grid SearchCV',\n",
       "  0.96,\n",
       "  0.92,\n",
       "  0.87,\n",
       "  0.95,\n",
       "  0.91,\n",
       "  0.91,\n",
       "  0.89],\n",
       " ['Gradient Boosting Classifier With Grid SearchCV',\n",
       "  0.99,\n",
       "  0.89,\n",
       "  0.84,\n",
       "  0.92,\n",
       "  0.88,\n",
       "  0.88,\n",
       "  0.86]]"
      ]
     },
     "execution_count": 205,
     "metadata": {},
     "output_type": "execute_result"
    }
   ],
   "source": [
    "classificationModels"
   ]
  },
  {
   "cell_type": "markdown",
   "metadata": {},
   "source": [
    "<p>The accuracy on Training and validation is 0.99 and 0.89 respectively. Recall, F1-Score and Balanced Accuracy are 0.84, 0.86 and 0.88 respectively. So, using GradientBoost Classifier didn't improve performance on validation.</p> "
   ]
  },
  {
   "cell_type": "markdown",
   "metadata": {},
   "source": [
    "### With Voting Classifier with Hard Voting:"
   ]
  },
  {
   "cell_type": "markdown",
   "metadata": {},
   "source": [
    "- Voting classifier with hard voting allows us to combine different classification algorithms with a goal of building a strong meta-classifier that balances out the individual classifier's weakness on this data set."
   ]
  },
  {
   "cell_type": "code",
   "execution_count": 206,
   "metadata": {},
   "outputs": [],
   "source": [
    "clf1=LogisticRegression(random_state=RANDOM_STATE)\n",
    "clf2=RandomForestClassifier(n_estimators=50, random_state=RANDOM_STATE)\n",
    "clf3=GradientBoostingClassifier(random_state=RANDOM_STATE)"
   ]
  },
  {
   "cell_type": "code",
   "execution_count": 207,
   "metadata": {},
   "outputs": [
    {
     "name": "stdout",
     "output_type": "stream",
     "text": [
      "Validation Accuracy: 0.86969 (+/- 0.024) [Logistic Regression]\n",
      "Validation Accuracy: 0.87540 (+/- 0.036) [Random Forest]\n",
      "Validation Accuracy: 0.86943 (+/- 0.038) [Gradient Boosting]\n",
      "Validation Accuracy: 0.87777 (+/- 0.033) [Ensemble]\n"
     ]
    }
   ],
   "source": [
    "pred_val_acc = []\n",
    "pred_train_acc = []\n",
    "eclf = VotingClassifier(estimators=[('lr', clf1), ('rfr', clf2), ('gboost', clf3)], voting='hard')\n",
    "for clf, label in zip([clf1, clf2, clf3, eclf], \n",
    "                      ['Logistic Regression', 'Random Forest', 'Gradient Boosting', 'Ensemble']):\n",
    "    scores = cross_val_score(clf, X_val, y_val_cat, scoring='f1', cv=cv)\n",
    "    pred_train_acc.append(cross_val_predict(clf, X_train, y_train_cat, cv=cv))\n",
    "    pred_val_acc.append(cross_val_predict(clf, X_val, y_val_cat, cv=cv))\n",
    "    print(\"Validation Accuracy: %0.5f (+/- %0.3f) [%s]\" % (scores.mean(), scores.std(), label))"
   ]
  },
  {
   "cell_type": "code",
   "execution_count": 208,
   "metadata": {},
   "outputs": [
    {
     "data": {
      "text/plain": [
       "[array([1., 0., 0., ..., 1., 1., 0.]),\n",
       " array([0., 0., 0., ..., 1., 1., 0.]),\n",
       " array([0., 0., 0., ..., 1., 1., 0.]),\n",
       " array([0., 0., 0., ..., 1., 1., 0.])]"
      ]
     },
     "execution_count": 208,
     "metadata": {},
     "output_type": "execute_result"
    }
   ],
   "source": [
    "pred_train_acc"
   ]
  },
  {
   "cell_type": "code",
   "execution_count": 209,
   "metadata": {},
   "outputs": [],
   "source": [
    "pred_train_calc = 0\n",
    "for pred_train_item in pred_train_acc:\n",
    "    # calculate the total accuracy on training\n",
    "    pred_train_calc += pred_train_item\n",
    "\n",
    "# derive the average of the total accuracy on training.\n",
    "pred_train = (pred_train_calc/len(pred_train_acc) > 0.5).astype(int)"
   ]
  },
  {
   "cell_type": "code",
   "execution_count": 210,
   "metadata": {},
   "outputs": [
    {
     "data": {
      "text/plain": [
       "[array([1., 0., 0., ..., 1., 1., 1.]),\n",
       " array([1., 0., 0., ..., 1., 0., 1.]),\n",
       " array([1., 0., 0., ..., 1., 0., 1.]),\n",
       " array([1., 0., 0., ..., 1., 0., 1.])]"
      ]
     },
     "execution_count": 210,
     "metadata": {},
     "output_type": "execute_result"
    }
   ],
   "source": [
    "pred_val_acc"
   ]
  },
  {
   "cell_type": "code",
   "execution_count": 211,
   "metadata": {},
   "outputs": [],
   "source": [
    "pred_vote_calc = 0\n",
    "for pred_val in pred_val_acc:\n",
    "    # calculate the total accuracy on validation\n",
    "    pred_vote_calc += pred_val\n",
    "\n",
    "# derive the average of the total accuracy on validation.\n",
    "pred_vote = (pred_vote_calc/len(pred_val_acc) > 0.5).astype(int)"
   ]
  },
  {
   "cell_type": "code",
   "execution_count": 212,
   "metadata": {},
   "outputs": [
    {
     "data": {
      "text/plain": [
       "array([1, 0, 0, ..., 1, 0, 1])"
      ]
     },
     "execution_count": 212,
     "metadata": {},
     "output_type": "execute_result"
    }
   ],
   "source": [
    "pred_vote"
   ]
  },
  {
   "cell_type": "code",
   "execution_count": 213,
   "metadata": {},
   "outputs": [
    {
     "name": "stdout",
     "output_type": "stream",
     "text": [
      "Recall (Sensivity): 0.85\n",
      "Specificity: 0.95\n",
      "Precision: 0.91\n",
      "Balanced Accuracy: 0.9\n",
      "F1 Score: 0.88\n"
     ]
    }
   ],
   "source": [
    "# Dynamically calculating Recall(Sensitivity), Specificity, Precision, Balanced Accuracy and F1-Score\n",
    "TN, FP, FN, TP = metrics.confusion_matrix(y_true=y_val_cat, y_pred=pred_vote).ravel() # return the elements of the matrix as array\n",
    "\n",
    "Specificity = TN/(TN+FP)\n",
    "\n",
    "Precision = TP/(TP+FP)\n",
    "\n",
    "Recall = TP/(TP+FN)\n",
    "\n",
    "F1Score = 2 * ((Precision * Recall)/(Precision + Recall))\n",
    "\n",
    "BalancedAccuracy = (Recall  + Specificity)/2\n",
    "\n",
    "print('Recall (Sensivity): %s' %(str(roundOffValue(Recall))))\n",
    "print('Specificity: %s' %(str(roundOffValue(Specificity))))\n",
    "print('Precision: %s' %(str(roundOffValue(Precision))))\n",
    "print('Balanced Accuracy: %s' %(str(roundOffValue(BalancedAccuracy))))\n",
    "print('F1 Score: %s' %(str(roundOffValue(F1Score))))"
   ]
  },
  {
   "cell_type": "code",
   "execution_count": 214,
   "metadata": {},
   "outputs": [],
   "source": [
    "votingClassifierMetrics = ['Voting Classifier With Hard voting', roundOffValue(metrics.accuracy_score(y_train_cat, pred_train)), roundOffValue(metrics.accuracy_score(y_val_cat, pred_vote)), roundOffValue(Recall), roundOffValue(Specificity), roundOffValue(Precision), roundOffValue(BalancedAccuracy), roundOffValue(F1Score)]"
   ]
  },
  {
   "cell_type": "code",
   "execution_count": 215,
   "metadata": {},
   "outputs": [],
   "source": [
    "# add the list of the classifier metrics to the list of classification models\n",
    "classificationModels.append(votingClassifierMetrics)"
   ]
  },
  {
   "cell_type": "code",
   "execution_count": 216,
   "metadata": {},
   "outputs": [
    {
     "data": {
      "text/plain": [
       "[['GridSearchCV RBF Kernel SVC', 0.94, 0.91, 0.87, 0.94, 0.9, 0.9, 0.88],\n",
       " ['GridSearchCV RBF Kernel SVC With PCA transformed data',\n",
       "  0.93,\n",
       "  0.91,\n",
       "  0.86,\n",
       "  0.94,\n",
       "  0.9,\n",
       "  0.9,\n",
       "  0.88],\n",
       " ['Random Forest Classifier', 1.0, 0.92, 0.86, 0.95, 0.91, 0.91, 0.89],\n",
       " ['Random Forest Classifier With Grid SearchCV',\n",
       "  0.96,\n",
       "  0.92,\n",
       "  0.87,\n",
       "  0.95,\n",
       "  0.91,\n",
       "  0.91,\n",
       "  0.89],\n",
       " ['Gradient Boosting Classifier With Grid SearchCV',\n",
       "  0.99,\n",
       "  0.89,\n",
       "  0.84,\n",
       "  0.92,\n",
       "  0.88,\n",
       "  0.88,\n",
       "  0.86],\n",
       " ['Voting Classifier With Hard voting',\n",
       "  0.92,\n",
       "  0.91,\n",
       "  0.85,\n",
       "  0.95,\n",
       "  0.91,\n",
       "  0.9,\n",
       "  0.88]]"
      ]
     },
     "execution_count": 216,
     "metadata": {},
     "output_type": "execute_result"
    }
   ],
   "source": [
    "classificationModels"
   ]
  },
  {
   "cell_type": "markdown",
   "metadata": {},
   "source": [
    "<p>Here, we can see that the performance of the voting classifier with hard voting improves over the individual classifier in the 10 fold cross validation evaluation.</p>"
   ]
  },
  {
   "cell_type": "markdown",
   "metadata": {},
   "source": [
    "## Q10 [10]"
   ]
  },
  {
   "cell_type": "markdown",
   "metadata": {},
   "source": [
    "- Choose the best 2 regressors among the trained regressions models:\n",
    "- Create a table summarizing results on the **test** set for regression (with target variables in `y_test`):\n",
    "    - Show the R^2 and RMSE performance metrics on test data for each model.\n",
    "- Which model is best for regression? Is this in line with your analysis (the validation performance of the models) or is this not expected?\n",
    "\n",
    "\n",
    "\n",
    "- Choose the best 2 classifiers among the trained classification models:\n",
    "- Create a table summarizing results on the **test** set for classification (with target variables in `y_test_cat`):\n",
    "    - Show the classification performance metrics (accuracy, recall, precision, f1-score, etc.) on test data for each model. \n",
    "- Which model is best for classification? Is this in line with your analysis (the validation performance of the models) or is this not expected? \n",
    "\n",
    "\n",
    "\n",
    "> Note that the same transformation used during training should be applied on the testing set. (If you applied PCA on training data for the selected model, you need to apply PCA on the testing set as well.) \n",
    "\n"
   ]
  },
  {
   "cell_type": "markdown",
   "metadata": {},
   "source": [
    "- First, let's convert the list of tuples for regression models into a panda data frame."
   ]
  },
  {
   "cell_type": "code",
   "execution_count": 217,
   "metadata": {},
   "outputs": [],
   "source": [
    "pd.set_option('display.max_columns', 100)"
   ]
  },
  {
   "cell_type": "code",
   "execution_count": 218,
   "metadata": {},
   "outputs": [],
   "source": [
    "# let's format the diaply to have two decimal places\n",
    "pd.set_option('display.float_format',  '{:,.2f}'.format)"
   ]
  },
  {
   "cell_type": "code",
   "execution_count": 219,
   "metadata": {},
   "outputs": [],
   "source": [
    "# converting the list of tuples into a pandas data frame\n",
    "df_regressors = pd.DataFrame(data=regressionModels, columns=['Model Name', 'R Squared on Training', 'R Squared on Validation', 'RMSE on training',  'RMSE on validation'])"
   ]
  },
  {
   "cell_type": "code",
   "execution_count": 220,
   "metadata": {},
   "outputs": [
    {
     "data": {
      "text/html": [
       "<div>\n",
       "<style scoped>\n",
       "    .dataframe tbody tr th:only-of-type {\n",
       "        vertical-align: middle;\n",
       "    }\n",
       "\n",
       "    .dataframe tbody tr th {\n",
       "        vertical-align: top;\n",
       "    }\n",
       "\n",
       "    .dataframe thead th {\n",
       "        text-align: right;\n",
       "    }\n",
       "</style>\n",
       "<table border=\"1\" class=\"dataframe\">\n",
       "  <thead>\n",
       "    <tr style=\"text-align: right;\">\n",
       "      <th></th>\n",
       "      <th>Model Name</th>\n",
       "      <th>R Squared on Training</th>\n",
       "      <th>R Squared on Validation</th>\n",
       "      <th>RMSE on training</th>\n",
       "      <th>RMSE on validation</th>\n",
       "      <th>R Squared difference</th>\n",
       "    </tr>\n",
       "  </thead>\n",
       "  <tbody>\n",
       "    <tr>\n",
       "      <th>0</th>\n",
       "      <td>Linear Regression</td>\n",
       "      <td>0.66</td>\n",
       "      <td>0.65</td>\n",
       "      <td>1.27</td>\n",
       "      <td>1.39</td>\n",
       "      <td>0.01</td>\n",
       "    </tr>\n",
       "    <tr>\n",
       "      <th>1</th>\n",
       "      <td>Random Forest Regressor</td>\n",
       "      <td>0.96</td>\n",
       "      <td>0.76</td>\n",
       "      <td>0.42</td>\n",
       "      <td>1.15</td>\n",
       "      <td>0.20</td>\n",
       "    </tr>\n",
       "    <tr>\n",
       "      <th>2</th>\n",
       "      <td>Random Forest Regressor with GridSearchCV</td>\n",
       "      <td>0.79</td>\n",
       "      <td>0.75</td>\n",
       "      <td>1.00</td>\n",
       "      <td>1.18</td>\n",
       "      <td>0.04</td>\n",
       "    </tr>\n",
       "    <tr>\n",
       "      <th>3</th>\n",
       "      <td>Linear SVM Regressor</td>\n",
       "      <td>0.62</td>\n",
       "      <td>0.60</td>\n",
       "      <td>1.34</td>\n",
       "      <td>1.47</td>\n",
       "      <td>0.02</td>\n",
       "    </tr>\n",
       "    <tr>\n",
       "      <th>4</th>\n",
       "      <td>Polynomial Kernel SVM Regressor</td>\n",
       "      <td>0.74</td>\n",
       "      <td>0.73</td>\n",
       "      <td>1.12</td>\n",
       "      <td>1.21</td>\n",
       "      <td>0.01</td>\n",
       "    </tr>\n",
       "    <tr>\n",
       "      <th>5</th>\n",
       "      <td>RBF Kernel SVM Regressor</td>\n",
       "      <td>0.77</td>\n",
       "      <td>0.75</td>\n",
       "      <td>1.06</td>\n",
       "      <td>1.17</td>\n",
       "      <td>0.02</td>\n",
       "    </tr>\n",
       "    <tr>\n",
       "      <th>6</th>\n",
       "      <td>RBF Kernel SVR with GridSearch</td>\n",
       "      <td>0.79</td>\n",
       "      <td>0.76</td>\n",
       "      <td>1.00</td>\n",
       "      <td>1.15</td>\n",
       "      <td>0.03</td>\n",
       "    </tr>\n",
       "    <tr>\n",
       "      <th>7</th>\n",
       "      <td>Linear Regression with PCA transformed data</td>\n",
       "      <td>0.66</td>\n",
       "      <td>0.63</td>\n",
       "      <td>1.29</td>\n",
       "      <td>1.41</td>\n",
       "      <td>0.03</td>\n",
       "    </tr>\n",
       "    <tr>\n",
       "      <th>8</th>\n",
       "      <td>Random Forest Regressor with PCA transformed data</td>\n",
       "      <td>0.96</td>\n",
       "      <td>0.74</td>\n",
       "      <td>0.42</td>\n",
       "      <td>1.20</td>\n",
       "      <td>0.22</td>\n",
       "    </tr>\n",
       "    <tr>\n",
       "      <th>9</th>\n",
       "      <td>GridSearchCV Random Forest Regressor with PCA ...</td>\n",
       "      <td>0.80</td>\n",
       "      <td>0.75</td>\n",
       "      <td>0.98</td>\n",
       "      <td>1.17</td>\n",
       "      <td>0.05</td>\n",
       "    </tr>\n",
       "    <tr>\n",
       "      <th>10</th>\n",
       "      <td>RBF Kernel SVR with PCA transformed data</td>\n",
       "      <td>0.76</td>\n",
       "      <td>0.75</td>\n",
       "      <td>1.07</td>\n",
       "      <td>1.17</td>\n",
       "      <td>0.01</td>\n",
       "    </tr>\n",
       "    <tr>\n",
       "      <th>11</th>\n",
       "      <td>GridSearchCV RBF Kernel SVR with PCA transform...</td>\n",
       "      <td>0.79</td>\n",
       "      <td>0.75</td>\n",
       "      <td>1.02</td>\n",
       "      <td>1.16</td>\n",
       "      <td>0.04</td>\n",
       "    </tr>\n",
       "    <tr>\n",
       "      <th>12</th>\n",
       "      <td>Linear Regression Performance Improvement With...</td>\n",
       "      <td>0.54</td>\n",
       "      <td>0.51</td>\n",
       "      <td>1.48</td>\n",
       "      <td>1.64</td>\n",
       "      <td>0.03</td>\n",
       "    </tr>\n",
       "    <tr>\n",
       "      <th>13</th>\n",
       "      <td>Random Forest Regressor Performance Improvemen...</td>\n",
       "      <td>0.96</td>\n",
       "      <td>0.70</td>\n",
       "      <td>0.46</td>\n",
       "      <td>1.28</td>\n",
       "      <td>0.26</td>\n",
       "    </tr>\n",
       "    <tr>\n",
       "      <th>14</th>\n",
       "      <td>Linear Tree Regressor</td>\n",
       "      <td>0.77</td>\n",
       "      <td>0.75</td>\n",
       "      <td>1.04</td>\n",
       "      <td>1.18</td>\n",
       "      <td>0.02</td>\n",
       "    </tr>\n",
       "    <tr>\n",
       "      <th>15</th>\n",
       "      <td>Linear Tree Regressor With GridSearchCV</td>\n",
       "      <td>0.77</td>\n",
       "      <td>0.71</td>\n",
       "      <td>1.05</td>\n",
       "      <td>1.26</td>\n",
       "      <td>0.06</td>\n",
       "    </tr>\n",
       "    <tr>\n",
       "      <th>16</th>\n",
       "      <td>ElasticNet With GridSearchCV</td>\n",
       "      <td>0.66</td>\n",
       "      <td>0.65</td>\n",
       "      <td>1.27</td>\n",
       "      <td>1.39</td>\n",
       "      <td>0.01</td>\n",
       "    </tr>\n",
       "    <tr>\n",
       "      <th>17</th>\n",
       "      <td>Stochastic Gradient Descent With GridSearchCV</td>\n",
       "      <td>0.66</td>\n",
       "      <td>0.65</td>\n",
       "      <td>1.27</td>\n",
       "      <td>1.39</td>\n",
       "      <td>0.01</td>\n",
       "    </tr>\n",
       "    <tr>\n",
       "      <th>18</th>\n",
       "      <td>Linear Regression With interaction Terms</td>\n",
       "      <td>0.77</td>\n",
       "      <td>0.74</td>\n",
       "      <td>1.06</td>\n",
       "      <td>1.19</td>\n",
       "      <td>0.03</td>\n",
       "    </tr>\n",
       "    <tr>\n",
       "      <th>19</th>\n",
       "      <td>Random Forest Regressor With GridSearchCV on I...</td>\n",
       "      <td>0.92</td>\n",
       "      <td>0.75</td>\n",
       "      <td>0.63</td>\n",
       "      <td>1.16</td>\n",
       "      <td>0.17</td>\n",
       "    </tr>\n",
       "  </tbody>\n",
       "</table>\n",
       "</div>"
      ],
      "text/plain": [
       "                                           Model Name  R Squared on Training  \\\n",
       "0                                   Linear Regression                   0.66   \n",
       "1                             Random Forest Regressor                   0.96   \n",
       "2           Random Forest Regressor with GridSearchCV                   0.79   \n",
       "3                                Linear SVM Regressor                   0.62   \n",
       "4                     Polynomial Kernel SVM Regressor                   0.74   \n",
       "5                            RBF Kernel SVM Regressor                   0.77   \n",
       "6                      RBF Kernel SVR with GridSearch                   0.79   \n",
       "7         Linear Regression with PCA transformed data                   0.66   \n",
       "8   Random Forest Regressor with PCA transformed data                   0.96   \n",
       "9   GridSearchCV Random Forest Regressor with PCA ...                   0.80   \n",
       "10           RBF Kernel SVR with PCA transformed data                   0.76   \n",
       "11  GridSearchCV RBF Kernel SVR with PCA transform...                   0.79   \n",
       "12  Linear Regression Performance Improvement With...                   0.54   \n",
       "13  Random Forest Regressor Performance Improvemen...                   0.96   \n",
       "14                              Linear Tree Regressor                   0.77   \n",
       "15            Linear Tree Regressor With GridSearchCV                   0.77   \n",
       "16                       ElasticNet With GridSearchCV                   0.66   \n",
       "17      Stochastic Gradient Descent With GridSearchCV                   0.66   \n",
       "18           Linear Regression With interaction Terms                   0.77   \n",
       "19  Random Forest Regressor With GridSearchCV on I...                   0.92   \n",
       "\n",
       "    R Squared on Validation  RMSE on training  RMSE on validation  \\\n",
       "0                      0.65              1.27                1.39   \n",
       "1                      0.76              0.42                1.15   \n",
       "2                      0.75              1.00                1.18   \n",
       "3                      0.60              1.34                1.47   \n",
       "4                      0.73              1.12                1.21   \n",
       "5                      0.75              1.06                1.17   \n",
       "6                      0.76              1.00                1.15   \n",
       "7                      0.63              1.29                1.41   \n",
       "8                      0.74              0.42                1.20   \n",
       "9                      0.75              0.98                1.17   \n",
       "10                     0.75              1.07                1.17   \n",
       "11                     0.75              1.02                1.16   \n",
       "12                     0.51              1.48                1.64   \n",
       "13                     0.70              0.46                1.28   \n",
       "14                     0.75              1.04                1.18   \n",
       "15                     0.71              1.05                1.26   \n",
       "16                     0.65              1.27                1.39   \n",
       "17                     0.65              1.27                1.39   \n",
       "18                     0.74              1.06                1.19   \n",
       "19                     0.75              0.63                1.16   \n",
       "\n",
       "    R Squared difference  \n",
       "0                   0.01  \n",
       "1                   0.20  \n",
       "2                   0.04  \n",
       "3                   0.02  \n",
       "4                   0.01  \n",
       "5                   0.02  \n",
       "6                   0.03  \n",
       "7                   0.03  \n",
       "8                   0.22  \n",
       "9                   0.05  \n",
       "10                  0.01  \n",
       "11                  0.04  \n",
       "12                  0.03  \n",
       "13                  0.26  \n",
       "14                  0.02  \n",
       "15                  0.06  \n",
       "16                  0.01  \n",
       "17                  0.01  \n",
       "18                  0.03  \n",
       "19                  0.17  "
      ]
     },
     "execution_count": 220,
     "metadata": {},
     "output_type": "execute_result"
    }
   ],
   "source": [
    "# let's calculate the difference between R Squared training and validation\n",
    "df_regressors['R Squared difference'] = df_regressors['R Squared on Training'] - df_regressors['R Squared on Validation']\n",
    "df_regressors"
   ]
  },
  {
   "cell_type": "code",
   "execution_count": 221,
   "metadata": {},
   "outputs": [
    {
     "data": {
      "text/html": [
       "<div>\n",
       "<style scoped>\n",
       "    .dataframe tbody tr th:only-of-type {\n",
       "        vertical-align: middle;\n",
       "    }\n",
       "\n",
       "    .dataframe tbody tr th {\n",
       "        vertical-align: top;\n",
       "    }\n",
       "\n",
       "    .dataframe thead th {\n",
       "        text-align: right;\n",
       "    }\n",
       "</style>\n",
       "<table border=\"1\" class=\"dataframe\">\n",
       "  <thead>\n",
       "    <tr style=\"text-align: right;\">\n",
       "      <th></th>\n",
       "      <th>Model Name</th>\n",
       "      <th>R Squared on Training</th>\n",
       "      <th>R Squared on Validation</th>\n",
       "      <th>RMSE on training</th>\n",
       "      <th>RMSE on validation</th>\n",
       "      <th>R Squared difference</th>\n",
       "    </tr>\n",
       "  </thead>\n",
       "  <tbody>\n",
       "    <tr>\n",
       "      <th>0</th>\n",
       "      <td>Linear Regression</td>\n",
       "      <td>0.66</td>\n",
       "      <td>0.65</td>\n",
       "      <td>1.27</td>\n",
       "      <td>1.39</td>\n",
       "      <td>0.01</td>\n",
       "    </tr>\n",
       "    <tr>\n",
       "      <th>16</th>\n",
       "      <td>ElasticNet With GridSearchCV</td>\n",
       "      <td>0.66</td>\n",
       "      <td>0.65</td>\n",
       "      <td>1.27</td>\n",
       "      <td>1.39</td>\n",
       "      <td>0.01</td>\n",
       "    </tr>\n",
       "    <tr>\n",
       "      <th>17</th>\n",
       "      <td>Stochastic Gradient Descent With GridSearchCV</td>\n",
       "      <td>0.66</td>\n",
       "      <td>0.65</td>\n",
       "      <td>1.27</td>\n",
       "      <td>1.39</td>\n",
       "      <td>0.01</td>\n",
       "    </tr>\n",
       "    <tr>\n",
       "      <th>4</th>\n",
       "      <td>Polynomial Kernel SVM Regressor</td>\n",
       "      <td>0.74</td>\n",
       "      <td>0.73</td>\n",
       "      <td>1.12</td>\n",
       "      <td>1.21</td>\n",
       "      <td>0.01</td>\n",
       "    </tr>\n",
       "    <tr>\n",
       "      <th>10</th>\n",
       "      <td>RBF Kernel SVR with PCA transformed data</td>\n",
       "      <td>0.76</td>\n",
       "      <td>0.75</td>\n",
       "      <td>1.07</td>\n",
       "      <td>1.17</td>\n",
       "      <td>0.01</td>\n",
       "    </tr>\n",
       "    <tr>\n",
       "      <th>3</th>\n",
       "      <td>Linear SVM Regressor</td>\n",
       "      <td>0.62</td>\n",
       "      <td>0.60</td>\n",
       "      <td>1.34</td>\n",
       "      <td>1.47</td>\n",
       "      <td>0.02</td>\n",
       "    </tr>\n",
       "    <tr>\n",
       "      <th>14</th>\n",
       "      <td>Linear Tree Regressor</td>\n",
       "      <td>0.77</td>\n",
       "      <td>0.75</td>\n",
       "      <td>1.04</td>\n",
       "      <td>1.18</td>\n",
       "      <td>0.02</td>\n",
       "    </tr>\n",
       "    <tr>\n",
       "      <th>5</th>\n",
       "      <td>RBF Kernel SVM Regressor</td>\n",
       "      <td>0.77</td>\n",
       "      <td>0.75</td>\n",
       "      <td>1.06</td>\n",
       "      <td>1.17</td>\n",
       "      <td>0.02</td>\n",
       "    </tr>\n",
       "    <tr>\n",
       "      <th>12</th>\n",
       "      <td>Linear Regression Performance Improvement With...</td>\n",
       "      <td>0.54</td>\n",
       "      <td>0.51</td>\n",
       "      <td>1.48</td>\n",
       "      <td>1.64</td>\n",
       "      <td>0.03</td>\n",
       "    </tr>\n",
       "    <tr>\n",
       "      <th>7</th>\n",
       "      <td>Linear Regression with PCA transformed data</td>\n",
       "      <td>0.66</td>\n",
       "      <td>0.63</td>\n",
       "      <td>1.29</td>\n",
       "      <td>1.41</td>\n",
       "      <td>0.03</td>\n",
       "    </tr>\n",
       "    <tr>\n",
       "      <th>18</th>\n",
       "      <td>Linear Regression With interaction Terms</td>\n",
       "      <td>0.77</td>\n",
       "      <td>0.74</td>\n",
       "      <td>1.06</td>\n",
       "      <td>1.19</td>\n",
       "      <td>0.03</td>\n",
       "    </tr>\n",
       "    <tr>\n",
       "      <th>6</th>\n",
       "      <td>RBF Kernel SVR with GridSearch</td>\n",
       "      <td>0.79</td>\n",
       "      <td>0.76</td>\n",
       "      <td>1.00</td>\n",
       "      <td>1.15</td>\n",
       "      <td>0.03</td>\n",
       "    </tr>\n",
       "    <tr>\n",
       "      <th>2</th>\n",
       "      <td>Random Forest Regressor with GridSearchCV</td>\n",
       "      <td>0.79</td>\n",
       "      <td>0.75</td>\n",
       "      <td>1.00</td>\n",
       "      <td>1.18</td>\n",
       "      <td>0.04</td>\n",
       "    </tr>\n",
       "    <tr>\n",
       "      <th>11</th>\n",
       "      <td>GridSearchCV RBF Kernel SVR with PCA transform...</td>\n",
       "      <td>0.79</td>\n",
       "      <td>0.75</td>\n",
       "      <td>1.02</td>\n",
       "      <td>1.16</td>\n",
       "      <td>0.04</td>\n",
       "    </tr>\n",
       "    <tr>\n",
       "      <th>9</th>\n",
       "      <td>GridSearchCV Random Forest Regressor with PCA ...</td>\n",
       "      <td>0.80</td>\n",
       "      <td>0.75</td>\n",
       "      <td>0.98</td>\n",
       "      <td>1.17</td>\n",
       "      <td>0.05</td>\n",
       "    </tr>\n",
       "    <tr>\n",
       "      <th>15</th>\n",
       "      <td>Linear Tree Regressor With GridSearchCV</td>\n",
       "      <td>0.77</td>\n",
       "      <td>0.71</td>\n",
       "      <td>1.05</td>\n",
       "      <td>1.26</td>\n",
       "      <td>0.06</td>\n",
       "    </tr>\n",
       "    <tr>\n",
       "      <th>19</th>\n",
       "      <td>Random Forest Regressor With GridSearchCV on I...</td>\n",
       "      <td>0.92</td>\n",
       "      <td>0.75</td>\n",
       "      <td>0.63</td>\n",
       "      <td>1.16</td>\n",
       "      <td>0.17</td>\n",
       "    </tr>\n",
       "    <tr>\n",
       "      <th>1</th>\n",
       "      <td>Random Forest Regressor</td>\n",
       "      <td>0.96</td>\n",
       "      <td>0.76</td>\n",
       "      <td>0.42</td>\n",
       "      <td>1.15</td>\n",
       "      <td>0.20</td>\n",
       "    </tr>\n",
       "    <tr>\n",
       "      <th>8</th>\n",
       "      <td>Random Forest Regressor with PCA transformed data</td>\n",
       "      <td>0.96</td>\n",
       "      <td>0.74</td>\n",
       "      <td>0.42</td>\n",
       "      <td>1.20</td>\n",
       "      <td>0.22</td>\n",
       "    </tr>\n",
       "    <tr>\n",
       "      <th>13</th>\n",
       "      <td>Random Forest Regressor Performance Improvemen...</td>\n",
       "      <td>0.96</td>\n",
       "      <td>0.70</td>\n",
       "      <td>0.46</td>\n",
       "      <td>1.28</td>\n",
       "      <td>0.26</td>\n",
       "    </tr>\n",
       "  </tbody>\n",
       "</table>\n",
       "</div>"
      ],
      "text/plain": [
       "                                           Model Name  R Squared on Training  \\\n",
       "0                                   Linear Regression                   0.66   \n",
       "16                       ElasticNet With GridSearchCV                   0.66   \n",
       "17      Stochastic Gradient Descent With GridSearchCV                   0.66   \n",
       "4                     Polynomial Kernel SVM Regressor                   0.74   \n",
       "10           RBF Kernel SVR with PCA transformed data                   0.76   \n",
       "3                                Linear SVM Regressor                   0.62   \n",
       "14                              Linear Tree Regressor                   0.77   \n",
       "5                            RBF Kernel SVM Regressor                   0.77   \n",
       "12  Linear Regression Performance Improvement With...                   0.54   \n",
       "7         Linear Regression with PCA transformed data                   0.66   \n",
       "18           Linear Regression With interaction Terms                   0.77   \n",
       "6                      RBF Kernel SVR with GridSearch                   0.79   \n",
       "2           Random Forest Regressor with GridSearchCV                   0.79   \n",
       "11  GridSearchCV RBF Kernel SVR with PCA transform...                   0.79   \n",
       "9   GridSearchCV Random Forest Regressor with PCA ...                   0.80   \n",
       "15            Linear Tree Regressor With GridSearchCV                   0.77   \n",
       "19  Random Forest Regressor With GridSearchCV on I...                   0.92   \n",
       "1                             Random Forest Regressor                   0.96   \n",
       "8   Random Forest Regressor with PCA transformed data                   0.96   \n",
       "13  Random Forest Regressor Performance Improvemen...                   0.96   \n",
       "\n",
       "    R Squared on Validation  RMSE on training  RMSE on validation  \\\n",
       "0                      0.65              1.27                1.39   \n",
       "16                     0.65              1.27                1.39   \n",
       "17                     0.65              1.27                1.39   \n",
       "4                      0.73              1.12                1.21   \n",
       "10                     0.75              1.07                1.17   \n",
       "3                      0.60              1.34                1.47   \n",
       "14                     0.75              1.04                1.18   \n",
       "5                      0.75              1.06                1.17   \n",
       "12                     0.51              1.48                1.64   \n",
       "7                      0.63              1.29                1.41   \n",
       "18                     0.74              1.06                1.19   \n",
       "6                      0.76              1.00                1.15   \n",
       "2                      0.75              1.00                1.18   \n",
       "11                     0.75              1.02                1.16   \n",
       "9                      0.75              0.98                1.17   \n",
       "15                     0.71              1.05                1.26   \n",
       "19                     0.75              0.63                1.16   \n",
       "1                      0.76              0.42                1.15   \n",
       "8                      0.74              0.42                1.20   \n",
       "13                     0.70              0.46                1.28   \n",
       "\n",
       "    R Squared difference  \n",
       "0                   0.01  \n",
       "16                  0.01  \n",
       "17                  0.01  \n",
       "4                   0.01  \n",
       "10                  0.01  \n",
       "3                   0.02  \n",
       "14                  0.02  \n",
       "5                   0.02  \n",
       "12                  0.03  \n",
       "7                   0.03  \n",
       "18                  0.03  \n",
       "6                   0.03  \n",
       "2                   0.04  \n",
       "11                  0.04  \n",
       "9                   0.05  \n",
       "15                  0.06  \n",
       "19                  0.17  \n",
       "1                   0.20  \n",
       "8                   0.22  \n",
       "13                  0.26  "
      ]
     },
     "execution_count": 221,
     "metadata": {},
     "output_type": "execute_result"
    }
   ],
   "source": [
    "# let's sort the data frame by the difference between R Squared on training and validation, R Squared on Training, R Squared on Validation, then RMSE on training and RMSE on validation\n",
    "df_regressors_sorted = df_regressors.sort_values(by=['R Squared difference', 'R Squared on Training', 'R Squared on Validation', 'RMSE on training', 'RMSE on validation'])\n",
    "df_regressors_sorted"
   ]
  },
  {
   "cell_type": "markdown",
   "metadata": {},
   "source": [
    "<ul>The best regressors are:\n",
    "    <li>RBF Kernel SVR with PCA transformed data.</li>\n",
    "    <li>RBF Kernel SVR Regressor with GridSearch.</li>\n",
    "</ul>\n",
    "\n",
    "<p>I chose these two regressors because they have the highest $R^2$ on the validation data but also keeping mind the smallest differences in the R Squared value between training and validation.</p>"
   ]
  },
  {
   "cell_type": "markdown",
   "metadata": {},
   "source": [
    "#### Using the RBF Kernel SVR with PCA transformed data"
   ]
  },
  {
   "cell_type": "code",
   "execution_count": 222,
   "metadata": {},
   "outputs": [],
   "source": [
    "# output the model's prediction on the test set.\n",
    "pred_test_rbf = rbf_K_SVR_With_PCA_transformed_data.predict(X_test_pca2)"
   ]
  },
  {
   "cell_type": "code",
   "execution_count": 223,
   "metadata": {},
   "outputs": [
    {
     "name": "stdout",
     "output_type": "stream",
     "text": [
      "The model's R^2 on the training data is 0.589.\n"
     ]
    }
   ],
   "source": [
    "# R^2 on the testing data\n",
    "print(\"The model's R^2 on the training data is %.3f.\" %deriveRSquared(y_test, pred_test_rbf))"
   ]
  },
  {
   "cell_type": "code",
   "execution_count": 224,
   "metadata": {},
   "outputs": [
    {
     "name": "stdout",
     "output_type": "stream",
     "text": [
      "The model's Root Mean Squared Error (RMSE) on the training data is 1.496.\n"
     ]
    }
   ],
   "source": [
    "# Root Mean Squared Error (RMSE) on testing data\n",
    "print(\"The model's Root Mean Squared Error (RMSE) on the training data is %.3f.\" %deriveRMSE(y_test, pred_test_rbf))"
   ]
  },
  {
   "cell_type": "markdown",
   "metadata": {},
   "source": [
    "#### Using RBF Kernel SVR Regressor with GridSearch"
   ]
  },
  {
   "cell_type": "code",
   "execution_count": 225,
   "metadata": {},
   "outputs": [],
   "source": [
    "# output the model's prediction on the test set.\n",
    "pred_test = gridSCV_rbf_K_SVR.predict(X_test)"
   ]
  },
  {
   "cell_type": "code",
   "execution_count": 226,
   "metadata": {},
   "outputs": [
    {
     "name": "stdout",
     "output_type": "stream",
     "text": [
      "The model's R^2 on the training data is 0.576.\n"
     ]
    }
   ],
   "source": [
    "# R^2 on the testing data\n",
    "print(\"The model's R^2 on the training data is %.3f.\" %deriveRSquared(y_test, pred_test))"
   ]
  },
  {
   "cell_type": "code",
   "execution_count": 227,
   "metadata": {},
   "outputs": [
    {
     "name": "stdout",
     "output_type": "stream",
     "text": [
      "The model's Root Mean Squared Error (RMSE) on the training data is 1.519.\n"
     ]
    }
   ],
   "source": [
    "# Root Mean Squared Error (RMSE) on testing data\n",
    "print(\"The model's Root Mean Squared Error (RMSE) on the training data is %.3f.\" %deriveRMSE(y_test, pred_test))"
   ]
  },
  {
   "cell_type": "code",
   "execution_count": 228,
   "metadata": {},
   "outputs": [],
   "source": [
    "# let's create a list of RSquared values\n",
    "listOfRSquared=[roundOffValue(deriveRSquared(y_test, pred_test_rbf)), roundOffValue(deriveRSquared(y_test, pred_test)) ]"
   ]
  },
  {
   "cell_type": "code",
   "execution_count": 229,
   "metadata": {},
   "outputs": [],
   "source": [
    "# let's create a list of RMSE values of the two best regression models\n",
    "listOfRMSE =[roundOffValue(deriveRMSE(y_test, pred_test_rbf)), roundOffValue(deriveRMSE(y_test, pred_test))]"
   ]
  },
  {
   "cell_type": "markdown",
   "metadata": {},
   "source": [
    "### let's create a table summarizing the results on the test set for regression."
   ]
  },
  {
   "cell_type": "code",
   "execution_count": 230,
   "metadata": {},
   "outputs": [],
   "source": [
    "#let's create a mask for the best two regressors.\n",
    "condition_mask = df_regressors_sorted['Model Name'].isin(['RBF Kernel SVR with PCA transformed data', 'RBF Kernel SVR with GridSearch'])\n",
    "df_best_linear_models = df_regressors_sorted[condition_mask]\n",
    "# create a copy of the data set\n",
    "df_best_linear_m_final = df_best_linear_models.copy()\n",
    "#df_best_linear_m_final"
   ]
  },
  {
   "cell_type": "code",
   "execution_count": 231,
   "metadata": {},
   "outputs": [],
   "source": [
    "df_best_linear_m_final['R Squared on testing'] = listOfRSquared\n",
    "df_best_linear_m_final['RMSE on testing'] = listOfRMSE"
   ]
  },
  {
   "cell_type": "code",
   "execution_count": 232,
   "metadata": {},
   "outputs": [
    {
     "data": {
      "text/html": [
       "<div>\n",
       "<style scoped>\n",
       "    .dataframe tbody tr th:only-of-type {\n",
       "        vertical-align: middle;\n",
       "    }\n",
       "\n",
       "    .dataframe tbody tr th {\n",
       "        vertical-align: top;\n",
       "    }\n",
       "\n",
       "    .dataframe thead th {\n",
       "        text-align: right;\n",
       "    }\n",
       "</style>\n",
       "<table border=\"1\" class=\"dataframe\">\n",
       "  <thead>\n",
       "    <tr style=\"text-align: right;\">\n",
       "      <th></th>\n",
       "      <th>Model Name</th>\n",
       "      <th>R Squared on Training</th>\n",
       "      <th>R Squared on Validation</th>\n",
       "      <th>RMSE on training</th>\n",
       "      <th>RMSE on validation</th>\n",
       "      <th>R Squared difference</th>\n",
       "      <th>R Squared on testing</th>\n",
       "      <th>RMSE on testing</th>\n",
       "    </tr>\n",
       "  </thead>\n",
       "  <tbody>\n",
       "    <tr>\n",
       "      <th>10</th>\n",
       "      <td>RBF Kernel SVR with PCA transformed data</td>\n",
       "      <td>0.76</td>\n",
       "      <td>0.75</td>\n",
       "      <td>1.07</td>\n",
       "      <td>1.17</td>\n",
       "      <td>0.01</td>\n",
       "      <td>0.59</td>\n",
       "      <td>1.50</td>\n",
       "    </tr>\n",
       "    <tr>\n",
       "      <th>6</th>\n",
       "      <td>RBF Kernel SVR with GridSearch</td>\n",
       "      <td>0.79</td>\n",
       "      <td>0.76</td>\n",
       "      <td>1.00</td>\n",
       "      <td>1.15</td>\n",
       "      <td>0.03</td>\n",
       "      <td>0.58</td>\n",
       "      <td>1.52</td>\n",
       "    </tr>\n",
       "  </tbody>\n",
       "</table>\n",
       "</div>"
      ],
      "text/plain": [
       "                                  Model Name  R Squared on Training  \\\n",
       "10  RBF Kernel SVR with PCA transformed data                   0.76   \n",
       "6             RBF Kernel SVR with GridSearch                   0.79   \n",
       "\n",
       "    R Squared on Validation  RMSE on training  RMSE on validation  \\\n",
       "10                     0.75              1.07                1.17   \n",
       "6                      0.76              1.00                1.15   \n",
       "\n",
       "    R Squared difference  R Squared on testing  RMSE on testing  \n",
       "10                  0.01                  0.59             1.50  \n",
       "6                   0.03                  0.58             1.52  "
      ]
     },
     "execution_count": 232,
     "metadata": {},
     "output_type": "execute_result"
    }
   ],
   "source": [
    "# display the items of the data set\n",
    "df_best_linear_m_final"
   ]
  },
  {
   "cell_type": "markdown",
   "metadata": {},
   "source": [
    "<p>From the above table, <b>RBF Kernel Support Vector Regressor build with PCA transformed data</b> is the best model since PCA eliminates multicollinearity between features by combining highly correlated variables into a set of un correlated variables and this is the situation we are in since our data has a lot of strongly correlated variables. Also, it has the highest $R^2$ of 0.59 and lower RMSE of 1.50 on testing.</p> <p>Furthermore, for the second best model, <b>RBF Kernel SVR with GridSearch</b> increased $R^2$, which was part of the validation performance of the model in Question 5.</p>"
   ]
  },
  {
   "cell_type": "markdown",
   "metadata": {},
   "source": [
    "#### Before choosing the best 2 classifiers among the trained classification models, we need to convert the list of classification models into pandas."
   ]
  },
  {
   "cell_type": "code",
   "execution_count": 233,
   "metadata": {},
   "outputs": [
    {
     "data": {
      "text/html": [
       "<div>\n",
       "<style scoped>\n",
       "    .dataframe tbody tr th:only-of-type {\n",
       "        vertical-align: middle;\n",
       "    }\n",
       "\n",
       "    .dataframe tbody tr th {\n",
       "        vertical-align: top;\n",
       "    }\n",
       "\n",
       "    .dataframe thead th {\n",
       "        text-align: right;\n",
       "    }\n",
       "</style>\n",
       "<table border=\"1\" class=\"dataframe\">\n",
       "  <thead>\n",
       "    <tr style=\"text-align: right;\">\n",
       "      <th></th>\n",
       "      <th>ModelName</th>\n",
       "      <th>AccuracyOnTraining</th>\n",
       "      <th>AccuracyOnval</th>\n",
       "      <th>RecallOnVal</th>\n",
       "      <th>SpecificityOnVal</th>\n",
       "      <th>PrecisionOnVal</th>\n",
       "      <th>BalancedAccuracyOnVal</th>\n",
       "      <th>F1ScoreOnVal</th>\n",
       "    </tr>\n",
       "  </thead>\n",
       "  <tbody>\n",
       "    <tr>\n",
       "      <th>0</th>\n",
       "      <td>GridSearchCV RBF Kernel SVC</td>\n",
       "      <td>0.94</td>\n",
       "      <td>0.91</td>\n",
       "      <td>0.87</td>\n",
       "      <td>0.94</td>\n",
       "      <td>0.90</td>\n",
       "      <td>0.90</td>\n",
       "      <td>0.88</td>\n",
       "    </tr>\n",
       "    <tr>\n",
       "      <th>1</th>\n",
       "      <td>GridSearchCV RBF Kernel SVC With PCA transform...</td>\n",
       "      <td>0.93</td>\n",
       "      <td>0.91</td>\n",
       "      <td>0.86</td>\n",
       "      <td>0.94</td>\n",
       "      <td>0.90</td>\n",
       "      <td>0.90</td>\n",
       "      <td>0.88</td>\n",
       "    </tr>\n",
       "    <tr>\n",
       "      <th>2</th>\n",
       "      <td>Random Forest Classifier</td>\n",
       "      <td>1.00</td>\n",
       "      <td>0.92</td>\n",
       "      <td>0.86</td>\n",
       "      <td>0.95</td>\n",
       "      <td>0.91</td>\n",
       "      <td>0.91</td>\n",
       "      <td>0.89</td>\n",
       "    </tr>\n",
       "    <tr>\n",
       "      <th>3</th>\n",
       "      <td>Random Forest Classifier With Grid SearchCV</td>\n",
       "      <td>0.96</td>\n",
       "      <td>0.92</td>\n",
       "      <td>0.87</td>\n",
       "      <td>0.95</td>\n",
       "      <td>0.91</td>\n",
       "      <td>0.91</td>\n",
       "      <td>0.89</td>\n",
       "    </tr>\n",
       "    <tr>\n",
       "      <th>4</th>\n",
       "      <td>Gradient Boosting Classifier With Grid SearchCV</td>\n",
       "      <td>0.99</td>\n",
       "      <td>0.89</td>\n",
       "      <td>0.84</td>\n",
       "      <td>0.92</td>\n",
       "      <td>0.88</td>\n",
       "      <td>0.88</td>\n",
       "      <td>0.86</td>\n",
       "    </tr>\n",
       "    <tr>\n",
       "      <th>5</th>\n",
       "      <td>Voting Classifier With Hard voting</td>\n",
       "      <td>0.92</td>\n",
       "      <td>0.91</td>\n",
       "      <td>0.85</td>\n",
       "      <td>0.95</td>\n",
       "      <td>0.91</td>\n",
       "      <td>0.90</td>\n",
       "      <td>0.88</td>\n",
       "    </tr>\n",
       "  </tbody>\n",
       "</table>\n",
       "</div>"
      ],
      "text/plain": [
       "                                           ModelName  AccuracyOnTraining  \\\n",
       "0                        GridSearchCV RBF Kernel SVC                0.94   \n",
       "1  GridSearchCV RBF Kernel SVC With PCA transform...                0.93   \n",
       "2                           Random Forest Classifier                1.00   \n",
       "3        Random Forest Classifier With Grid SearchCV                0.96   \n",
       "4    Gradient Boosting Classifier With Grid SearchCV                0.99   \n",
       "5                 Voting Classifier With Hard voting                0.92   \n",
       "\n",
       "   AccuracyOnval  RecallOnVal  SpecificityOnVal  PrecisionOnVal  \\\n",
       "0           0.91         0.87              0.94            0.90   \n",
       "1           0.91         0.86              0.94            0.90   \n",
       "2           0.92         0.86              0.95            0.91   \n",
       "3           0.92         0.87              0.95            0.91   \n",
       "4           0.89         0.84              0.92            0.88   \n",
       "5           0.91         0.85              0.95            0.91   \n",
       "\n",
       "   BalancedAccuracyOnVal  F1ScoreOnVal  \n",
       "0                   0.90          0.88  \n",
       "1                   0.90          0.88  \n",
       "2                   0.91          0.89  \n",
       "3                   0.91          0.89  \n",
       "4                   0.88          0.86  \n",
       "5                   0.90          0.88  "
      ]
     },
     "execution_count": 233,
     "metadata": {},
     "output_type": "execute_result"
    }
   ],
   "source": [
    "df_classifiers = pd.DataFrame(data=classificationModels, columns=['ModelName', 'AccuracyOnTraining', 'AccuracyOnval', 'RecallOnVal', 'SpecificityOnVal', 'PrecisionOnVal', 'BalancedAccuracyOnVal', 'F1ScoreOnVal'])\n",
    "df_classifiers"
   ]
  },
  {
   "cell_type": "code",
   "execution_count": 234,
   "metadata": {},
   "outputs": [],
   "source": [
    "# let's calculate the difference between Accuracy on training and validation\n",
    "df_classifiers['Differencebtn_trainAcc&ValAcc'] = df_classifiers['AccuracyOnTraining'] - df_classifiers['AccuracyOnval']\n",
    "#df_classifiers"
   ]
  },
  {
   "cell_type": "markdown",
   "metadata": {},
   "source": [
    "- let's sort the data frame by RecallOnVal, F1-Score, Balanced Accuracy and Precision"
   ]
  },
  {
   "cell_type": "code",
   "execution_count": 235,
   "metadata": {
    "scrolled": false
   },
   "outputs": [
    {
     "data": {
      "text/html": [
       "<div>\n",
       "<style scoped>\n",
       "    .dataframe tbody tr th:only-of-type {\n",
       "        vertical-align: middle;\n",
       "    }\n",
       "\n",
       "    .dataframe tbody tr th {\n",
       "        vertical-align: top;\n",
       "    }\n",
       "\n",
       "    .dataframe thead th {\n",
       "        text-align: right;\n",
       "    }\n",
       "</style>\n",
       "<table border=\"1\" class=\"dataframe\">\n",
       "  <thead>\n",
       "    <tr style=\"text-align: right;\">\n",
       "      <th></th>\n",
       "      <th>ModelName</th>\n",
       "      <th>AccuracyOnTraining</th>\n",
       "      <th>AccuracyOnval</th>\n",
       "      <th>RecallOnVal</th>\n",
       "      <th>SpecificityOnVal</th>\n",
       "      <th>PrecisionOnVal</th>\n",
       "      <th>BalancedAccuracyOnVal</th>\n",
       "      <th>F1ScoreOnVal</th>\n",
       "      <th>Differencebtn_trainAcc&amp;ValAcc</th>\n",
       "    </tr>\n",
       "  </thead>\n",
       "  <tbody>\n",
       "    <tr>\n",
       "      <th>4</th>\n",
       "      <td>Gradient Boosting Classifier With Grid SearchCV</td>\n",
       "      <td>0.99</td>\n",
       "      <td>0.89</td>\n",
       "      <td>0.84</td>\n",
       "      <td>0.92</td>\n",
       "      <td>0.88</td>\n",
       "      <td>0.88</td>\n",
       "      <td>0.86</td>\n",
       "      <td>0.10</td>\n",
       "    </tr>\n",
       "    <tr>\n",
       "      <th>5</th>\n",
       "      <td>Voting Classifier With Hard voting</td>\n",
       "      <td>0.92</td>\n",
       "      <td>0.91</td>\n",
       "      <td>0.85</td>\n",
       "      <td>0.95</td>\n",
       "      <td>0.91</td>\n",
       "      <td>0.90</td>\n",
       "      <td>0.88</td>\n",
       "      <td>0.01</td>\n",
       "    </tr>\n",
       "    <tr>\n",
       "      <th>1</th>\n",
       "      <td>GridSearchCV RBF Kernel SVC With PCA transform...</td>\n",
       "      <td>0.93</td>\n",
       "      <td>0.91</td>\n",
       "      <td>0.86</td>\n",
       "      <td>0.94</td>\n",
       "      <td>0.90</td>\n",
       "      <td>0.90</td>\n",
       "      <td>0.88</td>\n",
       "      <td>0.02</td>\n",
       "    </tr>\n",
       "    <tr>\n",
       "      <th>2</th>\n",
       "      <td>Random Forest Classifier</td>\n",
       "      <td>1.00</td>\n",
       "      <td>0.92</td>\n",
       "      <td>0.86</td>\n",
       "      <td>0.95</td>\n",
       "      <td>0.91</td>\n",
       "      <td>0.91</td>\n",
       "      <td>0.89</td>\n",
       "      <td>0.08</td>\n",
       "    </tr>\n",
       "    <tr>\n",
       "      <th>0</th>\n",
       "      <td>GridSearchCV RBF Kernel SVC</td>\n",
       "      <td>0.94</td>\n",
       "      <td>0.91</td>\n",
       "      <td>0.87</td>\n",
       "      <td>0.94</td>\n",
       "      <td>0.90</td>\n",
       "      <td>0.90</td>\n",
       "      <td>0.88</td>\n",
       "      <td>0.03</td>\n",
       "    </tr>\n",
       "    <tr>\n",
       "      <th>3</th>\n",
       "      <td>Random Forest Classifier With Grid SearchCV</td>\n",
       "      <td>0.96</td>\n",
       "      <td>0.92</td>\n",
       "      <td>0.87</td>\n",
       "      <td>0.95</td>\n",
       "      <td>0.91</td>\n",
       "      <td>0.91</td>\n",
       "      <td>0.89</td>\n",
       "      <td>0.04</td>\n",
       "    </tr>\n",
       "  </tbody>\n",
       "</table>\n",
       "</div>"
      ],
      "text/plain": [
       "                                           ModelName  AccuracyOnTraining  \\\n",
       "4    Gradient Boosting Classifier With Grid SearchCV                0.99   \n",
       "5                 Voting Classifier With Hard voting                0.92   \n",
       "1  GridSearchCV RBF Kernel SVC With PCA transform...                0.93   \n",
       "2                           Random Forest Classifier                1.00   \n",
       "0                        GridSearchCV RBF Kernel SVC                0.94   \n",
       "3        Random Forest Classifier With Grid SearchCV                0.96   \n",
       "\n",
       "   AccuracyOnval  RecallOnVal  SpecificityOnVal  PrecisionOnVal  \\\n",
       "4           0.89         0.84              0.92            0.88   \n",
       "5           0.91         0.85              0.95            0.91   \n",
       "1           0.91         0.86              0.94            0.90   \n",
       "2           0.92         0.86              0.95            0.91   \n",
       "0           0.91         0.87              0.94            0.90   \n",
       "3           0.92         0.87              0.95            0.91   \n",
       "\n",
       "   BalancedAccuracyOnVal  F1ScoreOnVal  Differencebtn_trainAcc&ValAcc  \n",
       "4                   0.88          0.86                           0.10  \n",
       "5                   0.90          0.88                           0.01  \n",
       "1                   0.90          0.88                           0.02  \n",
       "2                   0.91          0.89                           0.08  \n",
       "0                   0.90          0.88                           0.03  \n",
       "3                   0.91          0.89                           0.04  "
      ]
     },
     "execution_count": 235,
     "metadata": {},
     "output_type": "execute_result"
    }
   ],
   "source": [
    "df_classifiers_Sorted = df_classifiers.sort_values(by=['RecallOnVal', 'F1ScoreOnVal', 'BalancedAccuracyOnVal', 'PrecisionOnVal'])\n",
    "df_classifiers_Sorted"
   ]
  },
  {
   "cell_type": "markdown",
   "metadata": {},
   "source": [
    "<ul>Based on the results of our table after sorting, the two best classifiers are:\n",
    "    <li>Voting Classifier with Hard voting (Ensemble)</li>\n",
    "    <li>GridSearchCV RBF Kernel SVC With PCA transformed data.</li>\n",
    "</ul>\n",
    "<p>I selected these two classifiers based on the F1 Score, Precision, Balanced Accuracy, Recall values and the difference between the values of training and validation accuracy. We see that the <b>Ensemble</b>, and <b>the RBF Kernel SVC </b>optimized with GridSearchCV and built with the PCA transformed data have low values of differences between training and validation accuracy which are 0.01 and 0.02 respectively.</p>"
   ]
  },
  {
   "cell_type": "code",
   "execution_count": 236,
   "metadata": {},
   "outputs": [],
   "source": [
    "# We initilalize a list of the best two classifiers tested on the testing data set.\n",
    "best_two_classifiers_on_Test=[]"
   ]
  },
  {
   "cell_type": "markdown",
   "metadata": {},
   "source": [
    "#### Using the Voting classifier with Hard Voting (Ensemble)"
   ]
  },
  {
   "cell_type": "code",
   "execution_count": 237,
   "metadata": {},
   "outputs": [
    {
     "name": "stdout",
     "output_type": "stream",
     "text": [
      "Testing Accuracy: 0.87543 (+/- 0.045) [Logistic Regression]\n",
      "Testing Accuracy: 0.86916 (+/- 0.052) [Random Forest]\n",
      "Testing Accuracy: 0.85653 (+/- 0.058) [Gradient Boosting]\n",
      "Testing Accuracy: 0.86354 (+/- 0.056) [Ensemble]\n"
     ]
    }
   ],
   "source": [
    "pred_test_acc = []\n",
    "eclf = VotingClassifier(estimators=[('lr', clf1), ('rfr', clf2), ('gboost', clf3)], voting='hard')\n",
    "for clf, label in zip([clf1, clf2, clf3, eclf], \n",
    "                      ['Logistic Regression', 'Random Forest', 'Gradient Boosting', 'Ensemble']):\n",
    "    scores = cross_val_score(clf, X_test, y_test_cat, scoring='f1', cv=cv)\n",
    "    pred_test_acc.append(cross_val_predict(clf, X_test, y_test_cat, cv=cv))\n",
    "    print(\"Testing Accuracy: %0.5f (+/- %0.3f) [%s]\" % (scores.mean(), scores.std(), label))"
   ]
  },
  {
   "cell_type": "code",
   "execution_count": 238,
   "metadata": {},
   "outputs": [],
   "source": [
    "pred_test_calc = 0\n",
    "for pred_test_item in pred_test_acc:\n",
    "    # calculate the total accuracy on testing\n",
    "    pred_test_calc += pred_test_item\n",
    "    \n",
    "    \n",
    "# derive the average of the total accuracy on testing.\n",
    "pred_test = (pred_test_calc/len(pred_test_acc) > 0.5).astype(int)"
   ]
  },
  {
   "cell_type": "code",
   "execution_count": 239,
   "metadata": {},
   "outputs": [
    {
     "name": "stdout",
     "output_type": "stream",
     "text": [
      "Recall (Sensivity): 0.84\n",
      "Specificity: 0.94\n",
      "Precision: 0.89\n",
      "Balanced Accuracy: 0.89\n",
      "F1 Score: 0.87\n"
     ]
    }
   ],
   "source": [
    "# Dynamically calculating Recall(Sensitivity), Specificity, Precision, Balanced Accuracy and F1-Score\n",
    "TN, FP, FN, TP = metrics.confusion_matrix(y_true=y_test_cat, y_pred=pred_test).ravel() # return the elements of the matrix as array\n",
    "\n",
    "Specificity = TN/(TN+FP)\n",
    "\n",
    "Precision = TP/(TP+FP)\n",
    "\n",
    "Recall = TP/(TP+FN)\n",
    "\n",
    "F1Score = 2 * ((Precision * Recall)/(Precision + Recall))\n",
    "\n",
    "BalancedAccuracy = (Recall  + Specificity)/2\n",
    "\n",
    "print('Recall (Sensivity): %s' %(str(roundOffValue(Recall))))\n",
    "print('Specificity: %s' %(str(roundOffValue(Specificity))))\n",
    "print('Precision: %s' %(str(roundOffValue(Precision))))\n",
    "print('Balanced Accuracy: %s' %(str(roundOffValue(BalancedAccuracy))))\n",
    "print('F1 Score: %s' %(str(roundOffValue(F1Score))))"
   ]
  },
  {
   "cell_type": "code",
   "execution_count": 240,
   "metadata": {},
   "outputs": [],
   "source": [
    "votingClassifierMetrics_testing = ['Voting Classifier With Hard voting on testing set', roundOffValue(metrics.accuracy_score(y_test_cat, pred_test)), roundOffValue(Recall), roundOffValue(Specificity), roundOffValue(Precision), roundOffValue(BalancedAccuracy), roundOffValue(F1Score)]"
   ]
  },
  {
   "cell_type": "code",
   "execution_count": 241,
   "metadata": {},
   "outputs": [],
   "source": [
    "# adding the metrics list of the voting Classifier metrics on testing to the list of list, best_two_classifiers_on_Test\n",
    "best_two_classifiers_on_Test.append(votingClassifierMetrics_testing)"
   ]
  },
  {
   "cell_type": "code",
   "execution_count": 242,
   "metadata": {},
   "outputs": [
    {
     "data": {
      "text/plain": [
       "[['Voting Classifier With Hard voting on testing set',\n",
       "  0.9,\n",
       "  0.84,\n",
       "  0.94,\n",
       "  0.89,\n",
       "  0.89,\n",
       "  0.87]]"
      ]
     },
     "execution_count": 242,
     "metadata": {},
     "output_type": "execute_result"
    }
   ],
   "source": [
    "best_two_classifiers_on_Test"
   ]
  },
  {
   "cell_type": "markdown",
   "metadata": {},
   "source": [
    "#### Using GridSearchCV RBF Kernel SVC With PCA transformed data"
   ]
  },
  {
   "cell_type": "code",
   "execution_count": 243,
   "metadata": {},
   "outputs": [],
   "source": [
    "# predict the accuracy on the testing transformed data set using PCA\n",
    "y_pred_test = gridSearchCV_rbf_K_SVC_With_PCA_transformed_data.predict(X_test_pca2)"
   ]
  },
  {
   "cell_type": "code",
   "execution_count": 244,
   "metadata": {},
   "outputs": [
    {
     "name": "stdout",
     "output_type": "stream",
     "text": [
      "\n",
      "The Confusion Matrix is given below:\n"
     ]
    },
    {
     "data": {
      "image/png": "[encoded data removed]",
      "text/plain": [
       "<Figure size 1440x864 with 2 Axes>"
      ]
     },
     "metadata": {},
     "output_type": "display_data"
    },
    {
     "name": "stdout",
     "output_type": "stream",
     "text": [
      "\n",
      "The classification report is given below:\n",
      "              precision    recall  f1-score   support\n",
      "\n",
      "         0.0       0.93      0.94      0.93       467\n",
      "         1.0       0.89      0.89      0.89       272\n",
      "\n",
      "    accuracy                           0.92       739\n",
      "   macro avg       0.91      0.91      0.91       739\n",
      "weighted avg       0.92      0.92      0.92       739\n",
      "\n",
      "Recall (Sensivity): 0.89\n",
      "Specificity: 0.94\n",
      "Precision: 0.89\n",
      "Balanced Accuracy: 0.91\n",
      "F1 Score: 0.89\n"
     ]
    }
   ],
   "source": [
    "class_Metrics=deriveConfusionMatrix(y_test_cat, y_pred_test)\n",
    "listOfMetrics = list(class_Metrics) # convert the tuple into a list\n",
    "all_metrics = ['GridSearchCV RBF Kernel SVC With PCA transformed data', \n",
    "                   roundOffValue(metrics.accuracy_score(y_true=y_test_cat, y_pred=y_pred_test)),  \n",
    "                  ]\n",
    "# loop through the items of the list and add them to the list of all metrics\n",
    "for item in listOfMetrics: \n",
    "    all_metrics.append(item)"
   ]
  },
  {
   "cell_type": "code",
   "execution_count": 245,
   "metadata": {},
   "outputs": [],
   "source": [
    "# adding the all_metrics list to the list of list, best_two_classifiers_on_Test\n",
    "best_two_classifiers_on_Test.append(all_metrics)"
   ]
  },
  {
   "cell_type": "code",
   "execution_count": 246,
   "metadata": {},
   "outputs": [
    {
     "data": {
      "text/plain": [
       "[['Voting Classifier With Hard voting on testing set',\n",
       "  0.9,\n",
       "  0.84,\n",
       "  0.94,\n",
       "  0.89,\n",
       "  0.89,\n",
       "  0.87],\n",
       " ['GridSearchCV RBF Kernel SVC With PCA transformed data',\n",
       "  0.92,\n",
       "  0.89,\n",
       "  0.94,\n",
       "  0.89,\n",
       "  0.91,\n",
       "  0.89]]"
      ]
     },
     "execution_count": 246,
     "metadata": {},
     "output_type": "execute_result"
    }
   ],
   "source": [
    "best_two_classifiers_on_Test"
   ]
  },
  {
   "cell_type": "code",
   "execution_count": 247,
   "metadata": {},
   "outputs": [],
   "source": [
    "# let's create a mask for the best two classifiers on training and validation\n",
    "classifier_mask = df_classifiers_Sorted['ModelName'].isin(['Voting Classifier With Hard voting', 'GridSearchCV RBF Kernel SVC With PCA transformed data'])\n",
    "df_best_classifier_model = df_classifiers_Sorted[classifier_mask]\n",
    "\n",
    "# let's create a copy of the data set.\n",
    "df_best_two_classifiers = df_best_classifier_model.copy()"
   ]
  },
  {
   "cell_type": "markdown",
   "metadata": {},
   "source": [
    "- Two best classifiers on training and validation data sets."
   ]
  },
  {
   "cell_type": "code",
   "execution_count": 248,
   "metadata": {},
   "outputs": [
    {
     "data": {
      "text/html": [
       "<div>\n",
       "<style scoped>\n",
       "    .dataframe tbody tr th:only-of-type {\n",
       "        vertical-align: middle;\n",
       "    }\n",
       "\n",
       "    .dataframe tbody tr th {\n",
       "        vertical-align: top;\n",
       "    }\n",
       "\n",
       "    .dataframe thead th {\n",
       "        text-align: right;\n",
       "    }\n",
       "</style>\n",
       "<table border=\"1\" class=\"dataframe\">\n",
       "  <thead>\n",
       "    <tr style=\"text-align: right;\">\n",
       "      <th></th>\n",
       "      <th>ModelName</th>\n",
       "      <th>AccuracyOnTraining</th>\n",
       "      <th>AccuracyOnval</th>\n",
       "      <th>RecallOnVal</th>\n",
       "      <th>SpecificityOnVal</th>\n",
       "      <th>PrecisionOnVal</th>\n",
       "      <th>BalancedAccuracyOnVal</th>\n",
       "      <th>F1ScoreOnVal</th>\n",
       "      <th>Differencebtn_trainAcc&amp;ValAcc</th>\n",
       "    </tr>\n",
       "  </thead>\n",
       "  <tbody>\n",
       "    <tr>\n",
       "      <th>5</th>\n",
       "      <td>Voting Classifier With Hard voting</td>\n",
       "      <td>0.92</td>\n",
       "      <td>0.91</td>\n",
       "      <td>0.85</td>\n",
       "      <td>0.95</td>\n",
       "      <td>0.91</td>\n",
       "      <td>0.90</td>\n",
       "      <td>0.88</td>\n",
       "      <td>0.01</td>\n",
       "    </tr>\n",
       "    <tr>\n",
       "      <th>1</th>\n",
       "      <td>GridSearchCV RBF Kernel SVC With PCA transform...</td>\n",
       "      <td>0.93</td>\n",
       "      <td>0.91</td>\n",
       "      <td>0.86</td>\n",
       "      <td>0.94</td>\n",
       "      <td>0.90</td>\n",
       "      <td>0.90</td>\n",
       "      <td>0.88</td>\n",
       "      <td>0.02</td>\n",
       "    </tr>\n",
       "  </tbody>\n",
       "</table>\n",
       "</div>"
      ],
      "text/plain": [
       "                                           ModelName  AccuracyOnTraining  \\\n",
       "5                 Voting Classifier With Hard voting                0.92   \n",
       "1  GridSearchCV RBF Kernel SVC With PCA transform...                0.93   \n",
       "\n",
       "   AccuracyOnval  RecallOnVal  SpecificityOnVal  PrecisionOnVal  \\\n",
       "5           0.91         0.85              0.95            0.91   \n",
       "1           0.91         0.86              0.94            0.90   \n",
       "\n",
       "   BalancedAccuracyOnVal  F1ScoreOnVal  Differencebtn_trainAcc&ValAcc  \n",
       "5                   0.90          0.88                           0.01  \n",
       "1                   0.90          0.88                           0.02  "
      ]
     },
     "execution_count": 248,
     "metadata": {},
     "output_type": "execute_result"
    }
   ],
   "source": [
    "df_best_two_classifiers"
   ]
  },
  {
   "cell_type": "markdown",
   "metadata": {},
   "source": [
    "#### So, the best two classifiers on the testing data:"
   ]
  },
  {
   "cell_type": "code",
   "execution_count": 249,
   "metadata": {},
   "outputs": [
    {
     "data": {
      "text/html": [
       "<div>\n",
       "<style scoped>\n",
       "    .dataframe tbody tr th:only-of-type {\n",
       "        vertical-align: middle;\n",
       "    }\n",
       "\n",
       "    .dataframe tbody tr th {\n",
       "        vertical-align: top;\n",
       "    }\n",
       "\n",
       "    .dataframe thead th {\n",
       "        text-align: right;\n",
       "    }\n",
       "</style>\n",
       "<table border=\"1\" class=\"dataframe\">\n",
       "  <thead>\n",
       "    <tr style=\"text-align: right;\">\n",
       "      <th></th>\n",
       "      <th>ModelName</th>\n",
       "      <th>AccuracyOnTest</th>\n",
       "      <th>RecallOnTest</th>\n",
       "      <th>SpecificityOnTest</th>\n",
       "      <th>PrecisionOnTest</th>\n",
       "      <th>BalancedAccuracyOnTest</th>\n",
       "      <th>F1ScoreOnTest</th>\n",
       "    </tr>\n",
       "  </thead>\n",
       "  <tbody>\n",
       "    <tr>\n",
       "      <th>0</th>\n",
       "      <td>Voting Classifier With Hard voting on testing set</td>\n",
       "      <td>0.90</td>\n",
       "      <td>0.84</td>\n",
       "      <td>0.94</td>\n",
       "      <td>0.89</td>\n",
       "      <td>0.89</td>\n",
       "      <td>0.87</td>\n",
       "    </tr>\n",
       "    <tr>\n",
       "      <th>1</th>\n",
       "      <td>GridSearchCV RBF Kernel SVC With PCA transform...</td>\n",
       "      <td>0.92</td>\n",
       "      <td>0.89</td>\n",
       "      <td>0.94</td>\n",
       "      <td>0.89</td>\n",
       "      <td>0.91</td>\n",
       "      <td>0.89</td>\n",
       "    </tr>\n",
       "  </tbody>\n",
       "</table>\n",
       "</div>"
      ],
      "text/plain": [
       "                                           ModelName  AccuracyOnTest  \\\n",
       "0  Voting Classifier With Hard voting on testing set            0.90   \n",
       "1  GridSearchCV RBF Kernel SVC With PCA transform...            0.92   \n",
       "\n",
       "   RecallOnTest  SpecificityOnTest  PrecisionOnTest  BalancedAccuracyOnTest  \\\n",
       "0          0.84               0.94             0.89                    0.89   \n",
       "1          0.89               0.94             0.89                    0.91   \n",
       "\n",
       "   F1ScoreOnTest  \n",
       "0           0.87  \n",
       "1           0.89  "
      ]
     },
     "execution_count": 249,
     "metadata": {},
     "output_type": "execute_result"
    }
   ],
   "source": [
    "df_classifiers_test = pd.DataFrame(data=best_two_classifiers_on_Test, columns=['ModelName', 'AccuracyOnTest', 'RecallOnTest', 'SpecificityOnTest', 'PrecisionOnTest', 'BalancedAccuracyOnTest', 'F1ScoreOnTest'])\n",
    "df_classifiers_test # displaying the contents of the data frame"
   ]
  },
  {
   "cell_type": "markdown",
   "metadata": {},
   "source": [
    "<p>From the data frame above, <b>RBF Kernel Support Vector Classifier(SVC)</b> optimized with GridSearchCV and built with PCA transformed data is the best model since using the testing data set it has a high Recall of 0.89, Specificity of 0.94, Balanced Accuracy of 0.91 and F1 Score of 0.89. These results are expected because using the PCA transformed data, all the correlated variables have been eliminated through PCA.</p>"
   ]
  },
  {
   "cell_type": "markdown",
   "metadata": {},
   "source": [
    "- What did you learn in this project? Any suggestions?"
   ]
  },
  {
   "cell_type": "markdown",
   "metadata": {},
   "source": [
    "   - I learnt to explore several linear regressors using the given data set and from this exercise I should be in position to tackle any regression project. Also, I learnt using $R^2$ and $RMSE$ to measure the performance of any linear regression model used.\n",
    "   - Through using GridSearchCV, I learnt tuning the performance of any linear regression model.\n",
    "   - I learnt to transform the data using PCA. \n",
    "   - I learnt to use my critical thinking skills on how to select the best model. \n",
    "   - I learnt to convert a numerical target variable into binary category variable with the goal of doing classification.\n",
    "   - I learnt how to build model using the PCA tranasformed data set.\n",
    "   - I learnt how to split a data set into training and testing and again splitting the training and validation with the goal of using the testing data set only once after the model implementation and evaluation, which uses the training and validation data sets; here we only use the testing data set at the end after implementing and evaluating your model.\n",
    "   - Finally, I also learnt how to explore different ways of improving the performance of the linear regressors and classifiers. "
   ]
  },
  {
   "cell_type": "markdown",
   "metadata": {},
   "source": [
    "# Thank you\n",
    "Ilyas Ustun  \n",
    "twitter: \\_ilyas\\_ustun\\_"
   ]
  }
 ],
 "metadata": {
  "kernelspec": {
   "display_name": "Python 3 (ipykernel)",
   "language": "python",
   "name": "python3"
  },
  "language_info": {
   "codemirror_mode": {
    "name": "ipython",
    "version": 3
   },
   "file_extension": ".py",
   "mimetype": "text/x-python",
   "name": "python",
   "nbconvert_exporter": "python",
   "pygments_lexer": "ipython3",
   "version": "3.8.12"
  },
  "toc": {
   "base_numbering": 1,
   "nav_menu": {},
   "number_sections": false,
   "sideBar": false,
   "skip_h1_title": false,
   "title_cell": "Table of Contents",
   "title_sidebar": "Contents",
   "toc_cell": false,
   "toc_position": {},
   "toc_section_display": false,
   "toc_window_display": false
  }
 },
 "nbformat": 4,
 "nbformat_minor": 4
}
